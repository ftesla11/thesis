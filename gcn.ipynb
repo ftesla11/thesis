{
 "nbformat": 4,
 "nbformat_minor": 2,
 "metadata": {
  "language_info": {
   "name": "python",
   "codemirror_mode": {
    "name": "ipython",
    "version": 3
   },
   "version": "3.7.3-final"
  },
  "orig_nbformat": 2,
  "file_extension": ".py",
  "mimetype": "text/x-python",
  "name": "python",
  "npconvert_exporter": "python",
  "pygments_lexer": "ipython3",
  "version": 3,
  "kernelspec": {
   "name": "python37364bitbasecondad424485431ff4a8aa076a99cfa3fb48c",
   "display_name": "Python 3.7.3 64-bit ('base': conda)"
  }
 },
 "cells": [
  {
   "cell_type": "code",
   "execution_count": 9,
   "metadata": {},
   "outputs": [],
   "source": [
    "import torch\n",
    "import dgl\n",
    "import dgl.function as fn\n",
    "import torch.nn as nn\n",
    "import torch.nn.functional as F\n",
    "from dgl import DGLGraph"
   ]
  },
  {
   "cell_type": "code",
   "execution_count": 10,
   "metadata": {},
   "outputs": [],
   "source": [
    "class GCNLayer(nn.Module):\n",
    "    def __init__(self, layer_input, layer_output):\n",
    "        super(GCNLayer, self).__init__()\n",
    "        self.linear = nn.Linear(layer_input, layer_output)\n",
    "\n",
    "    def forward(self, g, feature):\n",
    "        # Creating a local scope so that all the stored ndata and edata\n",
    "        # (such as the `'h'` ndata below) are automatically popped out\n",
    "        # when the scope exits.\n",
    "        # g.ndata: nodes\n",
    "        # g.edata: edges\n",
    "        with g.local_scope():\n",
    "            g.ndata['h'] = feature\n",
    "            g.update_all(fn.copy_src(src='h', out='m'), fn.sum(msg='m', out='h'))\n",
    "            h = g.ndata['h']\n",
    "            return self.linear(h)"
   ]
  },
  {
   "cell_type": "code",
   "execution_count": 12,
   "metadata": {},
   "outputs": [
    {
     "name": "stdout",
     "output_type": "stream",
     "text": "GCN(\n  (layer1): GCNLayer(\n    (linear): Linear(in_features=1433, out_features=16, bias=True)\n  )\n  (layer2): GCNLayer(\n    (linear): Linear(in_features=16, out_features=7, bias=True)\n  )\n)\n"
    }
   ],
   "source": [
    "class GCN(nn.Module):\n",
    "    def __init__(self):\n",
    "        super(GCN, self).__init__()\n",
    "        # Initialize the layers\n",
    "        # Input feature size: 1433\n",
    "        # Output: 7 labels (classes)\n",
    "        self.layer1 = GCNLayer(1433,16)\n",
    "        self.layer2 = GCNLayer(16, 7)\n",
    "\n",
    "    def forward(self, g, features):\n",
    "        # ReLU as activation function\n",
    "        x = F.relu(self.layer1(g, features))\n",
    "        x = self.layer2(g, x)\n",
    "        return x\n",
    "\n",
    "\n",
    "net = GCN()\n",
    "print(net)"
   ]
  },
  {
   "cell_type": "code",
   "execution_count": 50,
   "metadata": {},
   "outputs": [],
   "source": [
    "from dgl.data import citation_graph as citegrh\n",
    "import networkx as nx\n",
    "\n",
    "def load_cora_data():\n",
    "    data = citegrh.load_cora()\n",
    "    features = torch.Tensor(data.features)\n",
    "    labels = torch.LongTensor(data.labels)\n",
    "    train_mask = torch.BoolTensor(data.train_mask)\n",
    "    test_mask = torch.BoolTensor(data.test_mask)\n",
    "    g = DGLGraph(data.graph)\n",
    "    return g, features, labels, train_mask, test_mask"
   ]
  },
  {
   "cell_type": "code",
   "execution_count": 51,
   "metadata": {},
   "outputs": [],
   "source": [
    "def evaluate(model, g, features, labels, test_mask):\n",
    "    # Enter eval mode instead of training mode\n",
    "    model.eval()\n",
    "\n",
    "    # Deactivate autograd engine, reduce memory and speed up computations\n",
    "    # Generally always recommended for validation\n",
    "    with torch.no_grad():\n",
    "        logits = model(g, features)\n",
    "        logits = logits[test_mask]\n",
    "        labels = labels[test_mask]\n",
    "        # Get index of the highest value (highest probability of prediction)\n",
    "        _, indices = torch.max(logits, dim=1)\n",
    "        correct = torch.sum(indices == labels)\n",
    "        return correct.item() / len(labels)"
   ]
  },
  {
   "cell_type": "code",
   "execution_count": 52,
   "metadata": {},
   "outputs": [
    {
     "name": "stdout",
     "output_type": "stream",
     "text": "Epoch 00000 | Loss 0.0112 | Test Acc 0.7730\nEpoch 00001 | Loss 0.0428 | Test Acc 0.7710\nEpoch 00002 | Loss 0.0161 | Test Acc 0.7580\nEpoch 00003 | Loss 0.0254 | Test Acc 0.7520\nEpoch 00004 | Loss 0.0261 | Test Acc 0.7580\nEpoch 00005 | Loss 0.0133 | Test Acc 0.7630\nEpoch 00006 | Loss 0.0129 | Test Acc 0.7630\nEpoch 00007 | Loss 0.0194 | Test Acc 0.7610\nEpoch 00008 | Loss 0.0201 | Test Acc 0.7640\nEpoch 00009 | Loss 0.0153 | Test Acc 0.7580\nEpoch 00010 | Loss 0.0106 | Test Acc 0.7500\nEpoch 00011 | Loss 0.0128 | Test Acc 0.7440\nEpoch 00012 | Loss 0.0163 | Test Acc 0.7440\nEpoch 00013 | Loss 0.0153 | Test Acc 0.7460\nEpoch 00014 | Loss 0.0116 | Test Acc 0.7560\nEpoch 00015 | Loss 0.0106 | Test Acc 0.7570\nEpoch 00016 | Loss 0.0128 | Test Acc 0.7560\nEpoch 00017 | Loss 0.0140 | Test Acc 0.7540\nEpoch 00018 | Loss 0.0127 | Test Acc 0.7540\nEpoch 00019 | Loss 0.0106 | Test Acc 0.7430\nEpoch 00020 | Loss 0.0107 | Test Acc 0.7420\nEpoch 00021 | Loss 0.0122 | Test Acc 0.7420\nEpoch 00022 | Loss 0.0124 | Test Acc 0.7430\nEpoch 00023 | Loss 0.0111 | Test Acc 0.7520\nEpoch 00024 | Loss 0.0102 | Test Acc 0.7540\nEpoch 00025 | Loss 0.0109 | Test Acc 0.7530\nEpoch 00026 | Loss 0.0117 | Test Acc 0.7530\nEpoch 00027 | Loss 0.0112 | Test Acc 0.7520\nEpoch 00028 | Loss 0.0103 | Test Acc 0.7460\nEpoch 00029 | Loss 0.0103 | Test Acc 0.7450\nEpoch 00030 | Loss 0.0110 | Test Acc 0.7450\nEpoch 00031 | Loss 0.0110 | Test Acc 0.7460\nEpoch 00032 | Loss 0.0104 | Test Acc 0.7520\nEpoch 00033 | Loss 0.0102 | Test Acc 0.7540\nEpoch 00034 | Loss 0.0105 | Test Acc 0.7540\nEpoch 00035 | Loss 0.0107 | Test Acc 0.7550\nEpoch 00036 | Loss 0.0104 | Test Acc 0.7550\nEpoch 00037 | Loss 0.0101 | Test Acc 0.7490\nEpoch 00038 | Loss 0.0103 | Test Acc 0.7490\nEpoch 00039 | Loss 0.0105 | Test Acc 0.7490\nEpoch 00040 | Loss 0.0103 | Test Acc 0.7520\nEpoch 00041 | Loss 0.0101 | Test Acc 0.7580\nEpoch 00042 | Loss 0.0102 | Test Acc 0.7560\nEpoch 00043 | Loss 0.0103 | Test Acc 0.7560\nEpoch 00044 | Loss 0.0103 | Test Acc 0.7570\nEpoch 00045 | Loss 0.0101 | Test Acc 0.7510\nEpoch 00046 | Loss 0.0101 | Test Acc 0.7520\nEpoch 00047 | Loss 0.0102 | Test Acc 0.7520\nEpoch 00048 | Loss 0.0102 | Test Acc 0.7520\nEpoch 00049 | Loss 0.0101 | Test Acc 0.7560\n"
    }
   ],
   "source": [
    "import time\n",
    "import numpy as np\n",
    "\n",
    "# Load the data\n",
    "g, features, labels, train_mask, test_mask = load_cora_data()\n",
    "\n",
    "# Initialize the optimizer\n",
    "optimizer = torch.optim.Adam(net.parameters(), lr=0.01)\n",
    "\n",
    "for epoch in range(50):\n",
    "\n",
    "    # Enter training mode\n",
    "    net.train()\n",
    "\n",
    "    # Vector of raw non-normalized predictions\n",
    "    logits = net(g, features)\n",
    "\n",
    "    normalized = F.log_softmax(logits, 1)\n",
    "    loss = F.nll_loss(normalized[train_mask], labels[train_mask])\n",
    "\n",
    "    # Default action: sum the loss.backward() which is only useful in cases like RNNs\n",
    "    # Call zero_grad() to reset the gradients to 0 on every loop\n",
    "    optimizer.zero_grad()\n",
    "\n",
    "    # Computes gradient of loss w.r.t all the parameters in the loss\n",
    "    loss.backward()\n",
    "\n",
    "    # Updates all the parameters based on the newly computed gradient\n",
    "    optimizer.step()\n",
    "\n",
    "    acc = evaluate(net, g, features, labels, test_mask)\n",
    "    print(\"Epoch {:05d} | Loss {:.4f} | Test Acc {:.4f}\".format(epoch, loss.item(), acc))\n",
    "\n",
    "\n",
    "\n"
   ]
  },
  {
   "cell_type": "code",
   "execution_count": 92,
   "metadata": {},
   "outputs": [
    {
     "name": "stdout",
     "output_type": "stream",
     "text": "tensor(True)\n"
    }
   ],
   "source": [
    "g, features, labels, train_mask, test_mask = load_cora_data()\n",
    "print(train_mask[0])"
   ]
  },
  {
   "cell_type": "code",
   "execution_count": 91,
   "metadata": {},
   "outputs": [
    {
     "ename": "IndexError",
     "evalue": "The shape of the mask [2708] at index 0 does not match the shape of the indexed tensor [1000] at index 0",
     "output_type": "error",
     "traceback": [
      "\u001b[1;31m---------------------------------------------------------------------------\u001b[0m",
      "\u001b[1;31mIndexError\u001b[0m                                Traceback (most recent call last)",
      "\u001b[1;32m<ipython-input-91-bd0ce285ea8e>\u001b[0m in \u001b[0;36m<module>\u001b[1;34m\u001b[0m\n\u001b[0;32m      6\u001b[0m \u001b[1;33m\u001b[0m\u001b[0m\n\u001b[0;32m      7\u001b[0m \u001b[0mnormalized\u001b[0m \u001b[1;33m=\u001b[0m \u001b[0mF\u001b[0m\u001b[1;33m.\u001b[0m\u001b[0mlog_softmax\u001b[0m\u001b[1;33m(\u001b[0m\u001b[0mlogits\u001b[0m\u001b[1;33m,\u001b[0m \u001b[1;36m1\u001b[0m\u001b[1;33m)\u001b[0m\u001b[1;33m\u001b[0m\u001b[1;33m\u001b[0m\u001b[0m\n\u001b[1;32m----> 8\u001b[1;33m \u001b[0mloss\u001b[0m \u001b[1;33m=\u001b[0m \u001b[0mF\u001b[0m\u001b[1;33m.\u001b[0m\u001b[0mnll_loss\u001b[0m\u001b[1;33m(\u001b[0m\u001b[0mnormalized\u001b[0m\u001b[1;33m[\u001b[0m\u001b[0mtrain_mask\u001b[0m\u001b[1;33m]\u001b[0m\u001b[1;33m,\u001b[0m \u001b[0mlabels\u001b[0m\u001b[1;33m[\u001b[0m\u001b[0mtrain_mask\u001b[0m\u001b[1;33m]\u001b[0m\u001b[1;33m)\u001b[0m\u001b[1;33m\u001b[0m\u001b[1;33m\u001b[0m\u001b[0m\n\u001b[0m\u001b[0;32m      9\u001b[0m \u001b[1;33m\u001b[0m\u001b[0m\n\u001b[0;32m     10\u001b[0m \u001b[0moptimizer\u001b[0m\u001b[1;33m.\u001b[0m\u001b[0mzero_grad\u001b[0m\u001b[1;33m(\u001b[0m\u001b[1;33m)\u001b[0m\u001b[1;33m\u001b[0m\u001b[1;33m\u001b[0m\u001b[0m\n",
      "\u001b[1;31mIndexError\u001b[0m: The shape of the mask [2708] at index 0 does not match the shape of the indexed tensor [1000] at index 0"
     ]
    }
   ],
   "source": [
    "optimizer = torch.optim.Adam(net.parameters(), lr=0.01)\n",
    "\n",
    "net.train()\n",
    "\n",
    "logits = net(g, features)\n",
    "\n",
    "normalized = F.log_softmax(logits, 1)\n",
    "loss = F.nll_loss(normalized[train_mask], labels[train_mask])\n",
    "\n",
    "optimizer.zero_grad()\n",
    "\n",
    "loss.backward()\n",
    "\n",
    "optimizer.step()\n",
    "\n",
    "net.eval()\n"
   ]
  },
  {
   "cell_type": "code",
   "execution_count": 90,
   "metadata": {},
   "outputs": [
    {
     "ename": "IndexError",
     "evalue": "The shape of the mask [2708] at index 0 does not match the shape of the indexed tensor [1000] at index 0",
     "output_type": "error",
     "traceback": [
      "\u001b[1;31m---------------------------------------------------------------------------\u001b[0m",
      "\u001b[1;31mIndexError\u001b[0m                                Traceback (most recent call last)",
      "\u001b[1;32m<ipython-input-90-5020892f47cd>\u001b[0m in \u001b[0;36m<module>\u001b[1;34m\u001b[0m\n\u001b[0;32m      2\u001b[0m     \u001b[0mlogits\u001b[0m \u001b[1;33m=\u001b[0m \u001b[0mnet\u001b[0m\u001b[1;33m(\u001b[0m\u001b[0mg\u001b[0m\u001b[1;33m,\u001b[0m \u001b[0mfeatures\u001b[0m\u001b[1;33m)\u001b[0m\u001b[1;33m\u001b[0m\u001b[1;33m\u001b[0m\u001b[0m\n\u001b[0;32m      3\u001b[0m     \u001b[0mlogits\u001b[0m \u001b[1;33m=\u001b[0m \u001b[0mlogits\u001b[0m\u001b[1;33m[\u001b[0m\u001b[0mtest_mask\u001b[0m\u001b[1;33m]\u001b[0m\u001b[1;33m\u001b[0m\u001b[1;33m\u001b[0m\u001b[0m\n\u001b[1;32m----> 4\u001b[1;33m     \u001b[0mlabels\u001b[0m \u001b[1;33m=\u001b[0m \u001b[0mlabels\u001b[0m\u001b[1;33m[\u001b[0m\u001b[0mtest_mask\u001b[0m\u001b[1;33m]\u001b[0m\u001b[1;33m\u001b[0m\u001b[1;33m\u001b[0m\u001b[0m\n\u001b[0m\u001b[0;32m      5\u001b[0m     \u001b[0m_\u001b[0m\u001b[1;33m,\u001b[0m \u001b[0mindices\u001b[0m \u001b[1;33m=\u001b[0m \u001b[0mtorch\u001b[0m\u001b[1;33m.\u001b[0m\u001b[0mmax\u001b[0m\u001b[1;33m(\u001b[0m\u001b[0mlogits\u001b[0m\u001b[1;33m,\u001b[0m \u001b[0mdim\u001b[0m\u001b[1;33m=\u001b[0m\u001b[1;36m1\u001b[0m\u001b[1;33m)\u001b[0m\u001b[1;33m\u001b[0m\u001b[1;33m\u001b[0m\u001b[0m\n\u001b[0;32m      6\u001b[0m     \u001b[0mcorrect\u001b[0m \u001b[1;33m=\u001b[0m \u001b[0mtorch\u001b[0m\u001b[1;33m.\u001b[0m\u001b[0msum\u001b[0m\u001b[1;33m(\u001b[0m\u001b[0mindices\u001b[0m \u001b[1;33m==\u001b[0m \u001b[0mlabels\u001b[0m\u001b[1;33m)\u001b[0m\u001b[1;33m\u001b[0m\u001b[1;33m\u001b[0m\u001b[0m\n",
      "\u001b[1;31mIndexError\u001b[0m: The shape of the mask [2708] at index 0 does not match the shape of the indexed tensor [1000] at index 0"
     ]
    }
   ],
   "source": [
    "with torch.no_grad():\n",
    "    logits = net(g, features)\n",
    "  #  logits = logits[test_mask]\n",
    "  #  labels = labels[test_mask]\n",
    "   # _, indices = torch.max(logits, dim=1)\n",
    "   # correct = torch.sum(indices == labels)\n",
    "   # print(correct)"
   ]
  },
  {
   "cell_type": "code",
   "execution_count": 74,
   "metadata": {},
   "outputs": [
    {
     "name": "stdout",
     "output_type": "stream",
     "text": "tensor(False)\n0\ntensor(False)\n1\ntensor(False)\n2\ntensor(False)\n3\ntensor(False)\n4\ntensor(False)\n5\ntensor(False)\n6\ntensor(False)\n7\ntensor(False)\n8\ntensor(False)\n9\ntensor(False)\n10\ntensor(False)\n11\ntensor(False)\n12\ntensor(False)\n13\ntensor(False)\n14\ntensor(False)\n15\ntensor(False)\n16\ntensor(False)\n17\ntensor(False)\n18\ntensor(False)\n19\ntensor(False)\n20\ntensor(False)\n21\ntensor(False)\n22\ntensor(False)\n23\ntensor(False)\n24\ntensor(False)\n25\ntensor(False)\n26\ntensor(False)\n27\ntensor(False)\n28\ntensor(False)\n29\ntensor(False)\n30\ntensor(False)\n31\ntensor(False)\n32\ntensor(False)\n33\ntensor(False)\n34\ntensor(False)\n35\ntensor(False)\n36\ntensor(False)\n37\ntensor(False)\n38\ntensor(False)\n39\ntensor(False)\n40\ntensor(False)\n41\ntensor(False)\n42\ntensor(False)\n43\ntensor(False)\n44\ntensor(False)\n45\ntensor(False)\n46\ntensor(False)\n47\ntensor(False)\n48\ntensor(False)\n49\ntensor(False)\n50\ntensor(False)\n51\ntensor(False)\n52\ntensor(False)\n53\ntensor(False)\n54\ntensor(False)\n55\ntensor(False)\n56\ntensor(False)\n57\ntensor(False)\n58\ntensor(False)\n59\ntensor(False)\n60\ntensor(False)\n61\ntensor(False)\n62\ntensor(False)\n63\ntensor(False)\n64\ntensor(False)\n65\ntensor(False)\n66\ntensor(False)\n67\ntensor(False)\n68\ntensor(False)\n69\ntensor(False)\n70\ntensor(False)\n71\ntensor(False)\n72\ntensor(False)\n73\ntensor(False)\n74\ntensor(False)\n75\ntensor(False)\n76\ntensor(False)\n77\ntensor(False)\n78\ntensor(False)\n79\ntensor(False)\n80\ntensor(False)\n81\ntensor(False)\n82\ntensor(False)\n83\ntensor(False)\n84\ntensor(False)\n85\ntensor(False)\n86\ntensor(False)\n87\ntensor(False)\n88\ntensor(False)\n89\ntensor(False)\n90\ntensor(False)\n91\ntensor(False)\n92\ntensor(False)\n93\ntensor(False)\n94\ntensor(False)\n95\ntensor(False)\n96\ntensor(False)\n97\ntensor(False)\n98\ntensor(False)\n99\ntensor(False)\n100\ntensor(False)\n101\ntensor(False)\n102\ntensor(False)\n103\ntensor(False)\n104\ntensor(False)\n105\ntensor(False)\n106\ntensor(False)\n107\ntensor(False)\n108\ntensor(False)\n109\ntensor(False)\n110\ntensor(False)\n111\ntensor(False)\n112\ntensor(False)\n113\ntensor(False)\n114\ntensor(False)\n115\ntensor(False)\n116\ntensor(False)\n117\ntensor(False)\n118\ntensor(False)\n119\ntensor(False)\n120\ntensor(False)\n121\ntensor(False)\n122\ntensor(False)\n123\ntensor(False)\n124\ntensor(False)\n125\ntensor(False)\n126\ntensor(False)\n127\ntensor(False)\n128\ntensor(False)\n129\ntensor(False)\n130\ntensor(False)\n131\ntensor(False)\n132\ntensor(False)\n133\ntensor(False)\n134\ntensor(False)\n135\ntensor(False)\n136\ntensor(False)\n137\ntensor(False)\n138\ntensor(False)\n139\ntensor(False)\n140\ntensor(False)\n141\ntensor(False)\n142\ntensor(False)\n143\ntensor(False)\n144\ntensor(False)\n145\ntensor(False)\n146\ntensor(False)\n147\ntensor(False)\n148\ntensor(False)\n149\ntensor(False)\n150\ntensor(False)\n151\ntensor(False)\n152\ntensor(False)\n153\ntensor(False)\n154\ntensor(False)\n155\ntensor(False)\n156\ntensor(False)\n157\ntensor(False)\n158\ntensor(False)\n159\ntensor(False)\n160\ntensor(False)\n161\ntensor(False)\n162\ntensor(False)\n163\ntensor(False)\n164\ntensor(False)\n165\ntensor(False)\n166\ntensor(False)\n167\ntensor(False)\n168\ntensor(False)\n169\ntensor(False)\n170\ntensor(False)\n171\ntensor(False)\n172\ntensor(False)\n173\ntensor(False)\n174\ntensor(False)\n175\ntensor(False)\n176\ntensor(False)\n177\ntensor(False)\n178\ntensor(False)\n179\ntensor(False)\n180\ntensor(False)\n181\ntensor(False)\n182\ntensor(False)\n183\ntensor(False)\n184\ntensor(False)\n185\ntensor(False)\n186\ntensor(False)\n187\ntensor(False)\n188\ntensor(False)\n189\ntensor(False)\n190\ntensor(False)\n191\ntensor(False)\n192\ntensor(False)\n193\ntensor(False)\n194\ntensor(False)\n195\ntensor(False)\n196\ntensor(False)\n197\ntensor(False)\n198\ntensor(False)\n199\ntensor(False)\n200\ntensor(False)\n201\ntensor(False)\n202\ntensor(False)\n203\ntensor(False)\n204\ntensor(False)\n205\ntensor(False)\n206\ntensor(False)\n207\ntensor(False)\n208\ntensor(False)\n209\ntensor(False)\n210\ntensor(False)\n211\ntensor(False)\n212\ntensor(False)\n213\ntensor(False)\n214\ntensor(False)\n215\ntensor(False)\n216\ntensor(False)\n217\ntensor(False)\n218\ntensor(False)\n219\ntensor(False)\n220\ntensor(False)\n221\ntensor(False)\n222\ntensor(False)\n223\ntensor(False)\n224\ntensor(False)\n225\ntensor(False)\n226\ntensor(False)\n227\ntensor(False)\n228\ntensor(False)\n229\ntensor(False)\n230\ntensor(False)\n231\ntensor(False)\n232\ntensor(False)\n233\ntensor(False)\n234\ntensor(False)\n235\ntensor(False)\n236\ntensor(False)\n237\ntensor(False)\n238\ntensor(False)\n239\ntensor(False)\n240\ntensor(False)\n241\ntensor(False)\n242\ntensor(False)\n243\ntensor(False)\n244\ntensor(False)\n245\ntensor(False)\n246\ntensor(False)\n247\ntensor(False)\n248\ntensor(False)\n249\ntensor(False)\n250\ntensor(False)\n251\ntensor(False)\n252\ntensor(False)\n253\ntensor(False)\n254\ntensor(False)\n255\ntensor(False)\n256\ntensor(False)\n257\ntensor(False)\n258\ntensor(False)\n259\ntensor(False)\n260\ntensor(False)\n261\ntensor(False)\n262\ntensor(False)\n263\ntensor(False)\n264\ntensor(False)\n265\ntensor(False)\n266\ntensor(False)\n267\ntensor(False)\n268\ntensor(False)\n269\ntensor(False)\n270\ntensor(False)\n271\ntensor(False)\n272\ntensor(False)\n273\ntensor(False)\n274\ntensor(False)\n275\ntensor(False)\n276\ntensor(False)\n277\ntensor(False)\n278\ntensor(False)\n279\ntensor(False)\n280\ntensor(False)\n281\ntensor(False)\n282\ntensor(False)\n283\ntensor(False)\n284\ntensor(False)\n285\ntensor(False)\n286\ntensor(False)\n287\ntensor(False)\n288\ntensor(False)\n289\ntensor(False)\n290\ntensor(False)\n291\ntensor(False)\n292\ntensor(False)\n293\ntensor(False)\n294\ntensor(False)\n295\ntensor(False)\n296\ntensor(False)\n297\ntensor(False)\n298\ntensor(False)\n299\ntensor(False)\n300\ntensor(False)\n301\ntensor(False)\n302\ntensor(False)\n303\ntensor(False)\n304\ntensor(False)\n305\ntensor(False)\n306\ntensor(False)\n307\ntensor(False)\n308\ntensor(False)\n309\ntensor(False)\n310\ntensor(False)\n311\ntensor(False)\n312\ntensor(False)\n313\ntensor(False)\n314\ntensor(False)\n315\ntensor(False)\n316\ntensor(False)\n317\ntensor(False)\n318\ntensor(False)\n319\ntensor(False)\n320\ntensor(False)\n321\ntensor(False)\n322\ntensor(False)\n323\ntensor(False)\n324\ntensor(False)\n325\ntensor(False)\n326\ntensor(False)\n327\ntensor(False)\n328\ntensor(False)\n329\ntensor(False)\n330\ntensor(False)\n331\ntensor(False)\n332\ntensor(False)\n333\ntensor(False)\n334\ntensor(False)\n335\ntensor(False)\n336\ntensor(False)\n337\ntensor(False)\n338\ntensor(False)\n339\ntensor(False)\n340\ntensor(False)\n341\ntensor(False)\n342\ntensor(False)\n343\ntensor(False)\n344\ntensor(False)\n345\ntensor(False)\n346\ntensor(False)\n347\ntensor(False)\n348\ntensor(False)\n349\ntensor(False)\n350\ntensor(False)\n351\ntensor(False)\n352\ntensor(False)\n353\ntensor(False)\n354\ntensor(False)\n355\ntensor(False)\n356\ntensor(False)\n357\ntensor(False)\n358\ntensor(False)\n359\ntensor(False)\n360\ntensor(False)\n361\ntensor(False)\n362\ntensor(False)\n363\ntensor(False)\n364\ntensor(False)\n365\ntensor(False)\n366\ntensor(False)\n367\ntensor(False)\n368\ntensor(False)\n369\ntensor(False)\n370\ntensor(False)\n371\ntensor(False)\n372\ntensor(False)\n373\ntensor(False)\n374\ntensor(False)\n375\ntensor(False)\n376\ntensor(False)\n377\ntensor(False)\n378\ntensor(False)\n379\ntensor(False)\n380\ntensor(False)\n381\ntensor(False)\n382\ntensor(False)\n383\ntensor(False)\n384\ntensor(False)\n385\ntensor(False)\n386\ntensor(False)\n387\ntensor(False)\n388\ntensor(False)\n389\ntensor(False)\n390\ntensor(False)\n391\ntensor(False)\n392\ntensor(False)\n393\ntensor(False)\n394\ntensor(False)\n395\ntensor(False)\n396\ntensor(False)\n397\ntensor(False)\n398\ntensor(False)\n399\ntensor(False)\n400\ntensor(False)\n401\ntensor(False)\n402\ntensor(False)\n403\ntensor(False)\n404\ntensor(False)\n405\ntensor(False)\n406\ntensor(False)\n407\ntensor(False)\n408\ntensor(False)\n409\ntensor(False)\n410\ntensor(False)\n411\ntensor(False)\n412\ntensor(False)\n413\ntensor(False)\n414\ntensor(False)\n415\ntensor(False)\n416\ntensor(False)\n417\ntensor(False)\n418\ntensor(False)\n419\ntensor(False)\n420\ntensor(False)\n421\ntensor(False)\n422\ntensor(False)\n423\ntensor(False)\n424\ntensor(False)\n425\ntensor(False)\n426\ntensor(False)\n427\ntensor(False)\n428\ntensor(False)\n429\ntensor(False)\n430\ntensor(False)\n431\ntensor(False)\n432\ntensor(False)\n433\ntensor(False)\n434\ntensor(False)\n435\ntensor(False)\n436\ntensor(False)\n437\ntensor(False)\n438\ntensor(False)\n439\ntensor(False)\n440\ntensor(False)\n441\ntensor(False)\n442\ntensor(False)\n443\ntensor(False)\n444\ntensor(False)\n445\ntensor(False)\n446\ntensor(False)\n447\ntensor(False)\n448\ntensor(False)\n449\ntensor(False)\n450\ntensor(False)\n451\ntensor(False)\n452\ntensor(False)\n453\ntensor(False)\n454\ntensor(False)\n455\ntensor(False)\n456\ntensor(False)\n457\ntensor(False)\n458\ntensor(False)\n459\ntensor(False)\n460\ntensor(False)\n461\ntensor(False)\n462\ntensor(False)\n463\ntensor(False)\n464\ntensor(False)\n465\ntensor(False)\n466\ntensor(False)\n467\ntensor(False)\n468\ntensor(False)\n469\ntensor(False)\n470\ntensor(False)\n471\ntensor(False)\n472\ntensor(False)\n473\ntensor(False)\n474\ntensor(False)\n475\ntensor(False)\n476\ntensor(False)\n477\ntensor(False)\n478\ntensor(False)\n479\ntensor(False)\n480\ntensor(False)\n481\ntensor(False)\n482\ntensor(False)\n483\ntensor(False)\n484\ntensor(False)\n485\ntensor(False)\n486\ntensor(False)\n487\ntensor(False)\n488\ntensor(False)\n489\ntensor(False)\n490\ntensor(False)\n491\ntensor(False)\n492\ntensor(False)\n493\ntensor(False)\n494\ntensor(False)\n495\ntensor(False)\n496\ntensor(False)\n497\ntensor(False)\n498\ntensor(False)\n499\ntensor(True)\n500\ntensor(True)\n501\ntensor(True)\n502\ntensor(True)\n503\ntensor(True)\n504\ntensor(True)\n505\ntensor(True)\n506\ntensor(True)\n507\ntensor(True)\n508\ntensor(True)\n509\ntensor(True)\n510\ntensor(True)\n511\ntensor(True)\n512\ntensor(True)\n513\ntensor(True)\n514\ntensor(True)\n515\ntensor(True)\n516\ntensor(True)\n517\ntensor(True)\n518\ntensor(True)\n519\ntensor(True)\n520\ntensor(True)\n521\ntensor(True)\n522\ntensor(True)\n523\ntensor(True)\n524\ntensor(True)\n525\ntensor(True)\n526\ntensor(True)\n527\ntensor(True)\n528\ntensor(True)\n529\ntensor(True)\n530\ntensor(True)\n531\ntensor(True)\n532\ntensor(True)\n533\ntensor(True)\n534\ntensor(True)\n535\ntensor(True)\n536\ntensor(True)\n537\ntensor(True)\n538\ntensor(True)\n539\ntensor(True)\n540\ntensor(True)\n541\ntensor(True)\n542\ntensor(True)\n543\ntensor(True)\n544\ntensor(True)\n545\ntensor(True)\n546\ntensor(True)\n547\ntensor(True)\n548\ntensor(True)\n549\ntensor(True)\n550\ntensor(True)\n551\ntensor(True)\n552\ntensor(True)\n553\ntensor(True)\n554\ntensor(True)\n555\ntensor(True)\n556\ntensor(True)\n557\ntensor(True)\n558\ntensor(True)\n559\ntensor(True)\n560\ntensor(True)\n561\ntensor(True)\n562\ntensor(True)\n563\ntensor(True)\n564\ntensor(True)\n565\ntensor(True)\n566\ntensor(True)\n567\ntensor(True)\n568\ntensor(True)\n569\ntensor(True)\n570\ntensor(True)\n571\ntensor(True)\n572\ntensor(True)\n573\ntensor(True)\n574\ntensor(True)\n575\ntensor(True)\n576\ntensor(True)\n577\ntensor(True)\n578\ntensor(True)\n579\ntensor(True)\n580\ntensor(True)\n581\ntensor(True)\n582\ntensor(True)\n583\ntensor(True)\n584\ntensor(True)\n585\ntensor(True)\n586\ntensor(True)\n587\ntensor(True)\n588\ntensor(True)\n589\ntensor(True)\n590\ntensor(True)\n591\ntensor(True)\n592\ntensor(True)\n593\ntensor(True)\n594\ntensor(True)\n595\ntensor(True)\n596\ntensor(True)\n597\ntensor(True)\n598\ntensor(True)\n599\ntensor(True)\n600\ntensor(True)\n601\ntensor(True)\n602\ntensor(True)\n603\ntensor(True)\n604\ntensor(True)\n605\ntensor(True)\n606\ntensor(True)\n607\ntensor(True)\n608\ntensor(True)\n609\ntensor(True)\n610\ntensor(True)\n611\ntensor(True)\n612\ntensor(True)\n613\ntensor(True)\n614\ntensor(True)\n615\ntensor(True)\n616\ntensor(True)\n617\ntensor(True)\n618\ntensor(True)\n619\ntensor(True)\n620\ntensor(True)\n621\ntensor(True)\n622\ntensor(True)\n623\ntensor(True)\n624\ntensor(True)\n625\ntensor(True)\n626\ntensor(True)\n627\ntensor(True)\n628\ntensor(True)\n629\ntensor(True)\n630\ntensor(True)\n631\ntensor(True)\n632\ntensor(True)\n633\ntensor(True)\n634\ntensor(True)\n635\ntensor(True)\n636\ntensor(True)\n637\ntensor(True)\n638\ntensor(True)\n639\ntensor(True)\n640\ntensor(True)\n641\ntensor(True)\n642\ntensor(True)\n643\ntensor(True)\n644\ntensor(True)\n645\ntensor(True)\n646\ntensor(True)\n647\ntensor(True)\n648\ntensor(True)\n649\ntensor(True)\n650\ntensor(True)\n651\ntensor(True)\n652\ntensor(True)\n653\ntensor(True)\n654\ntensor(True)\n655\ntensor(True)\n656\ntensor(True)\n657\ntensor(True)\n658\ntensor(True)\n659\ntensor(True)\n660\ntensor(True)\n661\ntensor(True)\n662\ntensor(True)\n663\ntensor(True)\n664\ntensor(True)\n665\ntensor(True)\n666\ntensor(True)\n667\ntensor(True)\n668\ntensor(True)\n669\ntensor(True)\n670\ntensor(True)\n671\ntensor(True)\n672\ntensor(True)\n673\ntensor(True)\n674\ntensor(True)\n675\ntensor(True)\n676\ntensor(True)\n677\ntensor(True)\n678\ntensor(True)\n679\ntensor(True)\n680\ntensor(True)\n681\ntensor(True)\n682\ntensor(True)\n683\ntensor(True)\n684\ntensor(True)\n685\ntensor(True)\n686\ntensor(True)\n687\ntensor(True)\n688\ntensor(True)\n689\ntensor(True)\n690\ntensor(True)\n691\ntensor(True)\n692\ntensor(True)\n693\ntensor(True)\n694\ntensor(True)\n695\ntensor(True)\n696\ntensor(True)\n697\ntensor(True)\n698\ntensor(True)\n699\n"
    }
   ],
   "source": [
    "index = 0\n",
    "for i in test_mask:\n",
    "    print(i)\n",
    "    print(index)\n",
    "    index = index+1\n",
    "    if index == 700:\n",
    "        break"
   ]
  },
  {
   "cell_type": "code",
   "execution_count": 64,
   "metadata": {},
   "outputs": [
    {
     "name": "stdout",
     "output_type": "stream",
     "text": "tensor([False, False, False,  ..., False, False, False])\n"
    }
   ],
   "source": [
    "print(test_mask)"
   ]
  },
  {
   "cell_type": "code",
   "execution_count": 55,
   "metadata": {},
   "outputs": [
    {
     "name": "stdout",
     "output_type": "stream",
     "text": "tensor([[-34.2109, -45.7060,  31.5092,  ..., -14.0037, -43.8658, -41.0090],\n        [  3.5579, -12.0472,  -4.9168,  ...,  -0.4658,  24.3183,  -0.7658],\n        [-43.2300, -67.4477, -26.2306,  ...,  39.6008, -43.9652, -27.7014],\n        ...,\n        [ -8.7316,   2.7198,  -3.9358,  ...,  -2.7140, -11.8802,  -8.9091],\n        [ 15.8358, -18.4486,  -4.7200,  ...,  -4.0193, -11.3843, -11.6701],\n        [ -6.0200,  -8.7746,  -0.5245,  ...,  -2.7529,  -5.3617,  -7.4319]])\n"
    }
   ],
   "source": [
    "print(logits)"
   ]
  },
  {
   "cell_type": "code",
   "execution_count": 75,
   "metadata": {},
   "outputs": [
    {
     "name": "stdout",
     "output_type": "stream",
     "text": "tensor([-13.4219,  -9.1178, -11.0920,  -9.3397,   9.2593, -20.2658, -16.4854])\n"
    }
   ],
   "source": [
    "print(logits[500])"
   ]
  },
  {
   "cell_type": "code",
   "execution_count": 60,
   "metadata": {},
   "outputs": [
    {
     "name": "stdout",
     "output_type": "stream",
     "text": "tensor([[-13.4219,  -9.1178, -11.0920,  ...,   9.2593, -20.2658, -16.4854],\n        [ -8.7528, -12.3523,  -0.9439,  ...,  -1.8563, -15.2689, -11.4883],\n        [-58.2328, -70.2535,  -4.2399,  ...,  33.0059, -38.5081, -42.9501],\n        ...,\n        [ 26.7022, -20.2669,  -6.5791,  ...,  -4.7432, -12.3335, -13.2885],\n        [  9.9518,  39.0246, -53.8996,  ..., -13.7839, -56.0227, -48.8414],\n        [-14.9965, -40.3553,  18.9230,  ...,  -6.4413, -30.7893, -22.3310]])\n"
    }
   ],
   "source": [
    "print(logits[test_mask])\n"
   ]
  },
  {
   "cell_type": "code",
   "execution_count": 49,
   "metadata": {},
   "outputs": [
    {
     "name": "stdout",
     "output_type": "stream",
     "text": "tensor([4, 2, 4, 2, 3, 2, 6, 6, 6, 5, 2, 2, 2, 3, 6, 3, 2, 6, 3, 2, 6, 5, 3, 4,\n        6, 3, 2, 2, 3, 3, 1, 3, 3, 3, 0, 6, 2, 1, 1, 0, 0, 0, 2, 0, 2, 4, 1, 2,\n        4, 6, 6, 0, 4, 2, 4, 6, 6, 3, 3, 4, 3, 2, 4, 1, 4, 4, 4, 4, 0, 6, 2, 2,\n        2, 3, 6, 4, 2, 3, 0, 2, 0, 0, 0, 0, 2, 5, 2, 2, 4, 2, 3, 6, 2, 0, 0, 2,\n        2, 5, 5, 4, 2, 4, 1, 0, 2, 2, 1, 6, 2, 4, 2, 2, 0, 2, 6, 6, 2, 2, 6, 3,\n        4, 4, 3, 3, 1, 1, 2, 2, 4, 0, 3, 5, 6, 4, 5, 6, 4, 3, 5, 3, 6, 3, 3, 0,\n        4, 3, 3, 3, 6, 0, 4, 6, 5, 4, 5, 2, 4, 4, 1, 1, 6, 3, 3, 2, 2, 2, 2, 2,\n        3, 3, 0, 4, 6, 3, 2, 5, 2, 3, 3, 0, 2, 1, 0, 5, 3, 2, 6, 2, 4, 1, 0, 4,\n        6, 2, 3, 4, 2, 3, 2, 4, 2, 5, 3, 4, 3, 2, 6, 5, 2, 3, 6, 3, 1, 3, 1, 3,\n        2, 1, 2, 2, 6, 1, 6, 4, 2, 3, 2, 1, 1, 3, 2, 2, 6, 4, 3, 5, 2, 2, 4, 2,\n        6, 2, 3, 1, 1, 2, 2, 2, 3, 4, 4, 2, 0, 4, 0, 1, 3, 1, 1, 3, 0, 6, 0, 2,\n        4, 1, 6, 6, 3, 1, 2, 2, 3, 4, 2, 4, 3, 3, 6, 2, 1, 1, 3, 0, 3, 0, 6, 3,\n        3, 1, 0, 6, 6, 1, 6, 3, 3, 2, 6, 0, 1, 0, 3, 1, 4, 2, 0, 2, 2, 2, 2, 4,\n        2, 1, 2, 4, 2, 0, 0, 0, 2, 2, 0, 2, 0, 0, 6, 3, 6, 2, 2, 0, 2, 1, 2, 4,\n        5, 5, 3, 2, 2, 3, 4, 4, 1, 3, 4, 6, 6, 3, 3, 3, 3, 2, 4, 3, 1, 0, 4, 6,\n        1, 6, 0, 2, 2, 6, 2, 2, 4, 3, 6, 2, 2, 2, 2, 4, 6, 5, 3, 2, 4, 2, 4, 0,\n        6, 6, 3, 0, 3, 3, 2, 3, 3, 5, 3, 3, 3, 3, 3, 2, 4, 4, 4, 2, 3, 3, 2, 2,\n        2, 3, 4, 0, 3, 3, 3, 3, 2, 3, 2, 2, 2, 2, 0, 0, 6, 3, 2, 0, 0, 3, 2, 6,\n        6, 4, 1, 1, 4, 5, 2, 2, 1, 4, 1, 1, 6, 3, 2, 0, 2, 2, 3, 4, 3, 3, 2, 6,\n        4, 6, 4, 1, 5, 1, 2, 5, 4, 4, 1, 6, 2, 2, 4, 3, 3, 3, 4, 2, 3, 0, 2, 6,\n        2, 4, 1, 0, 3, 5, 0, 3, 4, 2, 6, 0, 0, 3, 0, 1, 3, 3, 3, 3, 6, 0, 0, 6,\n        6, 2, 6, 5, 5, 1, 5, 5, 4, 3, 2, 3, 1, 2, 1, 0, 5, 2, 2, 3, 2, 6, 6, 6,\n        2, 3, 1, 2, 6, 5, 4, 1, 1, 2, 6, 0, 0, 2, 2, 2, 2, 4, 0, 0, 3, 4, 2, 2,\n        2, 6, 1, 2, 2, 6, 2, 3, 1, 5, 2, 1, 3, 1, 2, 2, 2, 1, 1, 4, 2, 5, 6, 6,\n        3, 1, 3, 2, 2, 5, 5, 3, 0, 4, 3, 2, 2, 0, 3, 3, 6, 2, 2, 6, 1, 3, 1, 1,\n        2, 0, 5, 2, 5, 6, 1, 0, 3, 0, 1, 2, 5, 1, 1, 2, 2, 4, 4, 2, 2, 0, 0, 0,\n        6, 0, 0, 1, 3, 2, 1, 4, 3, 5, 1, 5, 1, 4, 0, 1, 4, 3, 1, 1, 2, 2, 3, 3,\n        0, 2, 2, 3, 0, 1, 0, 0, 3, 2, 3, 1, 3, 6, 3, 0, 0, 5, 3, 3, 3, 2, 6, 2,\n        3, 0, 4, 4, 0, 5, 1, 2, 5, 6, 5, 4, 1, 6, 6, 5, 0, 6, 2, 6, 4, 4, 0, 2,\n        2, 6, 5, 3, 2, 3, 4, 2, 1, 1, 1, 1, 5, 0, 0, 2, 0, 4, 0, 0, 1, 3, 1, 1,\n        2, 4, 2, 6, 1, 1, 0, 6, 4, 2, 4, 4, 4, 0, 5, 2, 3, 6, 6, 3, 3, 3, 3, 2,\n        5, 2, 2, 2, 0, 1, 2, 2, 2, 1, 2, 3, 0, 1, 2, 5, 5, 1, 2, 0, 2, 2, 4, 5,\n        3, 6, 6, 3, 2, 5, 1, 5, 3, 1, 0, 1, 6, 2, 2, 2, 2, 2, 1, 3, 3, 6, 5, 3,\n        0, 6, 3, 3, 6, 5, 2, 1, 2, 5, 0, 1, 0, 1, 2, 2, 3, 6, 2, 4, 5, 2, 4, 2,\n        4, 0, 2, 3, 2, 2, 5, 2, 3, 1, 3, 6, 0, 6, 1, 2, 2, 1, 1, 6, 6, 6, 3, 6,\n        2, 2, 2, 6, 0, 0, 2, 3, 0, 3, 3, 0, 2, 2, 0, 0, 2, 3, 6, 2, 6, 6, 1, 6,\n        6, 2, 2, 0, 0, 1, 5, 1, 3, 4, 3, 6, 4, 0, 4, 1, 1, 2, 2, 3, 2, 0, 6, 3,\n        6, 2, 3, 3, 1, 3, 6, 3, 4, 3, 2, 2, 6, 4, 6, 2, 1, 2, 6, 0, 4, 4, 1, 2,\n        0, 5, 3, 3, 0, 2, 2, 3, 0, 3, 6, 0, 1, 3, 0, 3, 5, 5, 6, 2, 4, 6, 3, 2,\n        3, 3, 4, 1, 4, 3, 5, 4, 5, 5, 2, 4, 0, 6, 2, 2, 6, 0, 3, 1, 6, 1, 3, 4,\n        6, 2, 2, 2, 2, 0, 1, 1, 6, 6, 2, 3, 3, 1, 1, 0, 4, 2, 6, 5, 3, 4, 6, 0,\n        6, 2, 5, 3, 2, 5, 2, 3, 2, 2, 2, 2, 0, 0, 1, 2])\n"
    }
   ],
   "source": [
    "_, indices = torch.max(logits[test_mask], dim=1)\n",
    "print(indices)"
   ]
  },
  {
   "cell_type": "code",
   "execution_count": 66,
   "metadata": {},
   "outputs": [
    {
     "name": "stdout",
     "output_type": "stream",
     "text": "tensor(2)\ntensor(2)\ntensor(6)\ntensor(3)\ntensor(1)\ntensor(3)\ntensor(1)\ntensor(3)\ntensor(2)\ntensor(1)\ntensor(2)\ntensor(2)\ntensor(2)\ntensor(1)\ntensor(6)\ntensor(3)\ntensor(2)\ntensor(3)\ntensor(2)\ntensor(1)\ntensor(1)\ntensor(3)\ntensor(2)\ntensor(2)\ntensor(6)\ntensor(4)\ntensor(4)\ntensor(5)\ntensor(2)\ntensor(2)\ntensor(4)\ntensor(4)\ntensor(6)\ntensor(2)\ntensor(3)\ntensor(1)\ntensor(1)\ntensor(2)\ntensor(2)\ntensor(2)\ntensor(3)\ntensor(4)\ntensor(4)\ntensor(2)\ntensor(0)\ntensor(2)\ntensor(2)\ntensor(1)\ntensor(5)\ntensor(1)\ntensor(1)\ntensor(3)\ntensor(0)\ntensor(6)\ntensor(6)\ntensor(2)\ntensor(1)\ntensor(1)\ntensor(2)\ntensor(6)\ntensor(3)\ntensor(1)\ntensor(2)\ntensor(2)\ntensor(3)\ntensor(4)\ntensor(2)\ntensor(4)\ntensor(3)\ntensor(3)\ntensor(6)\ntensor(2)\ntensor(1)\ntensor(1)\ntensor(2)\ntensor(0)\ntensor(2)\ntensor(0)\ntensor(6)\ntensor(3)\ntensor(3)\ntensor(1)\ntensor(6)\ntensor(6)\ntensor(6)\ntensor(1)\ntensor(6)\ntensor(6)\ntensor(2)\ntensor(2)\ntensor(6)\ntensor(0)\ntensor(1)\ntensor(0)\ntensor(3)\ntensor(1)\ntensor(4)\ntensor(2)\ntensor(0)\ntensor(4)\ntensor(2)\ntensor(2)\ntensor(2)\ntensor(1)\ntensor(2)\ntensor(1)\ntensor(2)\ntensor(1)\ntensor(2)\ntensor(0)\ntensor(0)\ntensor(0)\ntensor(2)\ntensor(2)\ntensor(6)\ntensor(2)\ntensor(0)\ntensor(0)\ntensor(2)\ntensor(3)\ntensor(2)\ntensor(2)\ntensor(2)\ntensor(0)\ntensor(2)\ntensor(1)\ntensor(2)\ntensor(0)\ntensor(6)\ntensor(5)\ntensor(3)\ntensor(2)\ntensor(2)\ntensor(3)\ntensor(4)\ntensor(4)\ntensor(1)\ntensor(2)\ntensor(1)\ntensor(6)\ntensor(6)\ntensor(5)\ntensor(3)\ntensor(3)\ntensor(3)\ntensor(6)\ntensor(1)\ntensor(3)\ntensor(1)\ntensor(0)\ntensor(0)\ntensor(6)\ntensor(1)\ntensor(6)\ntensor(0)\ntensor(2)\ntensor(2)\ntensor(6)\ntensor(2)\ntensor(2)\ntensor(4)\ntensor(3)\ntensor(4)\ntensor(3)\ntensor(2)\ntensor(2)\ntensor(2)\ntensor(4)\ntensor(6)\ntensor(5)\ntensor(2)\ntensor(4)\ntensor(1)\ntensor(2)\ntensor(4)\ntensor(0)\ntensor(6)\ntensor(6)\ntensor(2)\ntensor(6)\ntensor(3)\ntensor(3)\ntensor(2)\ntensor(3)\ntensor(3)\ntensor(5)\ntensor(3)\ntensor(3)\ntensor(3)\ntensor(3)\ntensor(3)\ntensor(2)\ntensor(1)\ntensor(0)\ntensor(1)\ntensor(6)\ntensor(3)\ntensor(3)\ntensor(2)\ntensor(2)\ntensor(2)\ntensor(3)\ntensor(1)\ntensor(6)\ntensor(2)\ntensor(3)\ntensor(2)\ntensor(3)\ntensor(2)\ntensor(3)\ntensor(2)\ntensor(2)\ntensor(2)\ntensor(2)\ntensor(0)\ntensor(0)\ntensor(6)\ntensor(2)\ntensor(6)\ntensor(0)\ntensor(0)\ntensor(3)\ntensor(2)\ntensor(6)\ntensor(6)\ntensor(4)\ntensor(1)\ntensor(1)\ntensor(4)\ntensor(0)\ntensor(1)\ntensor(2)\ntensor(1)\ntensor(1)\ntensor(1)\ntensor(1)\ntensor(3)\ntensor(3)\ntensor(2)\ntensor(0)\ntensor(2)\ntensor(2)\ntensor(3)\ntensor(0)\ntensor(3)\ntensor(1)\ntensor(3)\ntensor(6)\ntensor(1)\ntensor(6)\ntensor(1)\ntensor(1)\ntensor(5)\ntensor(1)\ntensor(2)\ntensor(5)\ntensor(1)\ntensor(1)\ntensor(1)\ntensor(6)\ntensor(2)\ntensor(3)\ntensor(1)\ntensor(3)\ntensor(1)\ntensor(3)\ntensor(1)\ntensor(2)\ntensor(3)\ntensor(6)\ntensor(2)\ntensor(2)\ntensor(2)\ntensor(0)\ntensor(1)\ntensor(0)\ntensor(0)\ntensor(3)\ntensor(0)\ntensor(3)\ntensor(4)\ntensor(2)\ntensor(2)\ntensor(0)\ntensor(0)\ntensor(3)\ntensor(0)\ntensor(1)\ntensor(3)\ntensor(5)\ntensor(3)\ntensor(3)\ntensor(6)\ntensor(0)\ntensor(0)\ntensor(6)\ntensor(6)\ntensor(2)\ntensor(6)\ntensor(5)\ntensor(5)\ntensor(1)\ntensor(5)\ntensor(5)\ntensor(4)\ntensor(3)\ntensor(2)\ntensor(3)\ntensor(1)\ntensor(2)\ntensor(1)\ntensor(6)\ntensor(3)\ntensor(2)\ntensor(2)\ntensor(2)\ntensor(6)\ntensor(6)\ntensor(6)\ntensor(6)\ntensor(2)\ntensor(3)\ntensor(1)\ntensor(2)\ntensor(6)\ntensor(0)\ntensor(1)\ntensor(1)\ntensor(1)\ntensor(2)\ntensor(2)\ntensor(0)\ntensor(0)\ntensor(2)\ntensor(2)\ntensor(2)\ntensor(2)\ntensor(4)\ntensor(0)\ntensor(0)\ntensor(0)\ntensor(5)\ntensor(6)\ntensor(2)\ntensor(2)\ntensor(6)\ntensor(1)\ntensor(2)\ntensor(2)\ntensor(2)\ntensor(2)\ntensor(2)\ntensor(1)\ntensor(5)\ntensor(6)\ntensor(1)\ntensor(3)\ntensor(1)\ntensor(2)\ntensor(2)\ntensor(2)\ntensor(1)\ntensor(1)\ntensor(5)\ntensor(2)\ntensor(5)\ntensor(6)\ntensor(2)\ntensor(3)\ntensor(1)\ntensor(3)\ntensor(2)\ntensor(2)\ntensor(5)\ntensor(5)\ntensor(3)\ntensor(0)\ntensor(5)\ntensor(3)\ntensor(3)\ntensor(2)\ntensor(0)\ntensor(2)\ntensor(2)\ntensor(6)\ntensor(2)\ntensor(2)\ntensor(6)\ntensor(1)\ntensor(3)\ntensor(1)\ntensor(1)\ntensor(2)\ntensor(0)\ntensor(5)\ntensor(2)\ntensor(6)\ntensor(6)\ntensor(1)\ntensor(0)\ntensor(3)\ntensor(6)\ntensor(1)\ntensor(0)\ntensor(2)\ntensor(1)\ntensor(1)\ntensor(2)\ntensor(2)\ntensor(1)\ntensor(2)\ntensor(2)\ntensor(2)\ntensor(0)\ntensor(0)\ntensor(0)\ntensor(6)\ntensor(0)\ntensor(0)\ntensor(1)\ntensor(3)\ntensor(2)\ntensor(1)\ntensor(1)\ntensor(6)\ntensor(3)\ntensor(1)\ntensor(6)\ntensor(1)\ntensor(4)\ntensor(0)\ntensor(1)\ntensor(1)\ntensor(3)\ntensor(1)\ntensor(1)\ntensor(2)\ntensor(2)\ntensor(2)\ntensor(3)\ntensor(0)\ntensor(2)\ntensor(2)\ntensor(5)\ntensor(0)\ntensor(1)\ntensor(0)\ntensor(0)\ntensor(3)\ntensor(2)\ntensor(3)\ntensor(1)\ntensor(6)\ntensor(6)\ntensor(3)\ntensor(0)\ntensor(6)\ntensor(5)\ntensor(6)\ntensor(1)\ntensor(3)\ntensor(2)\ntensor(6)\ntensor(2)\ntensor(3)\ntensor(6)\ntensor(6)\ntensor(1)\ntensor(2)\ntensor(5)\ntensor(1)\ntensor(2)\ntensor(5)\ntensor(6)\ntensor(5)\ntensor(4)\ntensor(1)\ntensor(6)\ntensor(3)\ntensor(6)\ntensor(2)\ntensor(6)\ntensor(2)\ntensor(6)\ntensor(4)\ntensor(4)\ntensor(0)\ntensor(2)\ntensor(2)\ntensor(6)\ntensor(6)\ntensor(6)\ntensor(2)\ntensor(3)\ntensor(4)\ntensor(2)\ntensor(1)\ntensor(1)\ntensor(1)\ntensor(1)\ntensor(5)\ntensor(0)\ntensor(0)\ntensor(2)\ntensor(0)\ntensor(4)\ntensor(0)\ntensor(0)\ntensor(1)\ntensor(4)\ntensor(1)\ntensor(1)\ntensor(2)\ntensor(1)\ntensor(2)\ntensor(6)\ntensor(1)\ntensor(1)\ntensor(5)\ntensor(6)\ntensor(4)\ntensor(2)\ntensor(1)\ntensor(1)\ntensor(1)\ntensor(0)\ntensor(5)\ntensor(6)\ntensor(6)\ntensor(6)\ntensor(6)\ntensor(2)\ntensor(3)\ntensor(3)\ntensor(2)\ntensor(2)\ntensor(5)\ntensor(2)\ntensor(2)\ntensor(2)\ntensor(0)\ntensor(1)\ntensor(2)\ntensor(2)\ntensor(2)\ntensor(4)\ntensor(2)\ntensor(3)\ntensor(5)\ntensor(1)\ntensor(2)\ntensor(5)\ntensor(6)\ntensor(1)\ntensor(2)\ntensor(0)\ntensor(1)\ntensor(2)\ntensor(2)\ntensor(6)\ntensor(3)\ntensor(6)\ntensor(6)\ntensor(5)\ntensor(2)\ntensor(6)\ntensor(1)\ntensor(5)\ntensor(3)\ntensor(1)\ntensor(0)\ntensor(1)\ntensor(6)\ntensor(2)\ntensor(2)\ntensor(2)\ntensor(2)\ntensor(2)\ntensor(1)\ntensor(3)\ntensor(3)\ntensor(2)\ntensor(6)\ntensor(3)\ntensor(5)\ntensor(2)\ntensor(3)\ntensor(2)\ntensor(6)\ntensor(5)\ntensor(2)\ntensor(1)\ntensor(2)\ntensor(5)\ntensor(0)\ntensor(1)\ntensor(0)\ntensor(1)\ntensor(6)\ntensor(2)\ntensor(3)\ntensor(6)\ntensor(6)\ntensor(1)\ntensor(5)\ntensor(2)\ntensor(4)\ntensor(2)\ntensor(4)\ntensor(0)\ntensor(2)\ntensor(1)\ntensor(2)\ntensor(2)\ntensor(6)\ntensor(2)\ntensor(3)\ntensor(1)\ntensor(3)\ntensor(5)\ntensor(2)\ntensor(6)\ntensor(1)\ntensor(1)\ntensor(1)\ntensor(1)\ntensor(1)\ntensor(3)\ntensor(3)\ntensor(6)\ntensor(3)\ntensor(6)\ntensor(2)\ntensor(2)\ntensor(2)\ntensor(6)\ntensor(0)\ntensor(0)\ntensor(2)\ntensor(3)\ntensor(0)\ntensor(4)\ntensor(0)\ntensor(1)\ntensor(2)\ntensor(1)\ntensor(0)\ntensor(0)\ntensor(2)\ntensor(3)\ntensor(6)\ntensor(2)\ntensor(6)\ntensor(6)\ntensor(1)\ntensor(6)\ntensor(6)\ntensor(2)\ntensor(2)\ntensor(0)\ntensor(0)\ntensor(1)\ntensor(5)\ntensor(1)\ntensor(3)\ntensor(2)\ntensor(2)\ntensor(3)\ntensor(4)\ntensor(0)\ntensor(4)\ntensor(1)\ntensor(1)\ntensor(3)\ntensor(2)\ntensor(2)\ntensor(2)\ntensor(0)\ntensor(6)\ntensor(2)\ntensor(6)\ntensor(2)\ntensor(6)\ntensor(1)\ntensor(1)\ntensor(3)\ntensor(2)\ntensor(1)\ntensor(1)\ntensor(3)\ntensor(2)\ntensor(2)\ntensor(6)\ntensor(0)\ntensor(2)\ntensor(3)\ntensor(1)\ntensor(2)\ntensor(2)\ntensor(0)\ntensor(1)\ntensor(1)\ntensor(1)\ntensor(2)\ntensor(0)\ntensor(0)\ntensor(3)\ntensor(3)\ntensor(0)\ntensor(2)\ntensor(2)\ntensor(3)\ntensor(0)\ntensor(2)\ntensor(2)\ntensor(2)\ntensor(1)\ntensor(3)\ntensor(0)\ntensor(3)\ntensor(5)\ntensor(5)\ntensor(2)\ntensor(2)\ntensor(1)\ntensor(6)\ntensor(5)\ntensor(2)\ntensor(3)\ntensor(3)\ntensor(4)\ntensor(1)\ntensor(4)\ntensor(1)\ntensor(5)\ntensor(4)\ntensor(6)\ntensor(5)\ntensor(2)\ntensor(4)\ntensor(0)\ntensor(6)\ntensor(2)\ntensor(2)\ntensor(2)\ntensor(0)\ntensor(2)\ntensor(1)\ntensor(6)\ntensor(2)\ntensor(3)\ntensor(4)\ntensor(6)\ntensor(2)\ntensor(2)\ntensor(3)\ntensor(2)\ntensor(0)\ntensor(1)\ntensor(1)\ntensor(6)\ntensor(6)\ntensor(2)\ntensor(2)\ntensor(2)\ntensor(1)\ntensor(1)\ntensor(0)\ntensor(1)\ntensor(2)\ntensor(3)\ntensor(3)\ntensor(2)\ntensor(1)\ntensor(6)\ntensor(0)\ntensor(6)\ntensor(2)\ntensor(5)\ntensor(2)\ntensor(2)\ntensor(5)\ntensor(2)\ntensor(6)\ntensor(6)\ntensor(2)\ntensor(2)\ntensor(1)\ntensor(0)\ntensor(0)\ntensor(0)\ntensor(2)\ntensor(6)\ntensor(2)\ntensor(3)\ntensor(3)\ntensor(3)\ntensor(6)\ntensor(3)\ntensor(3)\ntensor(2)\ntensor(2)\ntensor(6)\ntensor(2)\ntensor(3)\ntensor(0)\ntensor(6)\ntensor(4)\ntensor(1)\ntensor(2)\ntensor(1)\ntensor(5)\ntensor(2)\ntensor(6)\ntensor(6)\ntensor(1)\ntensor(2)\ntensor(3)\ntensor(2)\ntensor(3)\ntensor(5)\ntensor(4)\ntensor(1)\ntensor(0)\ntensor(3)\ntensor(1)\ntensor(0)\ntensor(0)\ntensor(1)\ntensor(0)\ntensor(2)\ntensor(5)\ntensor(4)\ntensor(1)\ntensor(0)\ntensor(3)\ntensor(1)\ntensor(3)\ntensor(4)\ntensor(2)\ntensor(3)\ntensor(3)\ntensor(6)\ntensor(2)\ntensor(0)\ntensor(0)\ntensor(0)\ntensor(3)\ntensor(0)\ntensor(4)\ntensor(1)\ntensor(2)\ntensor(4)\ntensor(6)\ntensor(2)\ntensor(1)\ntensor(2)\ntensor(1)\ntensor(6)\ntensor(6)\ntensor(0)\ntensor(5)\ntensor(0)\ntensor(1)\ntensor(1)\ntensor(4)\ntensor(0)\ntensor(1)\ntensor(6)\ntensor(1)\ntensor(5)\ntensor(2)\ntensor(1)\ntensor(4)\ntensor(3)\ntensor(2)\ntensor(0)\ntensor(4)\ntensor(6)\ntensor(5)\ntensor(1)\ntensor(4)\ntensor(1)\ntensor(2)\ntensor(2)\ntensor(3)\ntensor(1)\ntensor(6)\ntensor(5)\ntensor(0)\ntensor(1)\ntensor(4)\ntensor(2)\ntensor(2)\ntensor(3)\ntensor(1)\ntensor(2)\ntensor(6)\ntensor(2)\ntensor(6)\ntensor(3)\ntensor(5)\ntensor(2)\ntensor(1)\ntensor(2)\ntensor(3)\ntensor(3)\ntensor(2)\ntensor(4)\ntensor(0)\ntensor(6)\ntensor(3)\ntensor(5)\ntensor(0)\ntensor(5)\ntensor(2)\ntensor(3)\ntensor(4)\ntensor(0)\ntensor(5)\ntensor(1)\ntensor(2)\ntensor(2)\ntensor(1)\ntensor(4)\ntensor(2)\ntensor(2)\ntensor(0)\ntensor(0)\ntensor(2)\ntensor(1)\ntensor(2)\ntensor(0)\ntensor(3)\ntensor(0)\ntensor(4)\ntensor(2)\ntensor(2)\ntensor(1)\ntensor(6)\ntensor(0)\ntensor(4)\ntensor(1)\ntensor(5)\ntensor(2)\ntensor(0)\ntensor(3)\ntensor(2)\ntensor(2)\ntensor(2)\ntensor(6)\ntensor(2)\ntensor(3)\ntensor(6)\ntensor(1)\ntensor(1)\ntensor(2)\ntensor(0)\ntensor(3)\ntensor(2)\ntensor(2)\ntensor(6)\ntensor(1)\ntensor(6)\ntensor(2)\ntensor(1)\ntensor(0)\ntensor(1)\ntensor(2)\ntensor(2)\ntensor(6)\ntensor(5)\ntensor(0)\ntensor(3)\ntensor(3)\ntensor(6)\ntensor(5)\ntensor(1)\ntensor(5)\ntensor(4)\ntensor(1)\ntensor(1)\ntensor(1)\ntensor(1)\ntensor(6)\ntensor(4)\ntensor(1)\ntensor(0)\ntensor(1)\ntensor(2)\ntensor(0)\ntensor(0)\ntensor(2)\ntensor(2)\ntensor(6)\ntensor(4)\ntensor(2)\ntensor(6)\ntensor(0)\ntensor(0)\ntensor(6)\ntensor(2)\ntensor(2)\ntensor(4)\ntensor(6)\ntensor(3)\ntensor(3)\ntensor(1)\ntensor(3)\ntensor(1)\ntensor(2)\ntensor(1)\ntensor(5)\ntensor(5)\ntensor(3)\ntensor(3)\ntensor(2)\ntensor(2)\ntensor(5)\ntensor(6)\ntensor(1)\ntensor(1)\ntensor(1)\ntensor(3)\ntensor(2)\ntensor(3)\ntensor(1)\ntensor(0)\ntensor(1)\ntensor(1)\ntensor(1)\ntensor(6)\ntensor(1)\ntensor(4)\ntensor(3)\ntensor(1)\ntensor(2)\ntensor(1)\ntensor(2)\ntensor(3)\ntensor(6)\ntensor(3)\ntensor(5)\ntensor(2)\ntensor(0)\ntensor(2)\ntensor(4)\ntensor(2)\ntensor(1)\ntensor(3)\ntensor(4)\ntensor(3)\ntensor(2)\ntensor(3)\ntensor(6)\ntensor(2)\ntensor(3)\ntensor(3)\ntensor(2)\ntensor(4)\ntensor(4)\ntensor(1)\ntensor(2)\ntensor(1)\ntensor(2)\ntensor(2)\ntensor(2)\ntensor(1)\ntensor(5)\ntensor(3)\ntensor(2)\ntensor(4)\ntensor(4)\ntensor(5)\ntensor(4)\ntensor(3)\ntensor(1)\ntensor(1)\ntensor(6)\ntensor(2)\ntensor(2)\ntensor(2)\ntensor(1)\ntensor(4)\ntensor(6)\ntensor(2)\ntensor(2)\ntensor(2)\ntensor(1)\ntensor(1)\ntensor(2)\ntensor(1)\ntensor(3)\ntensor(2)\ntensor(3)\ntensor(3)\ntensor(0)\ntensor(0)\ntensor(2)\ntensor(1)\ntensor(6)\ntensor(0)\ntensor(2)\ntensor(2)\ntensor(2)\ntensor(2)\ntensor(2)\ntensor(2)\ntensor(4)\ntensor(2)\ntensor(2)\ntensor(5)\ntensor(2)\ntensor(2)\ntensor(2)\ntensor(6)\ntensor(6)\ntensor(2)\ntensor(1)\ntensor(6)\ntensor(4)\ntensor(3)\ntensor(0)\ntensor(1)\ntensor(1)\ntensor(6)\ntensor(1)\ntensor(6)\ntensor(1)\ntensor(5)\ntensor(3)\ntensor(1)\ntensor(1)\ntensor(4)\ntensor(3)\ntensor(0)\ntensor(4)\ntensor(4)\ntensor(2)\ntensor(2)\ntensor(6)\ntensor(5)\ntensor(1)\ntensor(2)\ntensor(3)\ntensor(6)\ntensor(0)\ntensor(0)\ntensor(3)\ntensor(3)\ntensor(6)\ntensor(4)\ntensor(0)\ntensor(6)\ntensor(6)\ntensor(6)\ntensor(0)\ntensor(2)\ntensor(2)\ntensor(2)\ntensor(3)\ntensor(2)\ntensor(3)\ntensor(2)\ntensor(1)\ntensor(2)\ntensor(2)\ntensor(6)\ntensor(3)\ntensor(0)\ntensor(1)\ntensor(2)\ntensor(1)\ntensor(5)\ntensor(0)\ntensor(1)\ntensor(2)\ntensor(2)\ntensor(2)\ntensor(2)\ntensor(6)\ntensor(2)\ntensor(1)\ntensor(2)\ntensor(0)\ntensor(2)\ntensor(3)\ntensor(2)\ntensor(2)\ntensor(6)\ntensor(3)\ntensor(3)\ntensor(3)\ntensor(3)\ntensor(2)\ntensor(2)\ntensor(0)\ntensor(1)\ntensor(3)\ntensor(3)\ntensor(3)\ntensor(3)\ntensor(3)\ntensor(1)\ntensor(2)\ntensor(3)\ntensor(2)\ntensor(2)\ntensor(2)\ntensor(1)\ntensor(6)\ntensor(5)\ntensor(2)\ntensor(1)\ntensor(3)\ntensor(2)\ntensor(6)\ntensor(1)\ntensor(3)\ntensor(2)\ntensor(2)\ntensor(2)\ntensor(1)\ntensor(1)\ntensor(2)\ntensor(3)\ntensor(3)\ntensor(2)\ntensor(1)\ntensor(3)\ntensor(3)\ntensor(2)\ntensor(1)\ntensor(3)\ntensor(3)\ntensor(1)\ntensor(5)\ntensor(3)\ntensor(1)\ntensor(2)\ntensor(2)\ntensor(2)\ntensor(1)\ntensor(0)\ntensor(2)\ntensor(2)\ntensor(4)\ntensor(5)\ntensor(5)\ntensor(4)\ntensor(1)\ntensor(1)\ntensor(2)\ntensor(5)\ntensor(6)\ntensor(5)\ntensor(6)\ntensor(1)\ntensor(2)\ntensor(6)\ntensor(2)\ntensor(4)\ntensor(2)\ntensor(1)\ntensor(3)\ntensor(1)\ntensor(2)\ntensor(4)\ntensor(0)\ntensor(3)\ntensor(3)\ntensor(4)\ntensor(1)\ntensor(2)\ntensor(3)\ntensor(3)\ntensor(1)\ntensor(1)\ntensor(6)\ntensor(0)\ntensor(3)\ntensor(0)\ntensor(2)\ntensor(3)\ntensor(3)\ntensor(3)\ntensor(3)\ntensor(3)\ntensor(2)\ntensor(2)\ntensor(2)\ntensor(1)\ntensor(3)\ntensor(1)\ntensor(3)\ntensor(1)\ntensor(6)\ntensor(6)\ntensor(6)\ntensor(4)\ntensor(3)\ntensor(5)\ntensor(0)\ntensor(6)\ntensor(6)\ntensor(2)\ntensor(4)\ntensor(6)\ntensor(3)\ntensor(3)\ntensor(4)\ntensor(2)\ntensor(2)\ntensor(2)\ntensor(3)\ntensor(2)\ntensor(2)\ntensor(3)\ntensor(2)\ntensor(4)\ntensor(6)\ntensor(2)\ntensor(1)\ntensor(6)\ntensor(5)\ntensor(2)\ntensor(3)\ntensor(0)\ntensor(6)\ntensor(0)\ntensor(0)\ntensor(1)\ntensor(6)\ntensor(2)\ntensor(2)\ntensor(2)\ntensor(2)\ntensor(5)\ntensor(2)\ntensor(1)\ntensor(0)\ntensor(2)\ntensor(2)\ntensor(4)\ntensor(0)\ntensor(6)\ntensor(6)\ntensor(1)\ntensor(2)\ntensor(0)\ntensor(1)\ntensor(6)\ntensor(0)\ntensor(0)\ntensor(0)\ntensor(3)\ntensor(3)\ntensor(1)\ntensor(6)\ntensor(6)\ntensor(2)\ntensor(3)\ntensor(5)\ntensor(0)\ntensor(2)\ntensor(6)\ntensor(0)\ntensor(0)\ntensor(3)\ntensor(1)\ntensor(3)\ntensor(5)\ntensor(6)\ntensor(3)\ntensor(1)\ntensor(2)\ntensor(2)\ntensor(2)\ntensor(1)\ntensor(1)\ntensor(3)\ntensor(1)\ntensor(2)\ntensor(0)\ntensor(6)\ntensor(2)\ntensor(3)\ntensor(2)\ntensor(5)\ntensor(3)\ntensor(6)\ntensor(6)\ntensor(5)\ntensor(1)\ntensor(1)\ntensor(1)\ntensor(1)\ntensor(2)\ntensor(5)\ntensor(2)\ntensor(3)\ntensor(2)\ntensor(6)\ntensor(1)\ntensor(2)\ntensor(6)\ntensor(3)\ntensor(3)\ntensor(1)\ntensor(2)\ntensor(4)\ntensor(2)\ntensor(2)\ntensor(2)\ntensor(0)\ntensor(0)\ntensor(2)\ntensor(2)\ntensor(5)\ntensor(3)\ntensor(0)\ntensor(2)\ntensor(1)\ntensor(0)\ntensor(5)\ntensor(1)\ntensor(6)\ntensor(2)\ntensor(3)\ntensor(0)\ntensor(3)\ntensor(1)\ntensor(3)\ntensor(6)\ntensor(5)\ntensor(2)\ntensor(3)\ntensor(6)\ntensor(6)\ntensor(2)\ntensor(3)\ntensor(5)\ntensor(4)\ntensor(0)\ntensor(1)\ntensor(3)\ntensor(2)\ntensor(2)\ntensor(6)\ntensor(0)\ntensor(5)\ntensor(3)\ntensor(3)\ntensor(3)\ntensor(2)\ntensor(5)\ntensor(3)\ntensor(1)\ntensor(3)\ntensor(3)\ntensor(6)\ntensor(3)\ntensor(1)\ntensor(5)\ntensor(6)\ntensor(1)\ntensor(4)\ntensor(1)\ntensor(2)\ntensor(1)\ntensor(2)\ntensor(4)\ntensor(6)\ntensor(2)\ntensor(6)\ntensor(4)\ntensor(0)\ntensor(2)\ntensor(2)\ntensor(2)\ntensor(5)\ntensor(5)\ntensor(5)\ntensor(2)\ntensor(1)\ntensor(1)\ntensor(5)\ntensor(5)\ntensor(1)\ntensor(6)\ntensor(6)\ntensor(1)\ntensor(1)\ntensor(2)\ntensor(1)\ntensor(2)\ntensor(1)\ntensor(1)\ntensor(1)\ntensor(4)\ntensor(3)\ntensor(4)\ntensor(6)\ntensor(1)\ntensor(2)\ntensor(5)\ntensor(2)\ntensor(0)\ntensor(1)\ntensor(5)\ntensor(2)\ntensor(3)\ntensor(1)\ntensor(3)\ntensor(4)\ntensor(2)\ntensor(2)\ntensor(6)\ntensor(1)\ntensor(2)\ntensor(2)\ntensor(5)\ntensor(2)\ntensor(0)\ntensor(1)\ntensor(2)\ntensor(3)\ntensor(3)\ntensor(2)\ntensor(1)\ntensor(1)\ntensor(2)\ntensor(5)\ntensor(3)\ntensor(3)\ntensor(2)\ntensor(0)\ntensor(0)\ntensor(6)\ntensor(2)\ntensor(1)\ntensor(1)\ntensor(1)\ntensor(1)\ntensor(1)\ntensor(5)\ntensor(1)\ntensor(1)\ntensor(2)\ntensor(1)\ntensor(2)\ntensor(1)\ntensor(2)\ntensor(1)\ntensor(2)\ntensor(2)\ntensor(1)\ntensor(1)\ntensor(3)\ntensor(1)\ntensor(2)\ntensor(1)\ntensor(2)\ntensor(1)\ntensor(2)\ntensor(6)\ntensor(1)\ntensor(2)\ntensor(0)\ntensor(1)\ntensor(2)\ntensor(2)\ntensor(1)\ntensor(2)\ntensor(5)\ntensor(2)\ntensor(2)\ntensor(3)\ntensor(1)\ntensor(3)\ntensor(3)\ntensor(0)\ntensor(5)\ntensor(5)\ntensor(3)\ntensor(3)\ntensor(0)\ntensor(1)\ntensor(1)\ntensor(6)\ntensor(1)\ntensor(0)\ntensor(5)\ntensor(3)\ntensor(1)\ntensor(0)\ntensor(2)\ntensor(4)\ntensor(2)\ntensor(2)\ntensor(0)\ntensor(4)\ntensor(0)\ntensor(3)\ntensor(5)\ntensor(3)\ntensor(2)\ntensor(6)\ntensor(1)\ntensor(1)\ntensor(3)\ntensor(0)\ntensor(6)\ntensor(2)\ntensor(2)\ntensor(3)\ntensor(6)\ntensor(2)\ntensor(6)\ntensor(6)\ntensor(4)\ntensor(6)\ntensor(1)\ntensor(6)\ntensor(1)\ntensor(6)\ntensor(1)\ntensor(2)\ntensor(2)\ntensor(2)\ntensor(0)\ntensor(5)\ntensor(2)\ntensor(3)\ntensor(6)\ntensor(3)\ntensor(2)\ntensor(6)\ntensor(6)\ntensor(1)\ntensor(3)\ntensor(2)\ntensor(6)\ntensor(2)\ntensor(2)\ntensor(1)\ntensor(6)\ntensor(2)\ntensor(6)\ntensor(2)\ntensor(2)\ntensor(0)\ntensor(6)\ntensor(1)\ntensor(3)\ntensor(1)\ntensor(0)\ntensor(5)\ntensor(3)\ntensor(6)\ntensor(4)\ntensor(0)\ntensor(2)\ntensor(0)\ntensor(0)\ntensor(2)\ntensor(2)\ntensor(3)\ntensor(2)\ntensor(3)\ntensor(2)\ntensor(1)\ntensor(3)\ntensor(2)\ntensor(2)\ntensor(2)\ntensor(3)\ntensor(2)\ntensor(2)\ntensor(2)\ntensor(2)\ntensor(3)\ntensor(2)\ntensor(6)\ntensor(1)\ntensor(2)\ntensor(2)\ntensor(0)\ntensor(1)\ntensor(2)\ntensor(0)\ntensor(0)\ntensor(2)\ntensor(3)\ntensor(1)\ntensor(0)\ntensor(3)\ntensor(2)\ntensor(4)\ntensor(1)\ntensor(4)\ntensor(2)\ntensor(2)\ntensor(4)\ntensor(4)\ntensor(2)\ntensor(2)\ntensor(0)\ntensor(3)\ntensor(3)\ntensor(6)\ntensor(3)\ntensor(3)\ntensor(3)\ntensor(2)\ntensor(6)\ntensor(5)\ntensor(3)\ntensor(5)\ntensor(2)\ntensor(3)\ntensor(1)\ntensor(4)\ntensor(5)\ntensor(4)\ntensor(2)\ntensor(3)\ntensor(2)\ntensor(5)\ntensor(4)\ntensor(2)\ntensor(2)\ntensor(2)\ntensor(5)\ntensor(4)\ntensor(3)\ntensor(4)\ntensor(2)\ntensor(1)\ntensor(0)\ntensor(2)\ntensor(5)\ntensor(5)\ntensor(1)\ntensor(2)\ntensor(4)\ntensor(2)\ntensor(6)\ntensor(3)\ntensor(2)\ntensor(3)\ntensor(2)\ntensor(3)\ntensor(3)\ntensor(3)\ntensor(3)\ntensor(3)\ntensor(0)\ntensor(0)\ntensor(6)\ntensor(3)\ntensor(2)\ntensor(1)\ntensor(0)\ntensor(4)\ntensor(0)\ntensor(3)\ntensor(6)\ntensor(6)\ntensor(2)\ntensor(1)\ntensor(1)\ntensor(4)\ntensor(6)\ntensor(0)\ntensor(6)\ntensor(0)\ntensor(4)\ntensor(2)\ntensor(6)\ntensor(3)\ntensor(0)\ntensor(1)\ntensor(2)\ntensor(3)\ntensor(5)\ntensor(4)\ntensor(6)\ntensor(2)\ntensor(2)\ntensor(2)\ntensor(2)\ntensor(2)\ntensor(2)\ntensor(0)\ntensor(2)\ntensor(1)\ntensor(2)\ntensor(3)\ntensor(2)\ntensor(6)\ntensor(6)\ntensor(3)\ntensor(6)\ntensor(1)\ntensor(2)\ntensor(3)\ntensor(1)\ntensor(1)\ntensor(2)\ntensor(1)\ntensor(1)\ntensor(0)\ntensor(1)\ntensor(2)\ntensor(2)\ntensor(3)\ntensor(3)\ntensor(2)\ntensor(5)\ntensor(6)\ntensor(3)\ntensor(2)\ntensor(3)\ntensor(3)\ntensor(2)\ntensor(5)\ntensor(2)\ntensor(4)\ntensor(2)\ntensor(2)\ntensor(5)\ntensor(2)\ntensor(1)\ntensor(2)\ntensor(3)\ntensor(0)\ntensor(2)\ntensor(3)\ntensor(0)\ntensor(6)\ntensor(2)\ntensor(5)\ntensor(4)\ntensor(2)\ntensor(2)\ntensor(1)\ntensor(6)\ntensor(0)\ntensor(2)\ntensor(3)\ntensor(3)\ntensor(6)\ntensor(3)\ntensor(2)\ntensor(1)\ntensor(1)\ntensor(0)\ntensor(3)\ntensor(2)\ntensor(0)\ntensor(2)\ntensor(2)\ntensor(2)\ntensor(2)\ntensor(3)\ntensor(2)\ntensor(3)\ntensor(2)\ntensor(3)\ntensor(3)\ntensor(2)\ntensor(6)\ntensor(0)\ntensor(2)\ntensor(6)\ntensor(2)\ntensor(0)\ntensor(4)\ntensor(5)\ntensor(3)\ntensor(5)\ntensor(3)\ntensor(5)\ntensor(3)\ntensor(0)\ntensor(2)\ntensor(2)\ntensor(3)\ntensor(0)\ntensor(1)\ntensor(2)\ntensor(1)\ntensor(2)\ntensor(5)\ntensor(2)\ntensor(1)\ntensor(0)\ntensor(2)\ntensor(0)\ntensor(2)\ntensor(5)\ntensor(2)\ntensor(2)\ntensor(2)\ntensor(1)\ntensor(0)\ntensor(2)\ntensor(0)\ntensor(5)\ntensor(6)\ntensor(2)\ntensor(3)\ntensor(2)\ntensor(0)\ntensor(6)\ntensor(1)\ntensor(2)\ntensor(0)\ntensor(6)\ntensor(4)\ntensor(4)\ntensor(1)\ntensor(2)\ntensor(2)\ntensor(6)\ntensor(3)\ntensor(0)\ntensor(5)\ntensor(1)\ntensor(1)\ntensor(2)\ntensor(5)\ntensor(1)\ntensor(2)\ntensor(1)\ntensor(6)\ntensor(0)\ntensor(1)\ntensor(4)\ntensor(2)\ntensor(5)\ntensor(5)\ntensor(6)\ntensor(0)\ntensor(6)\ntensor(3)\ntensor(4)\ntensor(0)\ntensor(6)\ntensor(0)\ntensor(1)\ntensor(3)\ntensor(3)\ntensor(2)\ntensor(5)\ntensor(1)\ntensor(0)\ntensor(4)\ntensor(1)\ntensor(5)\ntensor(3)\ntensor(2)\ntensor(2)\ntensor(2)\ntensor(1)\ntensor(2)\ntensor(6)\ntensor(2)\ntensor(3)\ntensor(2)\ntensor(3)\ntensor(2)\ntensor(2)\ntensor(3)\ntensor(2)\ntensor(2)\ntensor(6)\ntensor(2)\ntensor(4)\ntensor(1)\ntensor(6)\ntensor(6)\ntensor(2)\ntensor(0)\ntensor(3)\ntensor(6)\ntensor(6)\ntensor(6)\ntensor(3)\ntensor(3)\ntensor(3)\ntensor(3)\ntensor(2)\ntensor(1)\ntensor(1)\ntensor(1)\ntensor(1)\ntensor(0)\ntensor(2)\n"
    }
   ],
   "source": [
    "for i in labels:\n",
    "    print(i)"
   ]
  },
  {
   "cell_type": "code",
   "execution_count": 76,
   "metadata": {},
   "outputs": [
    {
     "name": "stdout",
     "output_type": "stream",
     "text": "tensor(4)\n"
    }
   ],
   "source": [
    "print(labels[500])"
   ]
  },
  {
   "cell_type": "code",
   "execution_count": 47,
   "metadata": {},
   "outputs": [
    {
     "name": "stdout",
     "output_type": "stream",
     "text": "tensor([4, 2, 4, 2, 2, 2, 4, 6, 6, 5, 3, 3, 2, 3, 6, 3, 2, 6, 6, 2, 2, 5, 6, 1,\n        2, 6, 2, 2, 2, 2, 1, 2, 3, 3, 0, 6, 2, 1, 1, 0, 0, 0, 2, 0, 2, 2, 1, 2,\n        4, 6, 6, 4, 4, 2, 4, 6, 6, 3, 3, 4, 6, 2, 4, 4, 4, 4, 4, 4, 4, 6, 2, 6,\n        2, 3, 6, 4, 2, 3, 0, 2, 0, 0, 0, 0, 3, 5, 2, 2, 4, 2, 2, 6, 2, 0, 0, 2,\n        6, 5, 5, 2, 2, 4, 1, 0, 2, 2, 1, 2, 2, 2, 2, 2, 0, 2, 6, 6, 2, 2, 6, 3,\n        2, 4, 2, 3, 6, 2, 2, 2, 2, 0, 2, 2, 3, 4, 0, 6, 4, 3, 6, 3, 6, 3, 3, 0,\n        4, 3, 3, 3, 2, 0, 4, 2, 5, 4, 5, 2, 4, 4, 1, 2, 6, 3, 2, 2, 2, 2, 2, 2,\n        2, 5, 0, 4, 6, 2, 2, 5, 2, 2, 2, 0, 2, 1, 4, 0, 3, 2, 0, 2, 4, 1, 0, 4,\n        6, 2, 2, 6, 2, 3, 2, 4, 6, 2, 2, 2, 3, 2, 6, 5, 2, 2, 6, 3, 1, 3, 1, 3,\n        2, 1, 2, 2, 2, 1, 6, 3, 2, 3, 2, 1, 1, 3, 2, 2, 6, 4, 4, 5, 2, 2, 4, 4,\n        6, 2, 3, 1, 1, 2, 2, 2, 3, 4, 4, 2, 0, 2, 2, 1, 5, 1, 1, 3, 0, 6, 6, 2,\n        1, 1, 2, 6, 3, 1, 2, 2, 3, 4, 2, 4, 3, 3, 6, 2, 1, 1, 2, 0, 2, 0, 6, 3,\n        3, 1, 6, 6, 6, 1, 6, 6, 2, 2, 6, 0, 1, 0, 3, 1, 4, 2, 0, 4, 2, 2, 2, 1,\n        2, 1, 2, 1, 2, 0, 0, 0, 2, 2, 6, 2, 0, 0, 2, 3, 2, 2, 2, 0, 2, 1, 2, 0,\n        6, 5, 3, 2, 2, 3, 4, 4, 1, 2, 1, 6, 6, 5, 3, 3, 3, 6, 1, 3, 1, 0, 0, 6,\n        1, 6, 0, 2, 2, 6, 2, 2, 4, 3, 4, 3, 2, 2, 2, 4, 6, 5, 2, 4, 1, 2, 4, 0,\n        6, 6, 2, 6, 3, 3, 2, 3, 3, 5, 3, 3, 3, 3, 3, 2, 1, 0, 1, 6, 3, 3, 2, 2,\n        2, 3, 1, 6, 2, 3, 2, 3, 2, 3, 2, 2, 2, 2, 0, 0, 6, 2, 6, 0, 0, 3, 2, 6,\n        6, 4, 1, 1, 4, 0, 1, 2, 1, 1, 1, 1, 3, 3, 2, 0, 2, 2, 3, 0, 3, 1, 3, 6,\n        1, 6, 1, 1, 5, 1, 2, 5, 1, 1, 1, 6, 2, 3, 1, 3, 1, 3, 1, 2, 3, 6, 2, 2,\n        2, 0, 1, 0, 0, 3, 0, 3, 4, 2, 2, 0, 0, 3, 0, 1, 3, 5, 3, 3, 6, 0, 0, 6,\n        6, 2, 6, 5, 5, 1, 5, 5, 4, 3, 2, 3, 1, 2, 1, 6, 3, 2, 2, 2, 6, 6, 6, 6,\n        2, 3, 1, 2, 6, 0, 1, 1, 1, 2, 2, 0, 0, 2, 2, 2, 2, 4, 0, 0, 0, 5, 6, 2,\n        2, 6, 1, 2, 2, 2, 2, 2, 1, 5, 6, 1, 3, 1, 2, 2, 2, 1, 1, 5, 2, 5, 6, 2,\n        3, 1, 3, 2, 2, 5, 5, 3, 0, 5, 3, 3, 2, 0, 2, 2, 6, 2, 2, 6, 1, 3, 1, 1,\n        2, 0, 5, 2, 6, 6, 1, 0, 3, 6, 1, 0, 2, 1, 1, 2, 2, 1, 2, 2, 2, 0, 0, 0,\n        6, 0, 0, 1, 3, 2, 1, 1, 6, 3, 1, 6, 1, 4, 0, 1, 1, 3, 1, 1, 2, 2, 2, 3,\n        0, 2, 2, 5, 0, 1, 0, 0, 3, 2, 3, 1, 6, 6, 3, 0, 6, 5, 6, 1, 3, 2, 6, 2,\n        3, 6, 6, 1, 2, 5, 1, 2, 5, 6, 5, 4, 1, 6, 3, 6, 2, 6, 2, 6, 4, 4, 0, 2,\n        2, 6, 6, 6, 2, 3, 4, 2, 1, 1, 1, 1, 5, 0, 0, 2, 0, 4, 0, 0, 1, 4, 1, 1,\n        2, 1, 2, 6, 1, 1, 5, 6, 4, 2, 1, 1, 1, 0, 5, 6, 6, 6, 6, 2, 3, 3, 2, 2,\n        5, 2, 2, 2, 0, 1, 2, 2, 2, 4, 2, 3, 5, 1, 2, 5, 6, 1, 2, 0, 1, 2, 2, 6,\n        3, 6, 6, 5, 2, 6, 1, 5, 3, 1, 0, 1, 6, 2, 2, 2, 2, 2, 1, 3, 3, 2, 6, 3,\n        5, 2, 3, 2, 6, 5, 2, 1, 2, 5, 0, 1, 0, 1, 6, 2, 3, 6, 6, 1, 5, 2, 4, 2,\n        4, 0, 2, 1, 2, 2, 6, 2, 3, 1, 3, 5, 2, 6, 1, 1, 1, 1, 1, 3, 3, 6, 3, 6,\n        2, 2, 2, 6, 0, 0, 2, 3, 0, 4, 0, 1, 2, 1, 0, 0, 2, 3, 6, 2, 6, 6, 1, 6,\n        6, 2, 2, 0, 0, 1, 5, 1, 3, 2, 2, 3, 4, 0, 4, 1, 1, 3, 2, 2, 2, 0, 6, 2,\n        6, 2, 6, 1, 1, 3, 2, 1, 1, 3, 2, 2, 6, 0, 2, 3, 1, 2, 2, 0, 1, 1, 1, 2,\n        0, 0, 3, 3, 0, 2, 2, 3, 0, 2, 2, 2, 1, 3, 0, 3, 5, 5, 2, 2, 1, 6, 5, 2,\n        3, 3, 4, 1, 4, 1, 5, 4, 6, 5, 2, 4, 0, 6, 2, 2, 2, 0, 2, 1, 6, 2, 3, 4,\n        6, 2, 2, 3, 2, 0, 1, 1, 6, 6, 2, 2, 2, 1, 1, 0, 1, 2, 3, 3, 2, 1, 6, 0,\n        6, 2, 5, 2, 2, 5, 2, 6, 6, 2, 2, 1, 0, 0, 0, 2])\n"
    }
   ],
   "source": [
    "print(labels[test_mask])"
   ]
  },
  {
   "cell_type": "code",
   "execution_count": null,
   "metadata": {},
   "outputs": [],
   "source": []
  }
 ]
}