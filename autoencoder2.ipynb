{
 "nbformat": 4,
 "nbformat_minor": 2,
 "metadata": {
  "language_info": {
   "name": "python",
   "codemirror_mode": {
    "name": "ipython",
    "version": 3
   },
   "version": "3.7.3-final"
  },
  "orig_nbformat": 2,
  "file_extension": ".py",
  "mimetype": "text/x-python",
  "name": "python",
  "npconvert_exporter": "python",
  "pygments_lexer": "ipython3",
  "version": 3,
  "kernelspec": {
   "name": "python37364bitbasecondad424485431ff4a8aa076a99cfa3fb48c",
   "display_name": "Python 3.7.3 64-bit ('base': conda)"
  }
 },
 "cells": [
  {
   "cell_type": "code",
   "execution_count": 1,
   "metadata": {},
   "outputs": [],
   "source": [
    "import torch\n",
    "import torch.nn as nn\n",
    "import torch.nn.functional as F\n",
    "import torch.optim as optim\n",
    "import torchvision\n",
    "import torchvision.transforms as transforms\n",
    "import numpy as np\n",
    "import pandas as pd\n",
    "import sklearn\n",
    "import matplotlib.pyplot as plt\n",
    "from sklearn.datasets import load_iris\n",
    "from sklearn.model_selection import train_test_split"
   ]
  },
  {
   "cell_type": "code",
   "execution_count": 203,
   "metadata": {},
   "outputs": [
    {
     "data": {
      "text/html": "<div>\n<style scoped>\n    .dataframe tbody tr th:only-of-type {\n        vertical-align: middle;\n    }\n\n    .dataframe tbody tr th {\n        vertical-align: top;\n    }\n\n    .dataframe thead th {\n        text-align: right;\n    }\n</style>\n<table border=\"1\" class=\"dataframe\">\n  <thead>\n    <tr style=\"text-align: right;\">\n      <th></th>\n      <th>id</th>\n      <th>diagnosis</th>\n      <th>radius_mean</th>\n      <th>texture_mean</th>\n      <th>perimeter_mean</th>\n      <th>area_mean</th>\n      <th>smoothness_mean</th>\n      <th>compactness_mean</th>\n      <th>concavity_mean</th>\n      <th>concave points_mean</th>\n      <th>...</th>\n      <th>texture_worst</th>\n      <th>perimeter_worst</th>\n      <th>area_worst</th>\n      <th>smoothness_worst</th>\n      <th>compactness_worst</th>\n      <th>concavity_worst</th>\n      <th>concave points_worst</th>\n      <th>symmetry_worst</th>\n      <th>fractal_dimension_worst</th>\n      <th>Unnamed: 32</th>\n    </tr>\n  </thead>\n  <tbody>\n    <tr>\n      <th>0</th>\n      <td>842302</td>\n      <td>M</td>\n      <td>17.99</td>\n      <td>10.38</td>\n      <td>122.80</td>\n      <td>1001.0</td>\n      <td>0.11840</td>\n      <td>0.27760</td>\n      <td>0.30010</td>\n      <td>0.14710</td>\n      <td>...</td>\n      <td>17.33</td>\n      <td>184.60</td>\n      <td>2019.0</td>\n      <td>0.16220</td>\n      <td>0.66560</td>\n      <td>0.7119</td>\n      <td>0.2654</td>\n      <td>0.4601</td>\n      <td>0.11890</td>\n      <td>NaN</td>\n    </tr>\n    <tr>\n      <th>1</th>\n      <td>842517</td>\n      <td>M</td>\n      <td>20.57</td>\n      <td>17.77</td>\n      <td>132.90</td>\n      <td>1326.0</td>\n      <td>0.08474</td>\n      <td>0.07864</td>\n      <td>0.08690</td>\n      <td>0.07017</td>\n      <td>...</td>\n      <td>23.41</td>\n      <td>158.80</td>\n      <td>1956.0</td>\n      <td>0.12380</td>\n      <td>0.18660</td>\n      <td>0.2416</td>\n      <td>0.1860</td>\n      <td>0.2750</td>\n      <td>0.08902</td>\n      <td>NaN</td>\n    </tr>\n    <tr>\n      <th>2</th>\n      <td>84300903</td>\n      <td>M</td>\n      <td>19.69</td>\n      <td>21.25</td>\n      <td>130.00</td>\n      <td>1203.0</td>\n      <td>0.10960</td>\n      <td>0.15990</td>\n      <td>0.19740</td>\n      <td>0.12790</td>\n      <td>...</td>\n      <td>25.53</td>\n      <td>152.50</td>\n      <td>1709.0</td>\n      <td>0.14440</td>\n      <td>0.42450</td>\n      <td>0.4504</td>\n      <td>0.2430</td>\n      <td>0.3613</td>\n      <td>0.08758</td>\n      <td>NaN</td>\n    </tr>\n    <tr>\n      <th>3</th>\n      <td>84348301</td>\n      <td>M</td>\n      <td>11.42</td>\n      <td>20.38</td>\n      <td>77.58</td>\n      <td>386.1</td>\n      <td>0.14250</td>\n      <td>0.28390</td>\n      <td>0.24140</td>\n      <td>0.10520</td>\n      <td>...</td>\n      <td>26.50</td>\n      <td>98.87</td>\n      <td>567.7</td>\n      <td>0.20980</td>\n      <td>0.86630</td>\n      <td>0.6869</td>\n      <td>0.2575</td>\n      <td>0.6638</td>\n      <td>0.17300</td>\n      <td>NaN</td>\n    </tr>\n    <tr>\n      <th>4</th>\n      <td>84358402</td>\n      <td>M</td>\n      <td>20.29</td>\n      <td>14.34</td>\n      <td>135.10</td>\n      <td>1297.0</td>\n      <td>0.10030</td>\n      <td>0.13280</td>\n      <td>0.19800</td>\n      <td>0.10430</td>\n      <td>...</td>\n      <td>16.67</td>\n      <td>152.20</td>\n      <td>1575.0</td>\n      <td>0.13740</td>\n      <td>0.20500</td>\n      <td>0.4000</td>\n      <td>0.1625</td>\n      <td>0.2364</td>\n      <td>0.07678</td>\n      <td>NaN</td>\n    </tr>\n    <tr>\n      <th>...</th>\n      <td>...</td>\n      <td>...</td>\n      <td>...</td>\n      <td>...</td>\n      <td>...</td>\n      <td>...</td>\n      <td>...</td>\n      <td>...</td>\n      <td>...</td>\n      <td>...</td>\n      <td>...</td>\n      <td>...</td>\n      <td>...</td>\n      <td>...</td>\n      <td>...</td>\n      <td>...</td>\n      <td>...</td>\n      <td>...</td>\n      <td>...</td>\n      <td>...</td>\n      <td>...</td>\n    </tr>\n    <tr>\n      <th>564</th>\n      <td>926424</td>\n      <td>M</td>\n      <td>21.56</td>\n      <td>22.39</td>\n      <td>142.00</td>\n      <td>1479.0</td>\n      <td>0.11100</td>\n      <td>0.11590</td>\n      <td>0.24390</td>\n      <td>0.13890</td>\n      <td>...</td>\n      <td>26.40</td>\n      <td>166.10</td>\n      <td>2027.0</td>\n      <td>0.14100</td>\n      <td>0.21130</td>\n      <td>0.4107</td>\n      <td>0.2216</td>\n      <td>0.2060</td>\n      <td>0.07115</td>\n      <td>NaN</td>\n    </tr>\n    <tr>\n      <th>565</th>\n      <td>926682</td>\n      <td>M</td>\n      <td>20.13</td>\n      <td>28.25</td>\n      <td>131.20</td>\n      <td>1261.0</td>\n      <td>0.09780</td>\n      <td>0.10340</td>\n      <td>0.14400</td>\n      <td>0.09791</td>\n      <td>...</td>\n      <td>38.25</td>\n      <td>155.00</td>\n      <td>1731.0</td>\n      <td>0.11660</td>\n      <td>0.19220</td>\n      <td>0.3215</td>\n      <td>0.1628</td>\n      <td>0.2572</td>\n      <td>0.06637</td>\n      <td>NaN</td>\n    </tr>\n    <tr>\n      <th>566</th>\n      <td>926954</td>\n      <td>M</td>\n      <td>16.60</td>\n      <td>28.08</td>\n      <td>108.30</td>\n      <td>858.1</td>\n      <td>0.08455</td>\n      <td>0.10230</td>\n      <td>0.09251</td>\n      <td>0.05302</td>\n      <td>...</td>\n      <td>34.12</td>\n      <td>126.70</td>\n      <td>1124.0</td>\n      <td>0.11390</td>\n      <td>0.30940</td>\n      <td>0.3403</td>\n      <td>0.1418</td>\n      <td>0.2218</td>\n      <td>0.07820</td>\n      <td>NaN</td>\n    </tr>\n    <tr>\n      <th>567</th>\n      <td>927241</td>\n      <td>M</td>\n      <td>20.60</td>\n      <td>29.33</td>\n      <td>140.10</td>\n      <td>1265.0</td>\n      <td>0.11780</td>\n      <td>0.27700</td>\n      <td>0.35140</td>\n      <td>0.15200</td>\n      <td>...</td>\n      <td>39.42</td>\n      <td>184.60</td>\n      <td>1821.0</td>\n      <td>0.16500</td>\n      <td>0.86810</td>\n      <td>0.9387</td>\n      <td>0.2650</td>\n      <td>0.4087</td>\n      <td>0.12400</td>\n      <td>NaN</td>\n    </tr>\n    <tr>\n      <th>568</th>\n      <td>92751</td>\n      <td>B</td>\n      <td>7.76</td>\n      <td>24.54</td>\n      <td>47.92</td>\n      <td>181.0</td>\n      <td>0.05263</td>\n      <td>0.04362</td>\n      <td>0.00000</td>\n      <td>0.00000</td>\n      <td>...</td>\n      <td>30.37</td>\n      <td>59.16</td>\n      <td>268.6</td>\n      <td>0.08996</td>\n      <td>0.06444</td>\n      <td>0.0000</td>\n      <td>0.0000</td>\n      <td>0.2871</td>\n      <td>0.07039</td>\n      <td>NaN</td>\n    </tr>\n  </tbody>\n</table>\n<p>569 rows × 33 columns</p>\n</div>",
      "text/plain": "           id diagnosis  radius_mean  texture_mean  perimeter_mean  area_mean  \\\n0      842302         M        17.99         10.38          122.80     1001.0   \n1      842517         M        20.57         17.77          132.90     1326.0   \n2    84300903         M        19.69         21.25          130.00     1203.0   \n3    84348301         M        11.42         20.38           77.58      386.1   \n4    84358402         M        20.29         14.34          135.10     1297.0   \n..        ...       ...          ...           ...             ...        ...   \n564    926424         M        21.56         22.39          142.00     1479.0   \n565    926682         M        20.13         28.25          131.20     1261.0   \n566    926954         M        16.60         28.08          108.30      858.1   \n567    927241         M        20.60         29.33          140.10     1265.0   \n568     92751         B         7.76         24.54           47.92      181.0   \n\n     smoothness_mean  compactness_mean  concavity_mean  concave points_mean  \\\n0            0.11840           0.27760         0.30010              0.14710   \n1            0.08474           0.07864         0.08690              0.07017   \n2            0.10960           0.15990         0.19740              0.12790   \n3            0.14250           0.28390         0.24140              0.10520   \n4            0.10030           0.13280         0.19800              0.10430   \n..               ...               ...             ...                  ...   \n564          0.11100           0.11590         0.24390              0.13890   \n565          0.09780           0.10340         0.14400              0.09791   \n566          0.08455           0.10230         0.09251              0.05302   \n567          0.11780           0.27700         0.35140              0.15200   \n568          0.05263           0.04362         0.00000              0.00000   \n\n     ...  texture_worst  perimeter_worst  area_worst  smoothness_worst  \\\n0    ...          17.33           184.60      2019.0           0.16220   \n1    ...          23.41           158.80      1956.0           0.12380   \n2    ...          25.53           152.50      1709.0           0.14440   \n3    ...          26.50            98.87       567.7           0.20980   \n4    ...          16.67           152.20      1575.0           0.13740   \n..   ...            ...              ...         ...               ...   \n564  ...          26.40           166.10      2027.0           0.14100   \n565  ...          38.25           155.00      1731.0           0.11660   \n566  ...          34.12           126.70      1124.0           0.11390   \n567  ...          39.42           184.60      1821.0           0.16500   \n568  ...          30.37            59.16       268.6           0.08996   \n\n     compactness_worst  concavity_worst  concave points_worst  symmetry_worst  \\\n0              0.66560           0.7119                0.2654          0.4601   \n1              0.18660           0.2416                0.1860          0.2750   \n2              0.42450           0.4504                0.2430          0.3613   \n3              0.86630           0.6869                0.2575          0.6638   \n4              0.20500           0.4000                0.1625          0.2364   \n..                 ...              ...                   ...             ...   \n564            0.21130           0.4107                0.2216          0.2060   \n565            0.19220           0.3215                0.1628          0.2572   \n566            0.30940           0.3403                0.1418          0.2218   \n567            0.86810           0.9387                0.2650          0.4087   \n568            0.06444           0.0000                0.0000          0.2871   \n\n     fractal_dimension_worst  Unnamed: 32  \n0                    0.11890          NaN  \n1                    0.08902          NaN  \n2                    0.08758          NaN  \n3                    0.17300          NaN  \n4                    0.07678          NaN  \n..                       ...          ...  \n564                  0.07115          NaN  \n565                  0.06637          NaN  \n566                  0.07820          NaN  \n567                  0.12400          NaN  \n568                  0.07039          NaN  \n\n[569 rows x 33 columns]"
     },
     "execution_count": 203,
     "metadata": {},
     "output_type": "execute_result"
    }
   ],
   "source": [
    "dataset = pd.read_csv('breast/breast.csv')\n",
    "dataset"
   ]
  },
  {
   "cell_type": "code",
   "execution_count": 204,
   "metadata": {},
   "outputs": [],
   "source": [
    "# dataset.plot(x='radius_mean', y='smoothness_mean', style='o')\n",
    "# dataset.plot(x='smoothness_mean', y='compactness_mean', style='o')\n",
    "# dataset.plot(x='smoothness_mean', y='concavity_mean', style='o')\n"
   ]
  },
  {
   "cell_type": "code",
   "execution_count": 205,
   "metadata": {},
   "outputs": [],
   "source": [
    "processed_data = dataset.drop(columns=['id', 'diagnosis', 'Unnamed: 32'])\n",
    "#processed_data"
   ]
  },
  {
   "cell_type": "code",
   "execution_count": 206,
   "metadata": {},
   "outputs": [
    {
     "data": {
      "text/html": "<div>\n<style scoped>\n    .dataframe tbody tr th:only-of-type {\n        vertical-align: middle;\n    }\n\n    .dataframe tbody tr th {\n        vertical-align: top;\n    }\n\n    .dataframe thead th {\n        text-align: right;\n    }\n</style>\n<table border=\"1\" class=\"dataframe\">\n  <thead>\n    <tr style=\"text-align: right;\">\n      <th></th>\n      <th>radius_mean</th>\n      <th>texture_mean</th>\n      <th>perimeter_mean</th>\n      <th>area_mean</th>\n      <th>smoothness_mean</th>\n      <th>compactness_mean</th>\n      <th>concavity_mean</th>\n      <th>concave points_mean</th>\n      <th>symmetry_mean</th>\n      <th>fractal_dimension_mean</th>\n      <th>...</th>\n      <th>radius_worst</th>\n      <th>texture_worst</th>\n      <th>perimeter_worst</th>\n      <th>area_worst</th>\n      <th>smoothness_worst</th>\n      <th>compactness_worst</th>\n      <th>concavity_worst</th>\n      <th>concave points_worst</th>\n      <th>symmetry_worst</th>\n      <th>fractal_dimension_worst</th>\n    </tr>\n  </thead>\n  <tbody>\n    <tr>\n      <th>0</th>\n      <td>17.99</td>\n      <td>10.38</td>\n      <td>122.80</td>\n      <td>1001.0</td>\n      <td>0.11840</td>\n      <td>0.27760</td>\n      <td>0.30010</td>\n      <td>0.14710</td>\n      <td>0.2419</td>\n      <td>0.07871</td>\n      <td>...</td>\n      <td>25.38</td>\n      <td>17.33</td>\n      <td>184.60</td>\n      <td>2019.0</td>\n      <td>0.16220</td>\n      <td>0.6656</td>\n      <td>0.7119</td>\n      <td>0.26540</td>\n      <td>0.4601</td>\n      <td>0.11890</td>\n    </tr>\n    <tr>\n      <th>1</th>\n      <td>20.57</td>\n      <td>17.77</td>\n      <td>132.90</td>\n      <td>1326.0</td>\n      <td>0.08474</td>\n      <td>0.07864</td>\n      <td>0.08690</td>\n      <td>0.07017</td>\n      <td>0.1812</td>\n      <td>0.05667</td>\n      <td>...</td>\n      <td>24.99</td>\n      <td>23.41</td>\n      <td>158.80</td>\n      <td>1956.0</td>\n      <td>0.12380</td>\n      <td>0.1866</td>\n      <td>0.2416</td>\n      <td>0.18600</td>\n      <td>0.2750</td>\n      <td>0.08902</td>\n    </tr>\n    <tr>\n      <th>2</th>\n      <td>19.69</td>\n      <td>21.25</td>\n      <td>130.00</td>\n      <td>1203.0</td>\n      <td>0.10960</td>\n      <td>0.15990</td>\n      <td>0.19740</td>\n      <td>0.12790</td>\n      <td>0.2069</td>\n      <td>0.05999</td>\n      <td>...</td>\n      <td>23.57</td>\n      <td>25.53</td>\n      <td>152.50</td>\n      <td>1709.0</td>\n      <td>0.14440</td>\n      <td>0.4245</td>\n      <td>0.4504</td>\n      <td>0.24300</td>\n      <td>0.3613</td>\n      <td>0.08758</td>\n    </tr>\n    <tr>\n      <th>3</th>\n      <td>11.42</td>\n      <td>20.38</td>\n      <td>77.58</td>\n      <td>386.1</td>\n      <td>0.14250</td>\n      <td>0.28390</td>\n      <td>0.24140</td>\n      <td>0.10520</td>\n      <td>0.2597</td>\n      <td>0.09744</td>\n      <td>...</td>\n      <td>14.91</td>\n      <td>26.50</td>\n      <td>98.87</td>\n      <td>567.7</td>\n      <td>0.20980</td>\n      <td>0.8663</td>\n      <td>0.6869</td>\n      <td>0.25750</td>\n      <td>0.6638</td>\n      <td>0.17300</td>\n    </tr>\n    <tr>\n      <th>4</th>\n      <td>20.29</td>\n      <td>14.34</td>\n      <td>135.10</td>\n      <td>1297.0</td>\n      <td>0.10030</td>\n      <td>0.13280</td>\n      <td>0.19800</td>\n      <td>0.10430</td>\n      <td>0.1809</td>\n      <td>0.05883</td>\n      <td>...</td>\n      <td>22.54</td>\n      <td>16.67</td>\n      <td>152.20</td>\n      <td>1575.0</td>\n      <td>0.13740</td>\n      <td>0.2050</td>\n      <td>0.4000</td>\n      <td>0.16250</td>\n      <td>0.2364</td>\n      <td>0.07678</td>\n    </tr>\n    <tr>\n      <th>...</th>\n      <td>...</td>\n      <td>...</td>\n      <td>...</td>\n      <td>...</td>\n      <td>...</td>\n      <td>...</td>\n      <td>...</td>\n      <td>...</td>\n      <td>...</td>\n      <td>...</td>\n      <td>...</td>\n      <td>...</td>\n      <td>...</td>\n      <td>...</td>\n      <td>...</td>\n      <td>...</td>\n      <td>...</td>\n      <td>...</td>\n      <td>...</td>\n      <td>...</td>\n      <td>...</td>\n    </tr>\n    <tr>\n      <th>450</th>\n      <td>11.87</td>\n      <td>21.54</td>\n      <td>76.83</td>\n      <td>432.0</td>\n      <td>0.06613</td>\n      <td>0.10640</td>\n      <td>0.08777</td>\n      <td>0.02386</td>\n      <td>0.1349</td>\n      <td>0.06612</td>\n      <td>...</td>\n      <td>12.79</td>\n      <td>28.18</td>\n      <td>83.51</td>\n      <td>507.2</td>\n      <td>0.09457</td>\n      <td>0.3399</td>\n      <td>0.3218</td>\n      <td>0.08750</td>\n      <td>0.2305</td>\n      <td>0.09952</td>\n    </tr>\n    <tr>\n      <th>451</th>\n      <td>19.59</td>\n      <td>25.00</td>\n      <td>127.70</td>\n      <td>1191.0</td>\n      <td>0.10320</td>\n      <td>0.09871</td>\n      <td>0.16550</td>\n      <td>0.09063</td>\n      <td>0.1663</td>\n      <td>0.05391</td>\n      <td>...</td>\n      <td>21.44</td>\n      <td>30.96</td>\n      <td>139.80</td>\n      <td>1421.0</td>\n      <td>0.15280</td>\n      <td>0.1845</td>\n      <td>0.3977</td>\n      <td>0.14660</td>\n      <td>0.2293</td>\n      <td>0.06091</td>\n    </tr>\n    <tr>\n      <th>452</th>\n      <td>12.00</td>\n      <td>28.23</td>\n      <td>76.77</td>\n      <td>442.5</td>\n      <td>0.08437</td>\n      <td>0.06450</td>\n      <td>0.04055</td>\n      <td>0.01945</td>\n      <td>0.1615</td>\n      <td>0.06104</td>\n      <td>...</td>\n      <td>13.09</td>\n      <td>37.88</td>\n      <td>85.07</td>\n      <td>523.7</td>\n      <td>0.12080</td>\n      <td>0.1856</td>\n      <td>0.1811</td>\n      <td>0.07116</td>\n      <td>0.2447</td>\n      <td>0.08194</td>\n    </tr>\n    <tr>\n      <th>453</th>\n      <td>14.53</td>\n      <td>13.98</td>\n      <td>93.86</td>\n      <td>644.2</td>\n      <td>0.10990</td>\n      <td>0.09242</td>\n      <td>0.06895</td>\n      <td>0.06495</td>\n      <td>0.1650</td>\n      <td>0.06121</td>\n      <td>...</td>\n      <td>15.80</td>\n      <td>16.93</td>\n      <td>103.10</td>\n      <td>749.9</td>\n      <td>0.13470</td>\n      <td>0.1478</td>\n      <td>0.1373</td>\n      <td>0.10690</td>\n      <td>0.2606</td>\n      <td>0.07810</td>\n    </tr>\n    <tr>\n      <th>454</th>\n      <td>12.62</td>\n      <td>17.15</td>\n      <td>80.62</td>\n      <td>492.9</td>\n      <td>0.08583</td>\n      <td>0.05430</td>\n      <td>0.02966</td>\n      <td>0.02272</td>\n      <td>0.1799</td>\n      <td>0.05826</td>\n      <td>...</td>\n      <td>14.34</td>\n      <td>22.15</td>\n      <td>91.62</td>\n      <td>633.5</td>\n      <td>0.12250</td>\n      <td>0.1517</td>\n      <td>0.1887</td>\n      <td>0.09851</td>\n      <td>0.3270</td>\n      <td>0.07330</td>\n    </tr>\n  </tbody>\n</table>\n<p>455 rows × 30 columns</p>\n</div>",
      "text/plain": "     radius_mean  texture_mean  perimeter_mean  area_mean  smoothness_mean  \\\n0          17.99         10.38          122.80     1001.0          0.11840   \n1          20.57         17.77          132.90     1326.0          0.08474   \n2          19.69         21.25          130.00     1203.0          0.10960   \n3          11.42         20.38           77.58      386.1          0.14250   \n4          20.29         14.34          135.10     1297.0          0.10030   \n..           ...           ...             ...        ...              ...   \n450        11.87         21.54           76.83      432.0          0.06613   \n451        19.59         25.00          127.70     1191.0          0.10320   \n452        12.00         28.23           76.77      442.5          0.08437   \n453        14.53         13.98           93.86      644.2          0.10990   \n454        12.62         17.15           80.62      492.9          0.08583   \n\n     compactness_mean  concavity_mean  concave points_mean  symmetry_mean  \\\n0             0.27760         0.30010              0.14710         0.2419   \n1             0.07864         0.08690              0.07017         0.1812   \n2             0.15990         0.19740              0.12790         0.2069   \n3             0.28390         0.24140              0.10520         0.2597   \n4             0.13280         0.19800              0.10430         0.1809   \n..                ...             ...                  ...            ...   \n450           0.10640         0.08777              0.02386         0.1349   \n451           0.09871         0.16550              0.09063         0.1663   \n452           0.06450         0.04055              0.01945         0.1615   \n453           0.09242         0.06895              0.06495         0.1650   \n454           0.05430         0.02966              0.02272         0.1799   \n\n     fractal_dimension_mean  ...  radius_worst  texture_worst  \\\n0                   0.07871  ...         25.38          17.33   \n1                   0.05667  ...         24.99          23.41   \n2                   0.05999  ...         23.57          25.53   \n3                   0.09744  ...         14.91          26.50   \n4                   0.05883  ...         22.54          16.67   \n..                      ...  ...           ...            ...   \n450                 0.06612  ...         12.79          28.18   \n451                 0.05391  ...         21.44          30.96   \n452                 0.06104  ...         13.09          37.88   \n453                 0.06121  ...         15.80          16.93   \n454                 0.05826  ...         14.34          22.15   \n\n     perimeter_worst  area_worst  smoothness_worst  compactness_worst  \\\n0             184.60      2019.0           0.16220             0.6656   \n1             158.80      1956.0           0.12380             0.1866   \n2             152.50      1709.0           0.14440             0.4245   \n3              98.87       567.7           0.20980             0.8663   \n4             152.20      1575.0           0.13740             0.2050   \n..               ...         ...               ...                ...   \n450            83.51       507.2           0.09457             0.3399   \n451           139.80      1421.0           0.15280             0.1845   \n452            85.07       523.7           0.12080             0.1856   \n453           103.10       749.9           0.13470             0.1478   \n454            91.62       633.5           0.12250             0.1517   \n\n     concavity_worst  concave points_worst  symmetry_worst  \\\n0             0.7119               0.26540          0.4601   \n1             0.2416               0.18600          0.2750   \n2             0.4504               0.24300          0.3613   \n3             0.6869               0.25750          0.6638   \n4             0.4000               0.16250          0.2364   \n..               ...                   ...             ...   \n450           0.3218               0.08750          0.2305   \n451           0.3977               0.14660          0.2293   \n452           0.1811               0.07116          0.2447   \n453           0.1373               0.10690          0.2606   \n454           0.1887               0.09851          0.3270   \n\n     fractal_dimension_worst  \n0                    0.11890  \n1                    0.08902  \n2                    0.08758  \n3                    0.17300  \n4                    0.07678  \n..                       ...  \n450                  0.09952  \n451                  0.06091  \n452                  0.08194  \n453                  0.07810  \n454                  0.07330  \n\n[455 rows x 30 columns]"
     },
     "execution_count": 206,
     "metadata": {},
     "output_type": "execute_result"
    }
   ],
   "source": [
    "trainset = processed_data.iloc[:455, :]\n",
    "testset = processed_data.iloc[455:, :]\n",
    "\n",
    "trainset"
   ]
  },
  {
   "cell_type": "code",
   "execution_count": 207,
   "metadata": {},
   "outputs": [
    {
     "name": "stdout",
     "output_type": "stream",
     "text": "[[ 17.99  10.38 122.8  ...   0.27   0.46   0.12]\n [  0.    17.77 132.9  ...   0.19   0.28   0.09]\n [ 19.69  21.25 130.   ...   0.24   0.36   0.09]\n ...\n [ 12.    28.23  76.77 ...   0.     0.24   0.08]\n [ 14.53  13.98  93.86 ...   0.11   0.26   0.08]\n [ 12.62   0.    80.62 ...   0.1    0.33   0.07]]\n"
    }
   ],
   "source": [
    "REPLACE_COUNT = trainset.size*0.1               # Set the number of missing values\n",
    "NAN = 0\n",
    "\n",
    "missing_data_train = trainset.to_numpy()\n",
    "full_data_train = missing_data_train.copy()     # Create a copy of the same trainset\n",
    "\n",
    "missing_data_train.flat[np.random.choice(missing_data_train.size, int(REPLACE_COUNT), replace=False)] = NAN\n",
    "\n",
    "missing_data_test = testset.to_numpy()\n",
    "full_data_test = missing_data_test.copy()\n",
    "\n",
    "missing_data_test.flat[np.random.choice(missing_data_test.size, int(REPLACE_COUNT*0.2), replace=False)] = NAN\n",
    "\n",
    "np.set_printoptions(precision=2, suppress=True)\n",
    "\n",
    "print(missing_data_train)"
   ]
  },
  {
   "cell_type": "code",
   "execution_count": 255,
   "metadata": {},
   "outputs": [],
   "source": [
    "class Autoencoder(nn.Module):\n",
    "    def __init__(self):\n",
    "        super(Autoencoder, self).__init__()\n",
    "\n",
    "        self.enc1 = nn.Linear(in_features=30, out_features=16)\n",
    "        self.enc2 = nn.Linear(in_features=16, out_features=8)\n",
    "        self.enc3 = nn.Linear(in_features=8, out_features=4)\n",
    "\n",
    "        self.dec1 = nn.Linear(in_features=4, out_features=8)\n",
    "        self.dec2 = nn.Linear(in_features=8, out_features=16)\n",
    "        self.dec3 = nn.Linear(in_features=16, out_features=30)\n",
    "\n",
    "    def forward(self, x):\n",
    "        x = F.leaky_relu(self.enc1(x))\n",
    "        x = F.leaky_relu(self.enc2(x))\n",
    "        x = F.leaky_relu(self.enc3(x))\n",
    "        x = F.leaky_relu(self.dec1(x))\n",
    "        x = F.leaky_relu(self.dec2(x))\n",
    "        x = self.dec3(x)\n",
    "        return x"
   ]
  },
  {
   "cell_type": "code",
   "execution_count": 256,
   "metadata": {},
   "outputs": [
    {
     "name": "stdout",
     "output_type": "stream",
     "text": "Autoencoder(\n  (enc1): Linear(in_features=30, out_features=16, bias=True)\n  (enc2): Linear(in_features=16, out_features=8, bias=True)\n  (enc3): Linear(in_features=8, out_features=4, bias=True)\n  (dec1): Linear(in_features=4, out_features=8, bias=True)\n  (dec2): Linear(in_features=8, out_features=16, bias=True)\n  (dec3): Linear(in_features=16, out_features=30, bias=True)\n)\n"
    }
   ],
   "source": [
    "net = Autoencoder().double()\n",
    "print(net)"
   ]
  },
  {
   "cell_type": "code",
   "execution_count": 257,
   "metadata": {},
   "outputs": [],
   "source": [
    "NUM_EPOCHS = 6000\n",
    "LEARNING_RATE = 0.001\n",
    "BATCH_SIZE = 455\n",
    "NUM_FEATURES = 30\n",
    "BATCH_SIZE_TEST = 114"
   ]
  },
  {
   "cell_type": "code",
   "execution_count": 258,
   "metadata": {},
   "outputs": [
    {
     "data": {
      "text/plain": "torch.Size([1, 455, 30])"
     },
     "execution_count": 258,
     "metadata": {},
     "output_type": "execute_result"
    }
   ],
   "source": [
    "x_train = torch.from_numpy(missing_data_train)\n",
    "x_train = x_train.view(1, BATCH_SIZE, NUM_FEATURES)\n",
    "\n",
    "y_train = torch.from_numpy(full_data_train)\n",
    "y_train = y_train.view(1, BATCH_SIZE, NUM_FEATURES)\n",
    "\n",
    "x_test = torch.from_numpy(missing_data_test)\n",
    "x_test = x_test.view(1, BATCH_SIZE_TEST, NUM_FEATURES)\n",
    "\n",
    "y_test = torch.from_numpy(full_data_test)\n",
    "y_test = y_test.view(1, BATCH_SIZE_TEST, NUM_FEATURES)\n",
    "\n",
    "x_train.shape"
   ]
  },
  {
   "cell_type": "code",
   "execution_count": 259,
   "metadata": {},
   "outputs": [],
   "source": [
    "criterion = nn.MSELoss()\n",
    "optimizer = optim.Adam(net.parameters(), lr=LEARNING_RATE)"
   ]
  },
  {
   "cell_type": "code",
   "execution_count": 260,
   "metadata": {},
   "outputs": [],
   "source": [
    "def train(net):\n",
    "    train_loss = []\n",
    "    torch.set_printoptions(precision=3, sci_mode=False)\n",
    "    for epoch in range(NUM_EPOCHS):\n",
    "        running_loss = 0.0\n",
    "        for missing_data, full_data in zip(x_train, y_train):\n",
    "            optimizer.zero_grad()\n",
    "            outputs = net(missing_data.double())\n",
    "            loss = criterion(outputs, full_data)\n",
    "            loss.backward()\n",
    "            optimizer.step()\n",
    "            running_loss += loss.item()\n",
    "\n",
    "            if epoch == NUM_EPOCHS-1:\n",
    "                for i in range(len(missing_data)):\n",
    "                    print(\"Input: \", missing_data[i])\n",
    "                    print(\"Target: \", full_data[i])\n",
    "                    print(\"Outputs: \", outputs[i])\n",
    "\n",
    "        loss = running_loss / len(x_train)\n",
    "        train_loss.append(loss)\n",
    "\n",
    "        print('Epoch {} of {}, Train Loss: {:.3f}'\n",
    "            .format(epoch+1, NUM_EPOCHS, loss))\n",
    "\n",
    "    return train_loss\n",
    "\n",
    "\n",
    "def test(net):\n",
    "\n",
    "    net.eval()\n",
    "\n",
    "    with torch.no_grad():\n",
    "        test_loss = []\n",
    "        running_loss = 0.0\n",
    "\n",
    "        for missing_data, full_data in zip(x_test, y_test):\n",
    "            outputs = net(missing_data.double())\n",
    "            loss = criterion(outputs, full_data)\n",
    "            running_loss += loss.item()\n",
    "            for i in range(len(missing_data)):\n",
    "                    print(\"Input: \", missing_data[i])\n",
    "                    print(\"Target: \", full_data[i])\n",
    "                    print(\"Outputs: \", outputs[i])\n",
    "\n",
    "        loss = running_loss / len(x_test)\n",
    "        test_loss.append(loss)\n",
    "        print('Test Loss: {:.3f}'.format(loss))\n",
    "\n",
    "        return test_loss"
   ]
  },
  {
   "cell_type": "code",
   "execution_count": 261,
   "metadata": {},
   "outputs": [
    {
     "name": "stdout",
     "output_type": "stream",
     "text": "7,     0.159,     0.056,     0.214,     0.655,\n            1.606,    19.250,     0.005,     0.009,     0.009,     0.011,\n            0.012,     0.002,    14.910,    19.310,    96.530,   688.900,\n            0.103,     0.102,     0.063,     0.082,     0.214,     0.067],\n       dtype=torch.float64)\nOutputs:  tensor([    13.329,     17.472,     83.823,    604.514,      0.334,      0.119,\n            -0.169,     -0.058,      0.279,      0.186,      0.615,      1.094,\n             2.478,     31.821,      0.327,      0.187,      0.153,      0.123,\n            -0.228,     -0.102,     13.797,     21.625,     92.385,    689.737,\n             0.139,      0.292,      0.350,      0.088,      0.114,     -0.165],\n       dtype=torch.float64, grad_fn=<SelectBackward>)\nInput:tensor([   10.970,    17.200,    71.730,   371.500,     0.089,     0.111,\n            0.095,     0.036,     0.149,     0.066,     0.257,     1.376,\n            2.806,     0.000,     0.000,     0.046,     0.064,     0.018,\n            0.015,     0.005,    12.360,    26.870,     0.000,   476.400,\n            0.139,     0.408,     0.478,     0.000,     0.254,     0.095],\n       dtype=torch.float64)\nTarget:  tensor([   10.970,    17.200,    71.730,   371.500,     0.089,     0.111,\n            0.095,     0.036,     0.149,     0.066,     0.257,     1.376,\n            2.806,    18.150,     0.009,     0.046,     0.064,     0.018,\n            0.015,     0.005,    12.360,    26.870,    90.140,   476.400,\n            0.139,     0.408,     0.478,     0.155,     0.254,     0.095],\n       dtype=torch.float64)\nOutputs:  tensor([     9.247,     12.348,     51.765,    371.547,      0.176,      0.134,\n             0.042,      0.016,      0.225,      0.039,      0.271,      1.151,\n             1.979,     18.971,     -0.002,     -0.044,      0.078,      0.040,\n             0.048,      0.045,      9.524,     15.186,     59.312,    479.025,\n             0.172,      0.301,      0.393,      0.183,      0.227,      0.058],\n       dtype=torch.float64, grad_fn=<SelectBackward>)\nInput:  tensor([   17.270,    25.420,   112.400,   928.800,     0.083,     0.111,\n            0.120,     0.057,     0.147,     0.054,     0.510,     1.679,\n            3.283,    58.380,     0.000,     0.043,     0.049,     0.000,\n            0.016,     0.000,    20.380,    35.460,   132.800,     0.000,\n            0.144,     0.412,     0.504,     0.174,     0.250,     0.079],\n       dtype=torch.float64)\nTarget:  tensor([   17.270,    25.420,   112.400,   928.800,     0.083,     0.111,\n            0.120,     0.057,     0.147,     0.054,     0.510,     1.679,\n            3.283,    58.380,     0.008,     0.043,     0.049,     0.017,\n            0.016,     0.004,    20.380,    35.460,   132.800,  1284.000,\n            0.144,     0.412,     0.504,     0.174,     0.250,     0.079],\n       dtype=torch.float64)\nOutputs:  tensor([    18.302,     20.270,    120.088,    931.031,     -1.775,     -0.324,\n             0.656,     -0.221,      0.293,      0.338,     -0.385,      2.051,\n             3.058,     55.119,     -0.879,      0.614,     -0.262,     -0.239,\n             0.393,     -0.331,     22.083,     30.777,    139.571,   1228.955,\n             0.051,      0.102,     -0.999,     -0.179,      1.091,      0.831],\n       dtype=torch.float64, grad_fn=<SelectBackward>)\nInput:  tensor([   13.780,    15.790,    88.370,   585.900,     0.088,     0.067,\n            0.011,     0.010,     0.141,     0.058,     0.356,     0.483,\n            2.235,    29.340,     0.006,     0.012,     0.008,     0.006,\n            0.012,     0.003,    15.270,    17.500,    97.900,   706.600,\n            0.000,     0.107,     0.035,     0.033,     0.186,     0.068],\n       dtype=torch.float64)\nTarget:  tensor([   13.780,    15.790,    88.370,   585.900,     0.088,     0.067,\n            0.011,     0.010,     0.141,     0.058,     0.356,     0.483,\n            2.235,    29.340,     0.006,     0.012,     0.008,     0.006,\n            0.012,     0.003,    15.270,    17.500,    97.900,   706.600,\n            0.107,     0.107,     0.035,     0.033,     0.186,     0.068],\n       dtype=torch.float64)\nOutputs:  tensor([    12.904,     17.192,     82.354,    588.110,      0.251,      0.155,\n             0.066,      0.026,      0.208,      0.029,      0.348,      1.140,\n             2.440,     27.430,      0.025,     -0.043,      0.104,      0.105,\n             0.041,      0.034,     14.023,     21.900,     91.927,    699.272,\n             0.157,      0.329,      0.400,      0.172,      0.197,      0.027],\n       dtype=torch.float64, grad_fn=<SelectBackward>)\nInput:  tensor([    0.000,    18.320,    66.820,   340.900,     0.081,     0.045,\n            0.020,     0.011,     0.237,     0.058,     0.182,     2.542,\n            1.277,    13.120,     0.011,     0.013,     0.020,     0.000,\n            0.017,     0.004,     0.000,    23.310,     0.000,   366.300,\n            0.098,     0.065,     0.040,     0.022,     0.270,     0.067],\n       dtype=torch.float64)\nTarget:  tensor([   10.570,    18.320,    66.820,   340.900,     0.081,     0.045,\n            0.020,     0.011,     0.237,     0.058,     0.182,     2.542,\n            1.277,    13.120,     0.011,     0.013,     0.020,     0.011,\n            0.017,     0.004,    10.940,    23.310,    69.350,   366.300,\n            0.098,     0.065,     0.040,     0.022,     0.270,     0.067],\n       dtype=torch.float64)\nOutputs:  tensor([     8.668,     11.211,     46.301,    339.020,      0.035,      0.012,\n             0.014,     -0.063,      0.145,      0.122,      0.292,      1.328,\n             1.794,     23.746,      0.084,      0.194,      0.029,      0.116,\n            -0.034,     -0.144,      8.048,     13.061,     50.029,    368.068,\n             0.049,      0.120,     -0.002,     -0.159,      0.312,      0.049],\n       dtype=torch.float64, grad_fn=<SelectBackward>)\nInput:  tensor([   18.030,    16.850,   117.500,   990.000,     0.089,     0.000,\n            0.109,     0.063,     0.172,     0.058,     0.299,     0.591,\n            1.921,    35.770,     0.004,     0.016,     0.030,     0.000,\n            0.013,     0.002,    20.380,    22.020,   133.300,  1292.000,\n            0.126,     0.267,     0.429,     0.153,     0.284,     0.082],\n       dtype=torch.float64)\nTarget:  tensor([   18.030,    16.850,   117.500,   990.000,     0.089,     0.123,\n            0.109,     0.063,     0.172,     0.058,     0.299,     0.591,\n            1.921,    35.770,     0.004,     0.016,     0.030,     0.010,\n            0.013,     0.002,    20.380,    22.020,   133.300,  1292.000,\n            0.126,     0.267,     0.429,     0.153,     0.284,     0.082],\n       dtype=torch.float64)\nOutputs:  tensor([    18.747,     23.880,    128.574,    984.753,      0.187,      0.154,\n             0.133,      0.008,      0.207,      0.083,      0.530,      1.156,\n             3.697,     57.400,      0.015,      0.059,      0.116,      0.177,\n             0.010,     -0.033,     22.129,     31.936,    149.080,   1291.205,\n             0.132,      0.379,      0.345,      0.137,      0.242,      0.042],\n       dtype=torch.float64, grad_fn=<SelectBackward>)\nInput:  tensor([    0.000,    24.890,    77.610,   441.300,     0.103,     0.092,\n            0.054,     0.043,     0.182,     0.069,     0.000,     1.204,\n            1.865,    19.390,     0.008,     0.020,     0.023,     0.017,\n            0.021,     0.004,    12.980,    30.360,    84.480,   513.900,\n            0.131,     0.182,     0.161,     0.120,     0.260,     0.083],\n       dtype=torch.float64)\nTarget:  tensor([   11.990,    24.890,    77.610,   441.300,     0.103,     0.092,\n            0.054,     0.043,     0.182,     0.069,     0.262,     1.204,\n            1.865,    19.390,     0.008,     0.020,     0.023,     0.017,\n            0.021,     0.004,    12.980,    30.360,    84.480,   513.900,\n            0.131,     0.182,     0.161,     0.120,     0.260,     0.083],\n       dtype=torch.float64)\nOutputs:  tensor([    10.863,     14.799,     64.683,    446.751,      0.466,      0.205,\n            -0.177,      0.006,      0.334,      0.098,      0.535,      0.963,\n             2.184,     18.924,      0.270,     -0.032,      0.182,      0.041,\n            -0.150,      0.061,     10.951,     17.922,     71.417,    514.617,\n             0.236,      0.398,      0.658,      0.341,      0.034,     -0.165],\n       dtype=torch.float64, grad_fn=<SelectBackward>)\nInput:  tensor([   17.750,    28.030,   117.300,   981.600,     0.100,     0.131,\n            0.170,     0.083,     0.171,     0.059,     0.390,     1.077,\n            2.873,    43.950,     0.000,     0.020,     0.037,     0.011,\n            0.012,     0.003,    21.530,    38.540,   145.400,  1437.000,\n            0.140,     0.000,     0.640,     0.197,     0.297,     0.091],\n       dtype=torch.float64)\nTarget:  tensor([   17.750,    28.030,   117.300,   981.600,     0.100,     0.131,\n            0.170,     0.083,     0.171,     0.059,     0.390,     1.077,\n            2.873,    43.950,     0.005,     0.020,     0.037,     0.011,\n            0.012,     0.003,    21.530,    38.540,   145.400,  1437.000,\n            0.140,     0.376,     0.640,     0.197,     0.297,     0.091],\n       dtype=torch.float64)\nOutputs:  tensor([    17.875,     22.517,    120.309,    980.507,      0.427,      0.221,\n             0.028,      0.022,      0.252,      0.069,      0.729,      0.980,\n             4.184,     68.937,      0.157,     -0.002,      0.183,      0.198,\n            -0.063,      0.007,     21.747,     29.915,    146.665,   1440.320,\n             0.178,      0.481,      0.615,      0.251,      0.120,     -0.083],\n       dtype=torch.float64, grad_fn=<SelectBackward>)\nInput:  tensor([   14.800,    17.660,    95.880,   674.800,     0.092,     0.089,\n            0.041,     0.023,     0.189,     0.059,     0.000,     0.622,\n            1.482,    19.750,     0.005,     0.012,     0.018,     0.007,\n            0.023,     0.002,     0.000,    22.740,   105.900,     0.000,\n            0.000,     0.188,     0.206,     0.083,     0.360,     0.073],\n       dtype=torch.float64)\nTarget:  tensor([   14.800,    17.660,    95.880,   674.800,     0.092,     0.089,\n            0.041,     0.023,     0.189,     0.059,     0.220,     0.622,\n            1.482,    19.750,     0.005,     0.012,     0.018,     0.007,\n            0.023,     0.002,    16.430,    22.740,   105.900,   829.500,\n            0.123,     0.188,     0.206,     0.083,     0.360,     0.073],\n       dtype=torch.float64)\nOutputs:  tensor([    14.465,     16.447,     90.676,    672.339,     -1.392,     -0.241,\n             0.522,     -0.169,      0.274,      0.257,     -0.353,      1.888,\n             2.298,     34.740,     -0.719,      0.449,     -0.207,     -0.213,\n             0.348,     -0.235,     16.620,     24.277,    102.690,    832.947,\n             0.079,      0.111,     -0.736,     -0.107,      0.916,      0.687],\n       dtype=torch.float64, grad_fn=<SelectBackward>)\nInput:  tensor([   14.530,     0.000,     0.000,   659.700,     0.084,     0.078,\n            0.088,     0.029,     0.147,     0.057,     0.254,     1.354,\n            0.000,    23.040,     0.004,     0.020,     0.034,     0.009,\n            0.000,     0.002,     0.000,     0.000,   108.100,   830.500,\n            0.109,     0.265,     0.378,     0.096,     0.247,     0.075],\n       dtype=torch.float64)\nTarget:  tensor([   14.530,    19.340,    94.250,   659.700,     0.084,     0.078,\n            0.088,     0.029,     0.147,     0.057,     0.254,     1.354,\n            1.994,    23.040,     0.004,     0.020,     0.034,     0.009,\n            0.014,     0.002,    16.300,    28.390,   108.100,   830.500,\n            0.109,     0.265,     0.378,     0.096,     0.247,     0.075],\n       dtype=torch.float64)\nOutputs:  tensor([    13.856,     17.305,     88.021,    652.506,     -0.308,      0.022,\n             0.236,     -0.039,      0.193,      0.140,      0.166,      1.410,\n             2.510,     34.528,     -0.229,      0.168,     -0.018,      0.028,\n             0.112,     -0.081,     15.560,     23.268,    100.410,    823.147,\n             0.104,      0.211,     -0.028,      0.012,      0.475,      0.272],\n       dtype=torch.float64, grad_fn=<SelectBackward>)\nInput:  tensor([   21.100,     0.000,     0.000,  1384.000,     0.097,     0.117,\n            0.157,     0.116,     0.155,     0.057,     0.664,     1.361,\n            4.542,    81.890,     0.005,     0.021,     0.032,     0.015,\n            0.010,     0.002,    25.680,    32.070,   168.200,  2022.000,\n            0.137,     0.310,     0.440,     0.228,     0.227,     0.074],\n       dtype=torch.float64)\nTarget:  tensor([   21.100,    20.520,   138.100,  1384.000,     0.097,     0.117,\n            0.157,     0.116,     0.155,     0.057,     0.664,     1.361,\n            4.542,    81.890,     0.005,     0.021,     0.032,     0.015,\n            0.010,     0.002,    25.680,    32.070,   168.200,  2022.000,\n            0.137,     0.310,     0.440,     0.228,     0.227,     0.074],\n       dtype=torch.float64)\nOutputs:  tensor([    23.749,     28.383,    165.275,   1369.723,     -0.196,      0.084,\n             0.261,     -0.057,      0.232,      0.219,      0.671,      1.279,\n             5.209,     98.405,     -0.115,      0.291,      0.067,      0.180,\n            -0.007,     -0.164,     29.965,     39.850,    202.307,   2020.531,\n             0.102,      0.397,      0.121,      0.056,      0.438,      0.180],\n       dtype=torch.float64, grad_fn=<SelectBackward>)\nInput:  tensor([   11.870,    21.540,    76.830,   432.000,     0.066,     0.106,\n            0.088,     0.024,     0.135,     0.066,     0.256,     1.554,\n            1.955,    20.240,     0.007,     0.061,     0.067,     0.016,\n            0.024,     0.009,    12.790,    28.180,    83.510,   507.200,\n            0.095,     0.340,     0.322,     0.087,     0.231,     0.100],\n       dtype=torch.float64)\nTarget:  tensor([   11.870,    21.540,    76.830,   432.000,     0.066,     0.106,\n            0.088,     0.024,     0.135,     0.066,     0.256,     1.554,\n            1.955,    20.240,     0.007,     0.061,     0.067,     0.016,\n            0.024,     0.009,    12.790,    28.180,    83.510,   507.200,\n            0.095,     0.340,     0.322,     0.087,     0.231,     0.100],\n       dtype=torch.float64)\nOutputs:  tensor([    10.658,     14.647,     63.420,    437.569,      0.525,      0.240,\n            -0.168,      0.033,      0.345,      0.062,      0.529,      0.920,\n             2.265,     18.595,      0.248,     -0.113,      0.196,      0.028,\n            -0.118,      0.117,     10.796,     17.696,     70.096,    506.970,\n             0.265,      0.439,      0.766,      0.424,      0.004,     -0.165],\n       dtype=torch.float64, grad_fn=<SelectBackward>)\nInput:  tensor([   19.590,    25.000,   127.700,  1191.000,     0.103,     0.099,\n            0.000,     0.091,     0.166,     0.054,     0.467,     0.000,\n            2.916,    56.180,     0.000,     0.019,     0.049,     0.015,\n            0.016,     0.002,    21.440,    30.960,   139.800,  1421.000,\n            0.153,     0.184,     0.398,     0.147,     0.229,     0.061],\n       dtype=torch.float64)\nTarget:  tensor([   19.590,    25.000,   127.700,  1191.000,     0.103,     0.099,\n            0.166,     0.091,     0.166,     0.054,     0.467,     1.375,\n            2.916,    56.180,     0.012,     0.019,     0.049,     0.015,\n            0.016,     0.002,    21.440,    30.960,   139.800,  1421.000,\n            0.153,     0.184,     0.398,     0.147,     0.229,     0.061],\n       dtype=torch.float64)\nOutputs:  tensor([    22.683,     29.240,    161.459,   1188.158,      0.239,      0.176,\n             0.107,      0.008,      0.237,      0.114,      0.615,      1.142,\n             3.976,     59.227,      0.069,      0.085,      0.150,      0.196,\n            -0.047,     -0.038,     26.459,     39.238,    180.776,   1417.337,\n             0.142,      0.409,      0.368,      0.184,      0.196,     -0.008],\n       dtype=torch.float64, grad_fn=<SelectBackward>)\nInput:  tensor([   12.000,    28.230,    76.770,   442.500,     0.084,     0.065,\n            0.041,     0.019,     0.162,     0.061,     0.191,     1.705,\n            0.000,    13.860,     0.007,     0.026,     0.029,     0.009,\n            0.017,     0.004,    13.090,    37.880,    85.070,   523.700,\n            0.121,     0.186,     0.181,     0.000,     0.245,     0.082],\n       dtype=torch.float64)\nTarget:  tensor([   12.000,    28.230,    76.770,   442.500,     0.084,     0.065,\n            0.041,     0.019,     0.162,     0.061,     0.191,     1.705,\n            1.516,    13.860,     0.007,     0.026,     0.029,     0.009,\n            0.017,     0.004,    13.090,    37.880,    85.070,   523.700,\n            0.121,     0.186,     0.181,     0.071,     0.245,     0.082],\n       dtype=torch.float64)\nOutputs:  tensor([    10.650,     14.569,     64.271,    448.311,      0.358,      0.178,\n             0.010,      0.039,      0.219,      0.002,      0.344,      1.079,\n             2.122,     19.627,      0.075,     -0.103,      0.121,      0.091,\n             0.029,      0.072,     11.082,     17.910,     71.386,    526.890,\n             0.178,      0.340,      0.503,      0.217,      0.140,     -0.019],\n       dtype=torch.float64, grad_fn=<SelectBackward>)\nInput:  tensor([   14.530,    13.980,    93.860,   644.200,     0.000,     0.092,\n            0.069,     0.065,     0.165,     0.061,     0.306,     0.721,\n            2.143,     0.000,     0.006,     0.013,     0.016,     0.011,\n            0.000,     0.004,     0.000,    16.930,   103.100,   749.900,\n            0.135,     0.148,     0.137,     0.107,     0.261,     0.078],\n       dtype=torch.float64)\nTarget:  tensor([   14.530,    13.980,    93.860,   644.200,     0.110,     0.092,\n            0.069,     0.065,     0.165,     0.061,     0.306,     0.721,\n            2.143,    25.700,     0.006,     0.013,     0.016,     0.011,\n            0.022,     0.004,    15.800,    16.930,   103.100,   749.900,\n            0.135,     0.148,     0.137,     0.107,     0.261,     0.078],\n       dtype=torch.float64)\nOutputs:  tensor([    13.933,     18.260,     89.306,    637.222,      0.240,      0.175,\n            -0.049,     -0.000,      0.323,      0.127,      0.484,      1.075,\n             2.659,     29.521,      0.115,      0.021,      0.140,      0.028,\n            -0.086,      0.037,     15.057,     23.447,     99.368,    749.946,\n             0.221,      0.386,      0.512,      0.318,      0.152,     -0.039],\n       dtype=torch.float64, grad_fn=<SelectBackward>)\nInput:  tensor([   12.620,     0.000,    80.620,   492.900,     0.000,     0.000,\n            0.030,     0.023,     0.180,     0.058,     0.169,     0.667,\n            1.116,    13.320,     0.004,     0.009,     0.000,     0.007,\n            0.016,     0.000,    14.340,    22.150,    91.620,   633.500,\n            0.122,     0.152,     0.189,     0.099,     0.327,     0.073],\n       dtype=torch.float64)\nTarget:  tensor([   12.620,    17.150,    80.620,   492.900,     0.086,     0.054,\n            0.030,     0.023,     0.180,     0.058,     0.169,     0.667,\n            1.116,    13.320,     0.004,     0.009,     0.013,     0.007,\n            0.016,     0.002,    14.340,    22.150,    91.620,   633.500,\n            0.122,     0.152,     0.189,     0.099,     0.327,     0.073],\n       dtype=torch.float64)\nOutputs:  tensor([    11.127,     14.668,     67.066,    491.484,      0.187,      0.140,\n             0.057,      0.016,      0.224,      0.044,      0.320,      1.148,\n             2.308,     26.085,      0.005,     -0.030,      0.089,      0.067,\n             0.042,      0.033,     11.994,     18.527,     76.945,    632.638,\n             0.166,      0.320,      0.391,      0.179,      0.224,      0.050],\n       dtype=torch.float64, grad_fn=<SelectBackward>)\nEpoch 6000 of 6000, Train Loss: 66.777\n"
    }
   ],
   "source": [
    "results = train(net)"
   ]
  },
  {
   "cell_type": "code",
   "execution_count": 262,
   "metadata": {},
   "outputs": [
    {
     "name": "stdout",
     "output_type": "stream",
     "text": "           0.040,     0.013,     0.169,     0.066,     0.301,     1.879,\n            0.000,    17.860,     0.011,     0.018,     0.040,     0.013,\n            0.038,     0.005,     9.845,    25.050,    62.860,   295.800,\n            0.110,     0.083,     0.080,     0.026,     0.243,     0.074],\n       dtype=torch.float64)\nTarget:  tensor([    9.333,    21.940,    59.010,   264.000,     0.092,     0.056,\n            0.040,     0.013,     0.169,     0.066,     0.301,     1.879,\n            2.121,    17.860,     0.011,     0.018,     0.040,     0.013,\n            0.038,     0.005,     9.845,    25.050,    62.860,   295.800,\n            0.110,     0.083,     0.080,     0.026,     0.243,     0.074],\n       dtype=torch.float64)\nOutputs:  tensor([     7.902,     10.691,     40.596,    267.168,      0.058,      0.023,\n             0.023,     -0.001,      0.114,      0.075,      0.212,      1.293,\n             1.264,      9.364,      0.065,      0.110,     -0.002,      0.035,\n            -0.006,     -0.077,      7.272,     12.641,     44.424,    297.501,\n             0.060,      0.100,      0.065,     -0.113,      0.320,      0.071],\n       dtype=torch.float64)\nInput:  tensor([   12.880,    28.920,    82.500,   514.300,     0.081,     0.058,\n            0.062,     0.023,     0.000,     0.000,     0.212,     1.360,\n            1.502,     0.000,     0.008,     0.022,     0.039,     0.000,\n            0.017,     0.003,    13.890,    35.740,    88.840,   595.700,\n            0.123,     0.000,     0.244,     0.065,     0.237,     0.072],\n       dtype=torch.float64)\nTarget:  tensor([   12.880,    28.920,    82.500,   514.300,     0.081,     0.058,\n            0.062,     0.023,     0.157,     0.057,     0.212,     1.360,\n            1.502,    16.830,     0.008,     0.022,     0.039,     0.008,\n            0.017,     0.003,    13.890,    35.740,    88.840,   595.700,\n            0.123,     0.162,     0.244,     0.065,     0.237,     0.072],\n       dtype=torch.float64)\nOutputs:  tensor([    11.921,     16.218,     73.692,    514.639,      0.554,      0.236,\n            -0.146,      0.126,      0.261,      0.019,      0.583,      0.931,\n             2.461,     22.571,      0.263,     -0.168,      0.140,     -0.059,\n            -0.120,      0.162,     12.373,     20.017,     81.649,    598.377,\n             0.234,      0.356,      0.776,      0.397,      0.030,     -0.148],\n       dtype=torch.float64)\nInput:  tensor([   10.290,    27.610,    65.670,   321.400,     0.090,     0.077,\n            0.060,     0.027,     0.159,     0.061,     0.220,     2.239,\n            1.437,    14.460,     0.012,     0.027,     0.048,     0.017,\n            0.018,     0.005,    10.840,    34.910,    69.570,   357.600,\n            0.138,     0.171,     0.000,     0.091,     0.223,     0.083],\n       dtype=torch.float64)\nTarget:  tensor([   10.290,    27.610,    65.670,   321.400,     0.090,     0.077,\n            0.060,     0.027,     0.159,     0.061,     0.220,     2.239,\n            1.437,    14.460,     0.012,     0.027,     0.048,     0.017,\n            0.018,     0.005,    10.840,    34.910,    69.570,   357.600,\n            0.138,     0.171,     0.200,     0.091,     0.223,     0.083],\n       dtype=torch.float64)\nOutputs:  tensor([     8.865,     12.478,     49.321,    329.307,      0.413,      0.068,\n            -0.095,      0.017,      0.070,      0.038,      0.408,      1.161,\n             1.365,     12.098,      0.302,      0.088,      0.064,      0.151,\n            -0.112,     -0.096,      8.276,     14.326,     53.944,    363.802,\n             0.027,      0.114,      0.193,     -0.176,      0.168,     -0.115],\n       dtype=torch.float64)\nInput:  tensor([   10.160,    19.590,    64.730,   311.700,     0.100,     0.075,\n            0.005,     0.011,     0.179,     0.063,     0.244,     0.000,\n            1.648,    16.800,     0.013,     0.022,     0.004,     0.007,\n            0.026,     0.002,    10.650,    22.880,     0.000,   347.300,\n            0.000,     0.120,     0.010,     0.022,     0.226,     0.067],\n       dtype=torch.float64)\nTarget:  tensor([   10.160,    19.590,    64.730,   311.700,     0.100,     0.075,\n            0.005,     0.011,     0.179,     0.063,     0.244,     2.090,\n            1.648,    16.800,     0.013,     0.022,     0.004,     0.007,\n            0.026,     0.002,    10.650,    22.880,    67.880,   347.300,\n            0.127,     0.120,     0.010,     0.022,     0.226,     0.067],\n       dtype=torch.float64)\nOutputs:  tensor([     8.607,     11.677,     46.568,    318.902,      0.184,      0.021,\n            -0.016,     -0.001,      0.069,      0.067,      0.310,      1.275,\n             1.416,     14.856,      0.171,      0.138,      0.013,      0.103,\n            -0.057,     -0.118,      7.999,     13.605,     50.764,    350.454,\n             0.018,      0.071,      0.044,     -0.210,      0.277,     -0.002],\n       dtype=torch.float64)\nInput:  tensor([    9.423,    27.880,    59.260,   271.300,     0.081,     0.050,\n            0.000,     0.000,     0.174,     0.061,     0.537,     2.927,\n            3.618,     0.000,     0.012,     0.011,     0.000,     0.000,\n            0.030,     0.003,     0.000,    34.240,    66.500,   330.600,\n            0.107,     0.072,     0.000,     0.000,     0.247,     0.070],\n       dtype=torch.float64)\nTarget:  tensor([    9.423,    27.880,    59.260,   271.300,     0.081,     0.050,\n            0.000,     0.000,     0.174,     0.061,     0.537,     2.927,\n            3.618,    29.110,     0.012,     0.011,     0.000,     0.000,\n            0.030,     0.003,    10.490,    34.240,    66.500,   330.600,\n            0.107,     0.072,     0.000,     0.000,     0.247,     0.070],\n       dtype=torch.float64)\nOutputs:  tensor([     7.751,     10.864,     40.466,    273.122,      0.335,      0.160,\n             0.009,      0.088,      0.172,     -0.035,      0.276,      1.096,\n             1.702,     11.412,      0.056,     -0.159,      0.068,     -0.002,\n             0.055,      0.114,      7.443,     12.730,     45.306,    331.311,\n             0.169,      0.264,      0.501,      0.199,      0.173,      0.016],\n       dtype=torch.float64)\nInput:  tensor([   14.590,    22.680,    96.390,   657.100,     0.000,     0.133,\n            0.103,     0.037,     0.145,     0.061,     0.225,     1.108,\n            2.224,    19.540,     0.004,     0.046,     0.066,     0.016,\n            0.016,     0.004,    15.480,    27.270,   105.900,   733.500,\n            0.103,     0.317,     0.366,     0.111,     0.226,     0.080],\n       dtype=torch.float64)\nTarget:  tensor([   14.590,    22.680,    96.390,   657.100,     0.085,     0.133,\n            0.103,     0.037,     0.145,     0.061,     0.225,     1.108,\n            2.224,    19.540,     0.004,     0.046,     0.066,     0.016,\n            0.016,     0.004,    15.480,    27.270,   105.900,   733.500,\n            0.103,     0.317,     0.366,     0.111,     0.226,     0.080],\n       dtype=torch.float64)\nOutputs:  tensor([    13.966,     18.332,     89.537,    657.964,      0.482,      0.124,\n            -0.154,      0.072,      0.137,      0.087,      0.705,      1.089,\n             2.759,     38.882,      0.389,      0.075,      0.093,      0.056,\n            -0.219,     -0.042,     14.512,     22.581,     98.448,    745.063,\n             0.082,      0.177,      0.387,      0.011,      0.107,     -0.181],\n       dtype=torch.float64)\nInput:  tensor([   11.510,    23.930,    74.520,   403.500,     0.093,     0.102,\n            0.111,     0.041,     0.139,     0.066,     0.000,     2.904,\n            1.936,    16.970,     0.008,     0.030,     0.057,     0.013,\n            0.015,     0.005,    12.480,     0.000,    82.280,   474.200,\n            0.130,     0.252,     0.363,     0.097,     0.211,     0.087],\n       dtype=torch.float64)\nTarget:  tensor([   11.510,    23.930,    74.520,   403.500,     0.093,     0.102,\n            0.111,     0.041,     0.139,     0.066,     0.239,     2.904,\n            1.936,    16.970,     0.008,     0.030,     0.057,     0.013,\n            0.015,     0.005,    12.480,    37.160,    82.280,   474.200,\n            0.130,     0.252,     0.363,     0.097,     0.211,     0.087],\n       dtype=torch.float64)\nOutputs:  tensor([    10.066,     13.823,     58.933,    404.631,      0.427,      0.194,\n            -0.067,      0.106,      0.220,     -0.002,      0.426,      1.021,\n             2.087,     16.905,      0.155,     -0.156,      0.101,     -0.038,\n            -0.034,      0.136,     10.151,     16.796,     65.172,    469.034,\n             0.202,      0.308,      0.628,      0.300,      0.107,     -0.062],\n       dtype=torch.float64)\nInput:  tensor([   14.050,    27.150,    91.380,   600.400,     0.099,     0.113,\n            0.045,     0.043,     0.154,     0.062,     0.364,     1.492,\n            2.888,    29.840,     0.007,     0.027,     0.021,     0.016,\n            0.021,     0.005,    15.300,    33.170,     0.000,   706.700,\n            0.124,     0.226,     0.133,     0.105,     0.225,     0.083],\n       dtype=torch.float64)\nTarget:  tensor([   14.050,    27.150,    91.380,   600.400,     0.099,     0.113,\n            0.045,     0.043,     0.154,     0.062,     0.364,     1.492,\n            2.888,    29.840,     0.007,     0.027,     0.021,     0.016,\n            0.021,     0.005,    15.300,    33.170,   100.200,   706.700,\n            0.124,     0.226,     0.133,     0.105,     0.225,     0.083],\n       dtype=torch.float64)\nOutputs:  tensor([    13.254,     17.633,     84.706,    601.471,      0.338,      0.171,\n             0.003,      0.130,      0.171,      0.006,      0.460,      1.087,\n             2.540,     27.494,      0.112,     -0.118,      0.064,     -0.047,\n            -0.023,      0.113,     14.264,     22.496,     94.248,    706.878,\n             0.165,      0.266,      0.525,      0.238,      0.174,     -0.010],\n       dtype=torch.float64)\nInput:  tensor([   11.200,     0.000,    70.670,   386.000,     0.074,     0.036,\n            0.000,     0.000,     0.106,     0.055,     0.314,     0.000,\n            2.041,    22.810,     0.008,     0.009,     0.000,     0.000,\n            0.020,     0.002,    11.920,    38.300,    75.190,   439.600,\n            0.093,     0.055,     0.000,     0.000,     0.157,     0.059],\n       dtype=torch.float64)\nTarget:  tensor([   11.200,    29.370,    70.670,   386.000,     0.074,     0.036,\n            0.000,     0.000,     0.106,     0.055,     0.314,     3.896,\n            2.041,    22.810,     0.008,     0.009,     0.000,     0.000,\n            0.020,     0.002,    11.920,    38.300,    75.190,   439.600,\n            0.093,     0.055,     0.000,     0.000,     0.157,     0.059],\n       dtype=torch.float64)\nOutputs:  tensor([     9.936,     13.573,     57.432,    391.839,      0.326,      0.086,\n            -0.081,      0.033,      0.131,      0.061,      0.417,      1.152,\n             1.670,     15.673,      0.240,      0.061,      0.061,      0.061,\n            -0.104,     -0.045,      9.707,     16.246,     63.178,    442.833,\n             0.081,      0.161,      0.272,     -0.033,      0.185,     -0.076],\n       dtype=torch.float64)\nInput:  tensor([   15.220,    30.620,   103.400,   716.900,     0.105,     0.209,\n            0.255,     0.094,     0.213,     0.072,     0.260,     1.205,\n            2.362,    22.650,     0.005,     0.048,     0.074,     0.016,\n            0.021,     0.006,    17.520,    42.790,   128.700,   915.000,\n            0.142,     0.792,     1.170,     0.236,     0.409,     0.141],\n       dtype=torch.float64)\nTarget:  tensor([   15.220,    30.620,   103.400,   716.900,     0.105,     0.209,\n            0.255,     0.094,     0.213,     0.072,     0.260,     1.205,\n            2.362,    22.650,     0.005,     0.048,     0.074,     0.016,\n            0.021,     0.006,    17.520,    42.790,   128.700,   915.000,\n            0.142,     0.792,     1.170,     0.236,     0.409,     0.141],\n       dtype=torch.float64)\nOutputs:  tensor([    14.737,     19.356,     97.191,    726.545,      0.353,      0.160,\n             0.118,      0.173,      0.058,     -0.068,      0.455,      1.130,\n             2.954,     39.939,      0.052,     -0.155,      0.029,      0.018,\n             0.061,      0.102,     16.751,     25.163,    111.745,    933.989,\n             0.101,      0.227,      0.446,      0.111,      0.224,      0.043],\n       dtype=torch.float64)\nInput:  tensor([   20.920,    25.090,   143.000,  1347.000,     0.110,     0.000,\n            0.000,     0.147,     0.215,     0.069,     0.962,     1.026,\n            8.758,     0.000,     0.006,     0.043,     0.078,     0.026,\n            0.021,     0.006,    24.290,    29.410,   179.100,  1819.000,\n            0.141,     0.419,     0.660,     0.254,     0.000,     0.099],\n       dtype=torch.float64)\nTarget:  tensor([   20.920,    25.090,   143.000,  1347.000,     0.110,     0.224,\n            0.317,     0.147,     0.215,     0.069,     0.962,     1.026,\n            8.758,   118.800,     0.006,     0.043,     0.078,     0.026,\n            0.021,     0.006,    24.290,    29.410,   179.100,  1819.000,\n            0.141,     0.419,     0.660,     0.254,     0.293,     0.099],\n       dtype=torch.float64)\nOutputs:  tensor([    23.541,     29.318,    166.916,   1325.015,      0.176,      0.116,\n             0.308,      0.262,     -0.093,     -0.057,      0.675,      1.248,\n             4.775,     85.090,     -0.031,     -0.064,     -0.069,      0.004,\n             0.074,      0.044,     29.004,     40.412,    198.027,   1826.878,\n            -0.003,      0.137,      0.251,     -0.057,      0.399,      0.165],\n       dtype=torch.float64)\nInput:  tensor([   21.560,     0.000,   142.000,  1479.000,     0.111,     0.116,\n            0.244,     0.139,     0.173,     0.056,     1.176,     1.256,\n            7.673,   158.700,     0.010,     0.029,     0.052,     0.025,\n            0.011,     0.004,    25.450,    26.400,   166.100,  2027.000,\n            0.141,     0.211,     0.411,     0.222,     0.206,     0.071],\n       dtype=torch.float64)\nTarget:  tensor([   21.560,    22.390,   142.000,  1479.000,     0.111,     0.116,\n            0.244,     0.139,     0.173,     0.056,     1.176,     1.256,\n            7.673,   158.700,     0.010,     0.029,     0.052,     0.025,\n            0.011,     0.004,    25.450,    26.400,   166.100,  2027.000,\n            0.141,     0.211,     0.411,     0.222,     0.206,     0.071],\n       dtype=torch.float64)\nOutputs:  tensor([    26.094,     32.600,    188.129,   1483.050,      0.219,      0.125,\n             0.335,      0.294,     -0.122,     -0.087,      0.729,      1.242,\n             5.173,     92.934,     -0.017,     -0.088,     -0.068,      0.013,\n             0.084,      0.053,     32.278,     45.084,    221.567,   2009.595,\n            -0.018,      0.145,      0.264,     -0.061,      0.388,      0.153],\n       dtype=torch.float64)\nInput:  tensor([   20.130,    28.250,   131.200,  1261.000,     0.098,     0.103,\n            0.144,     0.098,     0.175,     0.055,     0.765,     2.463,\n            5.203,    99.040,     0.006,     0.024,     0.040,     0.017,\n            0.019,     0.002,    23.690,    38.250,   155.000,  1731.000,\n            0.117,     0.192,     0.322,     0.163,     0.000,     0.000],\n       dtype=torch.float64)\nTarget:  tensor([   20.130,    28.250,   131.200,  1261.000,     0.098,     0.103,\n            0.144,     0.098,     0.175,     0.055,     0.765,     2.463,\n            5.203,    99.040,     0.006,     0.024,     0.040,     0.017,\n            0.019,     0.002,    23.690,    38.250,   155.000,  1731.000,\n            0.117,     0.192,     0.322,     0.163,     0.257,     0.066],\n       dtype=torch.float64)\nOutputs:  tensor([    22.590,     28.570,    160.027,   1261.253,      0.385,      0.167,\n             0.229,      0.272,     -0.063,     -0.097,      0.723,      1.137,\n             4.644,     79.666,      0.067,     -0.146,     -0.011,      0.032,\n             0.049,      0.089,     27.627,     38.860,    189.085,   1724.190,\n             0.030,      0.201,      0.428,      0.028,      0.281,      0.064],\n       dtype=torch.float64)\nInput:  tensor([   16.600,    28.080,   108.300,   858.100,     0.085,     0.102,\n            0.093,     0.053,     0.159,     0.000,     0.456,     1.075,\n            3.425,    48.550,     0.006,     0.037,     0.047,     0.016,\n            0.013,     0.004,    18.980,    34.120,   126.700,  1124.000,\n            0.114,     0.309,     0.340,     0.142,     0.222,     0.078],\n       dtype=torch.float64)\nTarget:  tensor([   16.600,    28.080,   108.300,   858.100,     0.085,     0.102,\n            0.093,     0.053,     0.159,     0.056,     0.456,     1.075,\n            3.425,    48.550,     0.006,     0.037,     0.047,     0.016,\n            0.013,     0.004,    18.980,    34.120,   126.700,  1124.000,\n            0.114,     0.309,     0.340,     0.142,     0.222,     0.078],\n       dtype=torch.float64)\nOutputs:  tensor([    16.788,     21.797,    113.714,    862.187,      0.349,      0.158,\n             0.152,      0.197,      0.025,     -0.075,      0.511,      1.142,\n             3.347,     49.130,      0.048,     -0.149,      0.016,      0.022,\n             0.062,      0.097,     19.530,     28.780,    131.503,   1122.839,\n             0.080,      0.214,      0.425,      0.082,      0.245,      0.055],\n       dtype=torch.float64)\nInput:  tensor([   20.600,    29.330,   140.100,  1265.000,     0.118,     0.277,\n            0.351,     0.152,     0.240,     0.000,     0.726,     1.595,\n            5.772,    86.220,     0.007,     0.062,     0.071,     0.017,\n            0.023,     0.006,     0.000,    39.420,   184.600,     0.000,\n            0.165,     0.868,     0.939,     0.265,     0.409,     0.124],\n       dtype=torch.float64)\nTarget:  tensor([   20.600,    29.330,   140.100,  1265.000,     0.118,     0.277,\n            0.351,     0.152,     0.240,     0.070,     0.726,     1.595,\n            5.772,    86.220,     0.007,     0.062,     0.071,     0.017,\n            0.023,     0.006,    25.740,    39.420,   184.600,  1821.000,\n            0.165,     0.868,     0.939,     0.265,     0.409,     0.124],\n       dtype=torch.float64)\nOutputs:  tensor([    22.361,     21.505,    147.066,   1259.015,     -3.449,     -0.751,\n             1.178,     -0.196,      0.293,      0.342,     -0.988,      2.729,\n             4.402,     95.810,     -1.616,      0.851,     -0.663,     -0.887,\n             0.841,     -0.438,     29.594,     37.322,    183.223,   1923.153,\n            -0.009,     -0.077,     -1.917,     -0.291,      1.825,      1.498],\n       dtype=torch.float64)\nInput:  tensor([    0.000,     0.000,    47.920,   181.000,     0.000,     0.044,\n            0.000,     0.000,     0.159,     0.059,     0.386,     1.428,\n            0.000,    19.150,     0.007,     0.005,     0.000,     0.000,\n            0.027,     0.003,     9.456,    30.370,    59.160,   268.600,\n            0.090,     0.000,     0.000,     0.000,     0.287,     0.070],\n       dtype=torch.float64)\nTarget:  tensor([    7.760,    24.540,    47.920,   181.000,     0.053,     0.044,\n            0.000,     0.000,     0.159,     0.059,     0.386,     1.428,\n            2.548,    19.150,     0.007,     0.005,     0.000,     0.000,\n            0.027,     0.003,     9.456,    30.370,    59.160,   268.600,\n            0.090,     0.064,     0.000,     0.000,     0.287,     0.070],\n       dtype=torch.float64)\nOutputs:  tensor([     6.220,      8.593,     27.122,    187.090,      0.205,      0.131,\n             0.015,      0.057,      0.202,     -0.003,      0.216,      1.134,\n             1.553,      9.758,      0.007,     -0.115,      0.050,     -0.037,\n             0.066,      0.095,      5.684,      9.804,     31.974,    265.685,\n             0.179,      0.259,      0.443,      0.200,      0.221,      0.060],\n       dtype=torch.float64)\nTest Loss: 159.651\n"
    }
   ],
   "source": [
    "test_result = test(net)"
   ]
  },
  {
   "cell_type": "code",
   "execution_count": 263,
   "metadata": {},
   "outputs": [],
   "source": [
    "torch.save(net, './breast_autoencoder2')"
   ]
  },
  {
   "cell_type": "code",
   "execution_count": 281,
   "metadata": {},
   "outputs": [
    {
     "data": {
      "text/plain": "(569, 30)"
     },
     "execution_count": 281,
     "metadata": {},
     "output_type": "execute_result"
    }
   ],
   "source": [
    "dataset = pd.read_csv('breast/breast.csv')\n",
    "processed_data = dataset.drop(columns=['id', 'diagnosis', 'Unnamed: 32'])\n",
    "processed_data.shape"
   ]
  },
  {
   "cell_type": "code",
   "execution_count": 282,
   "metadata": {},
   "outputs": [],
   "source": [
    "REPLACE_COUNT = processed_data.size*0.1               # Set the number of missing values\n",
    "NAN = 0\n",
    "\n",
    "input_set = processed_data.to_numpy()\n",
    "\n",
    "input_set.flat[np.random.choice(input_set.size, int(REPLACE_COUNT), replace=False)] = NAN\n",
    "\n",
    "np.set_printoptions(precision=2, suppress=True)\n",
    "\n",
    "input_tensor = torch.from_numpy(input_set)\n",
    "input_tensor = input_tensor.view(1, input_tensor.shape[0], NUM_FEATURES)"
   ]
  },
  {
   "cell_type": "code",
   "execution_count": 283,
   "metadata": {},
   "outputs": [
    {
     "data": {
      "text/plain": "Autoencoder(\n  (enc1): Linear(in_features=30, out_features=16, bias=True)\n  (enc2): Linear(in_features=16, out_features=8, bias=True)\n  (enc3): Linear(in_features=8, out_features=4, bias=True)\n  (dec1): Linear(in_features=4, out_features=8, bias=True)\n  (dec2): Linear(in_features=8, out_features=16, bias=True)\n  (dec3): Linear(in_features=16, out_features=30, bias=True)\n)"
     },
     "execution_count": 283,
     "metadata": {},
     "output_type": "execute_result"
    }
   ],
   "source": [
    "my_model = torch.load('breast_autoencoder2')\n",
    "my_model"
   ]
  },
  {
   "cell_type": "code",
   "execution_count": 284,
   "metadata": {},
   "outputs": [
    {
     "data": {
      "text/plain": "tensor([[[    15.7127,     18.1389,     97.9401,  ...,      0.3665,\n               0.0464,     -0.1968],\n         [    22.7947,     27.2437,    158.2037,  ...,     -0.1132,\n               0.5668,      0.3044],\n         [    21.4896,     26.8871,    150.2514,  ...,      0.0352,\n               0.3066,      0.0840],\n         ...,\n         [    12.9184,     10.3122,     74.4957,  ...,      0.0208,\n               0.8839,      0.7814],\n         [    22.7426,     23.0631,    151.9870,  ...,     -0.3621,\n               1.6734,      1.3544],\n         [     6.2583,      8.6464,     27.4653,  ...,      0.1873,\n               0.2324,      0.0704]]], dtype=torch.float64,\n       grad_fn=<AddBackward0>)"
     },
     "execution_count": 284,
     "metadata": {},
     "output_type": "execute_result"
    }
   ],
   "source": [
    "new_dataset = my_model(input_tensor.double())\n",
    "torch.set_printoptions(precision=4, sci_mode=False)\n",
    "new_dataset"
   ]
  },
  {
   "cell_type": "code",
   "execution_count": 285,
   "metadata": {},
   "outputs": [
    {
     "data": {
      "text/plain": "tensor([[    15.7127,     18.1389,     97.9401,  ...,      0.3665,\n              0.0464,     -0.1968],\n        [    22.7947,     27.2437,    158.2037,  ...,     -0.1132,\n              0.5668,      0.3044],\n        [    21.4896,     26.8871,    150.2514,  ...,      0.0352,\n              0.3066,      0.0840],\n        ...,\n        [    12.9184,     10.3122,     74.4957,  ...,      0.0208,\n              0.8839,      0.7814],\n        [    22.7426,     23.0631,    151.9870,  ...,     -0.3621,\n              1.6734,      1.3544],\n        [     6.2583,      8.6464,     27.4653,  ...,      0.1873,\n              0.2324,      0.0704]], dtype=torch.float64,\n       grad_fn=<ViewBackward>)"
     },
     "execution_count": 285,
     "metadata": {},
     "output_type": "execute_result"
    }
   ],
   "source": [
    "new_dataset = new_dataset.view(new_dataset.shape[1], new_dataset.shape[2])\n",
    "new_dataset"
   ]
  },
  {
   "cell_type": "code",
   "execution_count": 286,
   "metadata": {},
   "outputs": [],
   "source": [
    "np.savetxt('new_breast2.csv', new_dataset.detach().numpy())"
   ]
  },
  {
   "cell_type": "code",
   "execution_count": null,
   "metadata": {},
   "outputs": [],
   "source": []
  }
 ]
}