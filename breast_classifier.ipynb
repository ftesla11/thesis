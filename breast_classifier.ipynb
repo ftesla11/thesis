{
 "nbformat": 4,
 "nbformat_minor": 2,
 "metadata": {
  "language_info": {
   "name": "python",
   "codemirror_mode": {
    "name": "ipython",
    "version": 3
   },
   "version": "3.7.3-final"
  },
  "orig_nbformat": 2,
  "file_extension": ".py",
  "mimetype": "text/x-python",
  "name": "python",
  "npconvert_exporter": "python",
  "pygments_lexer": "ipython3",
  "version": 3,
  "kernelspec": {
   "name": "python37364bitbasecondad424485431ff4a8aa076a99cfa3fb48c",
   "display_name": "Python 3.7.3 64-bit ('base': conda)"
  }
 },
 "cells": [
  {
   "cell_type": "code",
   "execution_count": 1,
   "metadata": {},
   "outputs": [],
   "source": [
    "import numpy as np\n",
    "import pandas as pd\n",
    "from sklearn.datasets import load_breast_cancer\n",
    "from sklearn.model_selection import train_test_split\n",
    "from sklearn.neighbors import KNeighborsClassifier"
   ]
  },
  {
   "cell_type": "code",
   "execution_count": 2,
   "metadata": {},
   "outputs": [],
   "source": [
    "breast = pd.read_csv('breast/breast.csv')\n",
    "breast.keys()\n",
    "\n",
    "target = breast['diagnosis']\n",
    "dataset = breast.drop(columns=['id', 'diagnosis', 'Unnamed: 32'])"
   ]
  },
  {
   "cell_type": "code",
   "execution_count": 3,
   "metadata": {},
   "outputs": [],
   "source": [
    "x_train, x_test, y_train, y_test = train_test_split(dataset, target, random_state=0)"
   ]
  },
  {
   "cell_type": "code",
   "execution_count": 4,
   "metadata": {},
   "outputs": [
    {
     "data": {
      "text/plain": "(426,)"
     },
     "execution_count": 4,
     "metadata": {},
     "output_type": "execute_result"
    }
   ],
   "source": [
    "y_train.shape"
   ]
  },
  {
   "cell_type": "code",
   "execution_count": 5,
   "metadata": {},
   "outputs": [
    {
     "data": {
      "text/plain": "KNeighborsClassifier(algorithm='auto', leaf_size=30, metric='minkowski',\n                     metric_params=None, n_jobs=None, n_neighbors=6, p=2,\n                     weights='uniform')"
     },
     "execution_count": 5,
     "metadata": {},
     "output_type": "execute_result"
    }
   ],
   "source": [
    "knn = KNeighborsClassifier(n_neighbors=6) #set 1 neighbor for the classifier model\n",
    "knn.fit(x_train, y_train) #set the data and labels for training into the algorithm"
   ]
  },
  {
   "cell_type": "code",
   "execution_count": 6,
   "metadata": {},
   "outputs": [
    {
     "data": {
      "text/plain": "0.951048951048951"
     },
     "execution_count": 6,
     "metadata": {},
     "output_type": "execute_result"
    }
   ],
   "source": [
    "knn.score(x_test, y_test)"
   ]
  },
  {
   "cell_type": "code",
   "execution_count": 24,
   "metadata": {},
   "outputs": [
    {
     "data": {
      "text/plain": "array([[ 1.75034027e+01,  2.26066907e+01,  1.15346711e+02, ...,\n        -8.90773241e-02,  3.64266182e-01,  8.80443029e-02],\n       [ 2.08423740e+01,  2.21016042e+01,  1.38118720e+02, ...,\n        -8.97220122e-02,  3.17648981e-01,  7.66633947e-02],\n       [ 1.95495212e+01,  2.13685228e+01,  1.29208807e+02, ...,\n        -7.83082819e-02,  3.09124738e-01,  7.71495189e-02],\n       ...,\n       [ 1.54367109e+01,  1.96753891e+01,  1.01000212e+02, ...,\n        -7.99816558e-02,  3.00386356e-01,  7.01509065e-02],\n       [ 2.00734945e+01,  2.16998792e+01,  1.32823238e+02, ...,\n        -8.45123777e-02,  3.13426682e-01,  7.69215839e-02],\n       [ 9.88412611e+00,  1.71821961e+01,  6.27272861e+01, ...,\n        -7.28105687e-03,  2.82582296e-01,  8.64243622e-02]])"
     },
     "execution_count": 24,
     "metadata": {},
     "output_type": "execute_result"
    }
   ],
   "source": [
    "new_dataset = np.loadtxt('new_breast.csv')\n",
    "new_dataset\n"
   ]
  },
  {
   "cell_type": "code",
   "execution_count": 25,
   "metadata": {},
   "outputs": [],
   "source": [
    "test_classifier = KNeighborsClassifier(n_neighbors=6)\n",
    "\n",
    "x_train, x_test, y_train, y_test = train_test_split(new_dataset, target, random_state=0)"
   ]
  },
  {
   "cell_type": "code",
   "execution_count": 26,
   "metadata": {},
   "outputs": [
    {
     "data": {
      "text/plain": "0.9440559440559441"
     },
     "execution_count": 26,
     "metadata": {},
     "output_type": "execute_result"
    }
   ],
   "source": [
    "test_classifier.fit(x_train, y_train)\n",
    "test_classifier.score(x_test, y_test)"
   ]
  },
  {
   "cell_type": "code",
   "execution_count": null,
   "metadata": {},
   "outputs": [],
   "source": []
  }
 ]
}