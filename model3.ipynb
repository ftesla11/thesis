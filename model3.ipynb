{
 "nbformat": 4,
 "nbformat_minor": 2,
 "metadata": {
  "language_info": {
   "name": "python",
   "codemirror_mode": {
    "name": "ipython",
    "version": 3
   },
   "version": "3.7.3-final"
  },
  "orig_nbformat": 2,
  "file_extension": ".py",
  "mimetype": "text/x-python",
  "name": "python",
  "npconvert_exporter": "python",
  "pygments_lexer": "ipython3",
  "version": 3,
  "kernelspec": {
   "name": "python37364bitbasecondad424485431ff4a8aa076a99cfa3fb48c",
   "display_name": "Python 3.7.3 64-bit ('base': conda)"
  }
 },
 "cells": [
  {
   "cell_type": "code",
   "execution_count": 1,
   "metadata": {},
   "outputs": [],
   "source": [
    "import torch\n",
    "import torch.nn as nn\n",
    "import torch.nn.functional as F\n",
    "import torch.optim as optim\n",
    "import torchvision\n",
    "import torchvision.transforms as transforms\n",
    "import numpy as np\n",
    "import pandas as pd\n",
    "import sklearn\n",
    "import random\n",
    "import sys\n",
    "import os\n",
    "import matplotlib.pyplot as plt\n",
    "import math\n",
    "import scipy\n",
    "from distcorr import distcorr\n",
    "from fractions import gcd\n",
    "from scipy.stats import pearsonr\n",
    "from sklearn import preprocessing\n",
    "from sklearn.datasets import load_iris\n",
    "from sklearn.model_selection import train_test_split"
   ]
  },
  {
   "cell_type": "code",
   "execution_count": 2,
   "metadata": {},
   "outputs": [],
   "source": [
    "NAN = 0\n",
    "\n",
    "def fill_nan(array, REPLACE_COUNT):\n",
    "    array.flat[np.random.choice(array.size, int(REPLACE_COUNT), replace=False)] = NAN\n",
    "\n",
    "    return array"
   ]
  },
  {
   "cell_type": "code",
   "execution_count": 3,
   "metadata": {},
   "outputs": [],
   "source": [
    "scaler = preprocessing.MinMaxScaler(feature_range=(0,1))"
   ]
  },
  {
   "cell_type": "code",
   "execution_count": 4,
   "metadata": {},
   "outputs": [],
   "source": [
    "# ENABLE/DISABLE GPU\n",
    "# UNCOMMENT to.device() FOR TENSORS AND NEURAL NETWORKS TO ENABLE GPU\n",
    "\n",
    "if torch.cuda.is_available():\n",
    "    dev = \"cuda:0\"\n",
    "else:\n",
    "    dev = \"cpu\"\n",
    "\n",
    "device = torch.device(dev)\n",
    "\n",
    "os.environ['CUDA_LAUNCH_BLOCKING'] = \"1\""
   ]
  },
  {
   "cell_type": "code",
   "execution_count": 32,
   "metadata": {},
   "outputs": [],
   "source": [
    "dataset = pd.read_csv('breast/breast.csv')"
   ]
  },
  {
   "cell_type": "code",
   "execution_count": 33,
   "metadata": {},
   "outputs": [],
   "source": [
    "# NARROW THE FEATURES\n",
    "array = np.array(['radius_mean', 'perimeter_mean', 'area_mean', 'radius_worst', 'perimeter_worst', 'area_worst'])\n",
    "processed_data = dataset[array]"
   ]
  },
  {
   "cell_type": "code",
   "execution_count": 34,
   "metadata": {},
   "outputs": [],
   "source": [
    "# CONVERT TO NUMPY\n",
    "numpy_data = processed_data.to_numpy()"
   ]
  },
  {
   "cell_type": "code",
   "execution_count": 35,
   "metadata": {},
   "outputs": [],
   "source": [
    "# NORMALIZE THE DATA\n",
    "scaled_data = scaler.fit_transform(numpy_data)"
   ]
  },
  {
   "cell_type": "code",
   "execution_count": 38,
   "metadata": {},
   "outputs": [
    {
     "data": {
      "text/plain": "0.27313062023503254"
     },
     "execution_count": 38,
     "metadata": {},
     "output_type": "execute_result"
    }
   ],
   "source": [
    "average_value = np.mean(scaled_data.flatten())\n",
    "average_value"
   ]
  },
  {
   "cell_type": "code",
   "execution_count": 17,
   "metadata": {},
   "outputs": [],
   "source": [
    "full_data = scaled_data.copy()\n",
    "missing_data = fill_nan(scaled_data.copy(), scaled_data.copy().size*0.2)"
   ]
  },
  {
   "cell_type": "code",
   "execution_count": 18,
   "metadata": {},
   "outputs": [],
   "source": [
    "bins = np.linspace(0, 10)\n",
    "y_binned = np.digitize(full_data[:,0], bins)"
   ]
  },
  {
   "cell_type": "code",
   "execution_count": 19,
   "metadata": {},
   "outputs": [],
   "source": [
    "x_train, x_test, y_train, y_test = train_test_split(missing_data.copy(), full_data.copy(), stratify=y_binned, random_state=0)"
   ]
  },
  {
   "cell_type": "code",
   "execution_count": 20,
   "metadata": {},
   "outputs": [],
   "source": [
    "class Autoencoder(nn.Module):\n",
    "    def __init__(self):\n",
    "        super(Autoencoder, self).__init__()\n",
    "\n",
    "        self.enc1 = nn.Linear(in_features=6, out_features=8)\n",
    "        self.enc2 = nn.Linear(in_features=8, out_features=16)\n",
    "\n",
    "        self.dec2 = nn.Linear(in_features=16, out_features=8)\n",
    "        self.dec3 = nn.Linear(in_features=8, out_features=6)\n",
    "\n",
    "    def forward(self, x):\n",
    "        x = F.leaky_relu(self.enc1(x))\n",
    "        x = F.leaky_relu(self.enc2(x))\n",
    "        x = F.leaky_relu(self.dec2(x))\n",
    "        x = self.dec3(x)\n",
    "        return x"
   ]
  },
  {
   "cell_type": "code",
   "execution_count": 21,
   "metadata": {},
   "outputs": [],
   "source": [
    "# CREATE A SEED FOR CONSISTENT WEIGHT INITIALIZATIONS - FOR TESTING PURPOSES\n",
    "random.seed(2)\n",
    "torch.manual_seed(random.randint(1, 10))\n",
    "net = Autoencoder().double()\n",
    "#net.to(device)"
   ]
  },
  {
   "cell_type": "code",
   "execution_count": 22,
   "metadata": {},
   "outputs": [],
   "source": [
    "NUM_EPOCHS = 110\n",
    "LEARNING_RATE = 0.0001\n",
    "BATCH_SIZE = -1\n",
    "NUM_FEATURES = 6\n",
    "BATCH_SIZE_TEST = -1"
   ]
  },
  {
   "cell_type": "code",
   "execution_count": 23,
   "metadata": {},
   "outputs": [
    {
     "data": {
      "text/plain": "torch.Size([426, 6])"
     },
     "execution_count": 23,
     "metadata": {},
     "output_type": "execute_result"
    }
   ],
   "source": [
    "x_train = torch.from_numpy(x_train)\n",
    "#x_train = x_train.to(device)\n",
    "x_train = x_train.view(BATCH_SIZE, NUM_FEATURES)\n",
    "\n",
    "y_train = torch.from_numpy(y_train)\n",
    "#y_train = y_train.to(device)\n",
    "y_train = y_train.view(BATCH_SIZE, NUM_FEATURES)\n",
    "\n",
    "x_test = torch.from_numpy(x_test)\n",
    "#x_test = x_test.to(device)\n",
    "x_test = x_test.view(BATCH_SIZE_TEST, NUM_FEATURES)\n",
    "\n",
    "y_test = torch.from_numpy(y_test)\n",
    "#y_test = y_test.to(device)\n",
    "y_test = y_test.view(BATCH_SIZE_TEST, NUM_FEATURES)\n",
    "\n",
    "x_train.shape"
   ]
  },
  {
   "cell_type": "code",
   "execution_count": 24,
   "metadata": {},
   "outputs": [],
   "source": [
    "criterion = nn.MSELoss()\n",
    "optimizer = optim.Adam(net.parameters(), lr=LEARNING_RATE)"
   ]
  },
  {
   "cell_type": "code",
   "execution_count": 30,
   "metadata": {},
   "outputs": [],
   "source": [
    "def train(net):\n",
    "    train_loss = []\n",
    "    torch.set_printoptions(precision=2, sci_mode=True)\n",
    "    np.set_printoptions(precision=2, suppress=True)\n",
    "\n",
    "    for epoch in range(NUM_EPOCHS):\n",
    "        # running_loss: LOSS OF THE PREDICTED MISSING VALUE ONLY\n",
    "        # overall_loss: LOSS OF ALL RECONSTRUCTED VALUES\n",
    "\n",
    "        running_loss = 0.0\n",
    "        overall_loss = 0.0\n",
    "        count = 0\n",
    "        for missing_data, full_data in zip(x_train, y_train):\n",
    "            optimizer.zero_grad()\n",
    "            outputs = net(missing_data.double())\n",
    "\n",
    "            # LEARN FROM LOSS OF ALL RECONSTRUCTED VALUES\n",
    "            loss = criterion(outputs, full_data)\n",
    "            loss.backward()\n",
    "            optimizer.step()\n",
    "            overall_loss += loss.item()\n",
    "            \n",
    "            # COMPUTE LOSS OF PREDICTED MISSING VALUE\n",
    "            if NAN in missing_data:\n",
    "                for index in range(len(missing_data)):\n",
    "                    if missing_data[index] == NAN:\n",
    "                        predicted_loss = criterion(outputs[index], full_data[index])\n",
    "                        running_loss += predicted_loss.item()\n",
    "                        count += 1\n",
    "            \n",
    "            # PRINT ALL VALUES ON LAST EPOCH FOR TESTING PURPOSES\n",
    "            if epoch == NUM_EPOCHS-1:\n",
    "                if missing_data.detach().numpy().all() == full_data.detach().numpy().all():\n",
    "                    print(\"Input: \", scaler.inverse_transform(missing_data.reshape(-1,6)))\n",
    "                    print(\"Target: \", scaler.inverse_transform(full_data.reshape(-1,6)))\n",
    "                    print(\"Outputs: \", scaler.inverse_transform(outputs.reshape(-1,6).detach().numpy()))\n",
    "                else:\n",
    "                    print(\"Input (missing): \", scaler.inverse_transform(missing_data.reshape(-1,6)))\n",
    "                    print(\"Target (missing): \", scaler.inverse_transform(full_data.reshape(-1,6)))\n",
    "                    print(\"Outputs (missing): \", scaler.inverse_transform(outputs.reshape(-1,6).detach().numpy()))\n",
    "        \n",
    "      #  loss = running_loss / count\n",
    "        overall_loss = overall_loss / len(x_train)\n",
    "        x_loss = running_loss / count\n",
    "        train_loss.append(loss)\n",
    "\n",
    "        print('Epoch {} of {}, Train Loss: {:.5f}, Overall: {:.5f}'\n",
    "             .format(epoch+1, NUM_EPOCHS, x_loss, overall_loss))\n",
    "\n",
    "    return train_loss\n",
    "\n",
    "\n",
    "def test(net):\n",
    "\n",
    "    net.eval()\n",
    "    count = 0\n",
    "\n",
    "    with torch.no_grad():\n",
    "        test_loss = []\n",
    "        running_loss = 0.0\n",
    "        overall_loss = 0.0\n",
    "\n",
    "        for missing_data, full_data in zip(x_test, y_test):\n",
    "            outputs = net(missing_data.double())\n",
    "\n",
    "            loss = criterion(outputs, full_data)\n",
    "            overall_loss += loss.item()\n",
    "\n",
    "            if NAN in missing_data:\n",
    "                for index in range(len(missing_data)):\n",
    "                    if missing_data[index] == NAN:\n",
    "                        predicted_loss = criterion(outputs[index], full_data[index])\n",
    "                        running_loss += predicted_loss.item()\n",
    "                        count += 1\n",
    "            \n",
    "            if missing_data.detach().numpy().all() == full_data.detach().numpy().all():\n",
    "                print(\"Input: \", scaler.inverse_transform(missing_data.reshape(-1,6)))\n",
    "                print(\"Target: \", scaler.inverse_transform(full_data.reshape(-1,6)))\n",
    "                print(\"Outputs: \", scaler.inverse_transform(outputs.reshape(-1,6).detach().numpy()))\n",
    "            else:\n",
    "                print(\"Input (missing): \", scaler.inverse_transform(missing_data.reshape(-1,6)))\n",
    "                print(\"Target (missing): \", scaler.inverse_transform(full_data.reshape(-1,6)))\n",
    "                print(\"Outputs (missing): \", scaler.inverse_transform(outputs.reshape(-1,6).detach().numpy()))\n",
    "\n",
    "        overall_loss = running_loss / len(x_test)\n",
    "        x_loss = running_loss / count\n",
    "        test_loss.append(overall_loss)\n",
    "        print('Test Loss: {:.5f}, Overall: {:.5f}'.format(x_loss, overall_loss))\n",
    "\n",
    "        return test_loss"
   ]
  },
  {
   "cell_type": "code",
   "execution_count": 26,
   "metadata": {},
   "outputs": [
    {
     "name": "stdout",
     "output_type": "stream",
     "text": "  150.77 1606.14]]\nInput (missing):  [[   6.98  152.8  1509.     28.4   206.8   185.2 ]]\nTarget (missing):  [[  22.27  152.8  1509.     28.4   206.8  2360.  ]]\nOutputs (missing):  [[  20.9   137.16 1290.6    24.81  173.17 1922.15]]\nInput (missing):  [[  6.98  76.77 442.5   13.09  85.07 523.7 ]]\nTarget (missing):  [[ 12.    76.77 442.5   13.09  85.07 523.7 ]]\nOutputs (missing):  [[ 12.12  77.82 448.64  13.36  88.68 552.29]]\nInput (missing):  [[  6.98  43.79 646.1    7.93 100.4  734.6 ]]\nTarget (missing):  [[ 14.4   92.25 646.1   15.4  100.4  734.6 ]]\nOutputs (missing):  [[ 11.5   73.4  384.93  12.5   82.83 457.23]]\nInput (missing):  [[  6.98  78.78 462.     7.93  87.65 529.9 ]]\nTarget (missing):  [[ 12.21  78.78 462.    13.13  87.65 529.9 ]]\nOutputs (missing):  [[ 12.43  80.26 497.51  14.02  91.98 629.74]]\nInput (missing):  [[  6.98  69.14 363.7   11.37  72.42 392.2 ]]\nTarget (missing):  [[ 10.91  69.14 363.7   11.37  72.42 392.2 ]]\nOutputs (missing):  [[ 11.12  71.28 358.83  12.19  78.81 410.62]]\nInput (missing):  [[  6.98  87.76 572.6   16.89 113.2  848.7 ]]\nTarget (missing):  [[ 13.61  87.76 572.6   16.89 113.2  848.7 ]]\nOutputs (missing):  [[ 14.39  93.39 674.02  16.4  110.84 910.64]]\nInput (missing):  [[ 11.62  76.38 143.5    7.93  88.14 528.1 ]]\nTarget (missing):  [[ 11.62  76.38 408.8   13.36  88.14 528.1 ]]\nOutputs (missing):  [[ 11.68  75.14 417.3   13.05  83.85 515.23]]\nInput:  [[ 10.71  69.5  344.9   11.69  76.51 410.4 ]]\nTarget:  [[ 10.71  69.5  344.9   11.69  76.51 410.4 ]]\nOutputs:  [[ 11.4   73.05 375.45  12.48  80.92 448.98]]\nInput (missing):  [[ 13.27  84.55 546.4   15.14  50.41 708.8 ]]\nTarget (missing):  [[ 13.27  84.55 546.4   15.14  98.84 708.8 ]]\nOutputs (missing):  [[ 13.45  87.8  611.97  15.57 101.67 794.05]]\nInput:  [[ 13.38  86.34 557.2   15.05  96.69 705.6 ]]\nTarget:  [[ 13.38  86.34 557.2   15.05  96.69 705.6 ]]\nOutputs:  [[ 13.71  88.82 597.11  15.54 102.84 810.09]]\nInput (missing):  [[ 14.03  43.79 603.4   15.33  98.27 715.5 ]]\nTarget (missing):  [[ 14.03  89.79 603.4   15.33  98.27 715.5 ]]\nOutputs (missing):  [[ 13.92  90.7  631.41  16.1  104.24 870.57]]\nInput (missing):  [[  21.37  141.3   143.5    22.69  152.1  1535.  ]]\nTarget (missing):  [[  21.37  141.3  1386.     22.69  152.1  1535.  ]]\nOutputs (missing):  [[  19.4   128.29 1173.19   23.55  156.5  1750.5 ]]\nInput (missing):  [[ 17.91 124.4  994.    20.8  149.6  185.2 ]]\nTarget (missing):  [[  17.91  124.4   994.     20.8   149.6  1304.  ]]\nOutputs (missing):  [[  17.74  116.43 1001.43   21.05  141.75 1463.33]]\nInput (missing):  [[  6.98  85.79 541.8   14.24  96.59 623.7 ]]\nTarget (missing):  [[ 13.28  85.79 541.8   14.24  96.59 623.7 ]]\nOutputs (missing):  [[ 13.21  85.27 556.49  14.81  99.35 723.33]]\nInput (missing):  [[  8.67  54.42 143.5    9.26  58.36 259.2 ]]\nTarget (missing):  [[  8.67  54.42 227.2    9.26  58.36 259.2 ]]\nOutputs (missing):  [[  9.93  63.25 250.41  10.69  67.53 232.94]]\nInput:  [[ 14.19  92.87 610.7   16.86 115.   811.3 ]]\nTarget:  [[ 14.19  92.87 610.7   16.86 115.   811.3 ]]\nOutputs:  [[  14.93   97.18  717.06   17.17  114.55 1002.09]]\nInput (missing):  [[ 16.24 108.8  805.1   18.55  50.41 185.2 ]]\nTarget (missing):  [[  16.24  108.8   805.1    18.55  126.9  1031.  ]]\nOutputs (missing):  [[  15.1    99.43  789.02   17.96  117.66 1069.51]]\nInput:  [[ 11.64  75.17 412.5   13.14  85.51 521.7 ]]\nTarget:  [[ 11.64  75.17 412.5   13.14  85.51 521.7 ]]\nOutputs:  [[ 12.31  79.3  462.24  13.67  89.59 587.63]]\nInput (missing):  [[  6.98  96.22 685.9   16.11 104.6  793.7 ]]\nTarget (missing):  [[ 14.97  96.22 685.9   16.11 104.6  793.7 ]]\nOutputs (missing):  [[ 14.55  94.55 694.47  16.62 112.71 933.32]]\nInput (missing):  [[  21.61  144.4  1407.     26.23  172.    185.2 ]]\nTarget (missing):  [[  21.61  144.4  1407.     26.23  172.   2081.  ]]\nOutputs (missing):  [[  20.59  135.89 1274.7    24.8   168.6  1903.66]]\nInput (missing):  [[  6.98  70.95 380.3    7.93  79.26 458.  ]]\nTarget (missing):  [[ 11.16  70.95 380.3   12.36  79.26 458.  ]]\nOutputs (missing):  [[ 11.57  74.32 407.02  12.81  83.32 485.81]]\nInput (missing):  [[  6.98  89.78 611.2   15.66 101.2  750.  ]]\nTarget (missing):  [[ 14.04  89.78 611.2   15.66 101.2  750.  ]]\nOutputs (missing):  [[ 13.96  90.44 632.2   15.8  106.72 836.13]]\nInput (missing):  [[   6.98  108.4   880.2    18.22  120.3  1032.  ]]\nTarget (missing):  [[  16.84  108.4   880.2    18.22  120.3  1032.  ]]\nOutputs (missing):  [[  16.3   106.49  867.79   18.93  129.75 1204.33]]\nInput (missing):  [[  18.61   43.79 1094.     21.31  139.9  1403.  ]]\nTarget (missing):  [[  18.61  122.1  1094.     21.31  139.9  1403.  ]]\nOutputs (missing):  [[  18.6   122.97 1090.96   22.45  148.12 1614.48]]\nInput (missing):  [[ 11.95  43.79 426.7   12.81  50.41 496.2 ]]\nTarget (missing):  [[ 11.95  77.23 426.7   12.81  83.09 496.2 ]]\nOutputs (missing):  [[ 11.83  76.62 441.1   13.36  84.98 536.32]]\nInput:  [[  20.31  132.9  1288.     24.33  162.3  1844.  ]]\nTarget:  [[  20.31  132.9  1288.     24.33  162.3  1844.  ]]\nOutputs:  [[  21.06  139.04 1304.33   25.24  172.35 1951.48]]\nInput (missing):  [[   6.98  127.5  1148.     23.36  166.4   185.2 ]]\nTarget (missing):  [[  19.18  127.5  1148.     23.36  166.4  1688.  ]]\nOutputs (missing):  [[  18.02  117.83 1013.59   21.04  145.25 1465.88]]\nInput (missing):  [[   6.98  123.6  1130.      7.93  165.9  1866.  ]]\nTarget (missing):  [[  18.94  123.6  1130.     24.86  165.9  1866.  ]]\nOutputs (missing):  [[  19.59  129.31 1217.     23.69  161.54 1767.07]]\nInput (missing):  [[ 11.54  43.79 409.1   12.34  81.23 467.8 ]]\nTarget (missing):  [[ 11.54  73.73 409.1   12.34  81.23 467.8 ]]\nOutputs (missing):  [[ 11.9   76.73 430.13  13.27  85.14 534.66]]\nInput (missing):  [[   6.98  147.3  1491.     28.19  195.9   185.2 ]]\nTarget (missing):  [[  21.75  147.3  1491.     28.19  195.9  2384.  ]]\nOutputs (missing):  [[  20.64  135.56 1265.01   24.45  170.35 1869.49]]\nInput (missing):  [[ 13.78  88.37 143.5   15.27  97.9  706.6 ]]\nTarget (missing):  [[ 13.78  88.37 585.9   15.27  97.9  706.6 ]]\nOutputs (missing):  [[ 13.64  88.66 600.87  15.6  101.83 810.05]]\nInput (missing):  [[ 13.77  90.63 588.9    7.93  50.41 806.9 ]]\nTarget (missing):  [[ 13.77  90.63 588.9   16.39 111.6  806.9 ]]\nOutputs (missing):  [[ 13.95  91.62 686.02  16.53 106.71 899.33]]\nInput (missing):  [[  6.98  64.55 311.9    7.93  50.41 368.6 ]]\nTarget (missing):  [[ 10.17  64.55 311.9   11.02  69.86 368.6 ]]\nOutputs (missing):  [[ 10.59  68.08 329.71  11.69  74.34 340.86]]\nInput (missing):  [[ 12.65  43.79 485.6    7.93  95.29 633.7 ]]\nTarget (missing):  [[ 12.65  82.69 485.6   14.38  95.29 633.7 ]]\nOutputs (missing):  [[ 11.86  76.33 431.44  13.21  85.54 531.29]]\nInput (missing):  [[ 12.36  79.78 466.1    7.93  50.41 185.2 ]]\nTarget (missing):  [[ 12.36  79.78 466.1   13.83  91.46 574.7 ]]\nOutputs (missing):  [[ 12.21  79.39 496.61  14.04  89.28 615.02]]\nInput:  [[ 11.41  73.53 402.    12.37  79.12 467.2 ]]\nTarget:  [[ 11.41  73.53 402.    12.37  79.12 467.2 ]]\nOutputs:  [[ 11.93  76.72 425.28  13.16  85.85 523.68]]\nInput:  [[  9.78  62.5  290.2   11.05  71.68 367.  ]]\nTarget:  [[  9.78  62.5  290.2   11.05  71.68 367.  ]]\nOutputs:  [[ 10.91  69.73 328.44  11.81  76.22 366.07]]\nInput (missing):  [[   6.98  107.    807.2     7.93  132.7  1261.  ]]\nTarget (missing):  [[  16.13  107.    807.2    20.21  132.7  1261.  ]]\nOutputs (missing):  [[  16.69  109.51  928.69   19.81  133.37 1307.32]]\nInput (missing):  [[ 11.2   43.79 143.5   11.92  75.19 439.6 ]]\nTarget (missing):  [[ 11.2   70.67 386.    11.92  75.19 439.6 ]]\nOutputs (missing):  [[ 11.52  74.3  400.05  12.89  81.4  486.75]]\nInput:  [[  9.74  61.24 288.5   10.62  66.53 342.9 ]]\nTarget:  [[  9.74  61.24 288.5   10.62  66.53 342.9 ]]\nOutputs:  [[ 10.66  68.05 304.63  11.49  73.92 327.46]]\nInput (missing):  [[   6.98  119.    980.5    21.57  143.6  1437.  ]]\nTarget (missing):  [[  17.6   119.    980.5    21.57  143.6  1437.  ]]\nOutputs (missing):  [[  18.32  120.29 1064.98   21.6   149.28 1514.57]]\nInput:  [[ 11.52  73.87 406.3   12.65  80.88 491.8 ]]\nTarget:  [[ 11.52  73.87 406.3   12.65  80.88 491.8 ]]\nOutputs:  [[ 12.07  77.66 438.33  13.34  87.18 545.12]]\nInput (missing):  [[  20.55  137.8  1308.     24.3   160.2   185.2 ]]\nTarget (missing):  [[  20.55  137.8  1308.     24.3   160.2  1809.  ]]\nOutputs (missing):  [[  19.83  130.8  1203.26   23.83  161.2  1782.73]]\nInput (missing):  [[ 11.81  75.27 428.9   12.57  50.41 489.5 ]]\nTarget (missing):  [[ 11.81  75.27 428.9   12.57  79.57 489.5 ]]\nOutputs (missing):  [[ 12.09  78.34 466.94  13.64  88.13 567.56]]\nInput (missing):  [[ 12.67  43.79 489.9   13.71  88.7  574.4 ]]\nTarget (missing):  [[ 12.67  81.25 489.9   13.71  88.7  574.4 ]]\nOutputs (missing):  [[ 12.84  83.25 523.8   14.58  93.99 687.43]]\nInput (missing):  [[ 12.34  81.15 477.4   15.65  50.41 768.9 ]]\nTarget (missing):  [[ 12.34  81.15 477.4   15.65 101.7  768.9 ]]\nOutputs (missing):  [[ 13.21  86.14 583.74  15.17  99.25 742.65]]\nInput (missing):  [[  9.03  43.79 250.5    7.93  65.5  324.7 ]]\nTarget (missing):  [[  9.03  58.79 250.5   10.31  65.5  324.7 ]]\nOutputs (missing):  [[ 10.08  64.12 257.1   10.79  68.85 247.46]]\nInput:  [[ 11.68  75.49 420.5   13.32  86.57 549.8 ]]\nTarget:  [[ 11.68  75.49 420.5   13.32  86.57 549.8 ]]\nOutputs:  [[ 12.46  80.3  475.91  13.86  90.87 605.93]]\nInput (missing):  [[ 14.61  43.79 143.5   16.46 103.7  840.8 ]]\nTarget (missing):  [[ 14.61  92.68 664.9   16.46 103.7  840.8 ]]\nOutputs (missing):  [[ 14.57  95.64 711.98  17.25 109.97 995.6 ]]\nInput (missing):  [[ 15.13  96.71 719.5   17.26 110.1  185.2 ]]\nTarget (missing):  [[ 15.13  96.71 719.5   17.26 110.1  931.4 ]]\nOutputs (missing):  [[ 14.59  94.89 686.75  16.74 111.26 946.72]]\nInput (missing):  [[ 12.88  82.5  514.3   13.89  50.41 595.7 ]]\nTarget (missing):  [[ 12.88  82.5  514.3   13.89  88.84 595.7 ]]\nOutputs (missing):  [[ 13.01  84.76 563.94  14.94  97.06 717.17]]\nInput:  [[ 13.11  87.02 529.4   14.55  99.48 639.3 ]]\nTarget:  [[ 13.11  87.02 529.4   14.55  99.48 639.3 ]]\nOutputs:  [[ 13.65  88.42 592.16  15.45 102.25 793.66]]\nInput (missing):  [[  8.88  43.79 241.     9.98  65.27 302.  ]]\nTarget (missing):  [[  8.88  56.74 241.     9.98  65.27 302.  ]]\nOutputs (missing):  [[ 10.28  65.53 272.98  11.06  70.31 276.15]]\nInput:  [[ 11.69  76.37 406.4   12.98  86.12 487.7 ]]\nTarget:  [[ 11.69  76.37 406.4   12.98  86.12 487.7 ]]\nOutputs:  [[ 12.3   79.2  460.94  13.65  89.39 581.2 ]]\nInput (missing):  [[ 14.96  97.03 143.5   16.25  50.41 809.8 ]]\nTarget (missing):  [[ 14.96  97.03 687.3   16.25 109.1  809.8 ]]\nOutputs (missing):  [[ 14.09  92.61 692.33  16.66 107.7  910.91]]\nInput (missing):  [[  17.08  111.2   143.5     7.93  152.1  1648.  ]]\nTarget (missing):  [[  17.08  111.2   930.9    22.96  152.1  1648.  ]]\nOutputs (missing):  [[  16.2   106.15  866.56   19.17  127.21 1233.15]]\nInput (missing):  [[  6.98  81.89 515.9   13.62  87.4  577.  ]]\nTarget (missing):  [[ 12.89  81.89 515.9   13.62  87.4  577.  ]]\nOutputs (missing):  [[ 12.73  82.11 509.78  14.18  94.57 643.1 ]]\nInput (missing):  [[  25.73  174.2   143.5    33.13  229.3  3234.  ]]\nTarget (missing):  [[  25.73  174.2  2010.     33.13  229.3  3234.  ]]\nOutputs (missing):  [[  27.71  186.01 2023.06   35.09  236.39 3086.4 ]]\nInput (missing):  [[  18.03   43.79  990.     20.38  133.3  1292.  ]]\nTarget (missing):  [[  18.03  117.5   990.     20.38  133.3  1292.  ]]\nOutputs (missing):  [[  17.85  117.91 1019.36   21.47  141.1  1495.1 ]]\nInput (missing):  [[ 12.3   77.88 464.4    7.93  84.53 544.3 ]]\nTarget (missing):  [[ 12.3   77.88 464.4   13.35  84.53 544.3 ]]\nOutputs (missing):  [[ 12.62  81.72 509.29  14.32  92.61 659.56]]\nInput (missing):  [[   6.98  142.7   143.5     7.93  176.5  2089.  ]]\nTarget (missing):  [[  21.09  142.7  1311.     26.68  176.5  2089.  ]]\nOutputs (missing):  [[  18.74  123.59 1140.1    22.68  153.4  1647.1 ]]\nInput (missing):  [[ 17.75 117.3  981.6    7.93  50.41 185.2 ]]\nTarget (missing):  [[  17.75  117.3   981.6    21.53  145.4  1437.  ]]\nOutputs (missing):  [[  16.62  110.67  986.41   20.65  132.52 1375.45]]\nInput (missing):  [[ 17.29 114.4  947.8    7.93 137.9  185.2 ]]\nTarget (missing):  [[  17.29  114.4   947.8    20.39  137.9  1295.  ]]\nOutputs (missing):  [[  17.17  113.19  982.5    20.79  136.4  1423.37]]\nInput (missing):  [[ 13.59  86.24 572.3   15.5   50.41 185.2 ]]\nTarget (missing):  [[ 13.59  86.24 572.3   15.5   98.91 739.1 ]]\nOutputs (missing):  [[ 12.73  82.76 528.05  14.5   94.   669.59]]\nInput (missing):  [[ 11.34  72.48 143.5    7.93  83.99 518.1 ]]\nTarget (missing):  [[ 11.34  72.48 396.5   13.01  83.99 518.1 ]]\nOutputs (missing):  [[ 11.37  73.07 385.87  12.6   80.93 458.89]]\nInput:  [[  17.06  111.8   918.6    20.99  143.2  1362.  ]]\nTarget:  [[  17.06  111.8   918.6    20.99  143.2  1362.  ]]\nOutputs:  [[  18.13  119.09 1024.99   21.41  144.82 1497.66]]\nInput (missing):  [[ 12.87  82.38 512.2    7.93  50.41 597.5 ]]\nTarget (missing):  [[ 12.87  82.38 512.2   13.9   89.27 597.5 ]]\nOutputs (missing):  [[ 12.85  83.88 562.82  14.93  95.72 717.28]]\nInput:  [[ 13.05  82.71 530.6   14.73  93.96 672.4 ]]\nTarget:  [[ 13.05  82.71 530.6   14.73  93.96 672.4 ]]\nOutputs:  [[ 13.41  86.84 567.77  15.13  99.94 756.72]]\nInput (missing):  [[  19.07  128.3  1104.      7.93  177.4  1651.  ]]\nTarget (missing):  [[  19.07  128.3  1104.     24.09  177.4  1651.  ]]\nOutputs (missing):  [[  20.36  134.86 1285.69   24.93  167.07 1914.42]]\nInput:  [[ 12.8   83.05 508.3   13.74  90.72 591.  ]]\nTarget:  [[ 12.8   83.05 508.3   13.74  90.72 591.  ]]\nOutputs:  [[ 13.09  84.64 537.81  14.71  96.96 707.79]]\nInput:  [[  9.88  62.92 295.4   10.42  67.08 331.6 ]]\nTarget:  [[  9.88  62.92 295.4   10.42  67.08 331.6 ]]\nOutputs:  [[ 10.64  67.91 302.76  11.46  73.87 325.32]]\nInput (missing):  [[  23.51   43.79 1747.     30.67  202.4  2906.  ]]\nTarget (missing):  [[  23.51  155.1  1747.     30.67  202.4  2906.  ]]\nOutputs (missing):  [[  26.2   175.56 1845.15   32.9   220.19 2835.66]]\nInput (missing):  [[ 14.86  43.79 673.7   16.31 102.3  185.2 ]]\nTarget (missing):  [[ 14.86  94.89 673.7   16.31 102.3  777.5 ]]\nOutputs (missing):  [[ 13.18  85.51 554.18  15.    97.5  737.88]]\nInput (missing):  [[  6.98  88.59 561.3   14.98 101.1  686.6 ]]\nTarget (missing):  [[ 13.56  88.59 561.3   14.98 101.1  686.6 ]]\nOutputs (missing):  [[ 13.6   87.95 591.8   15.3  103.03 778.32]]\nInput (missing):  [[ 14.95  96.85 678.1    7.93 121.4  971.4 ]]\nTarget (missing):  [[ 14.95  96.85 678.1   18.55 121.4  971.4 ]]\nOutputs (missing):  [[  15.47  101.22  794.16   18.21  120.17 1121.06]]\nInput:  [[ 12.7   80.88 495.    13.65  88.12 566.9 ]]\nTarget:  [[ 12.7   80.88 495.    13.65  88.12 566.9 ]]\nOutputs:  [[ 12.8   82.64 508.53  14.31  94.29 660.88]]\nInput (missing):  [[ 13.16  43.79 538.7   14.5   95.29 648.3 ]]\nTarget (missing):  [[ 13.16  84.06 538.7   14.5   95.29 648.3 ]]\nOutputs (missing):  [[ 13.28  86.25 566.2   15.18  98.33 758.41]]\nInput:  [[  8.2   51.71 201.9    8.96  57.26 242.2 ]]\nTarget:  [[  8.2   51.71 201.9    8.96  57.26 242.2 ]]\nOutputs:  [[  9.75  62.04 232.65  10.45  65.85 202.26]]\nInput (missing):  [[  6.98  97.26 701.9   17.58 113.8  967.  ]]\nTarget (missing):  [[ 15.05  97.26 701.9   17.58 113.8  967.  ]]\nOutputs (missing):  [[  15.11   98.32  743.21   17.32  117.99 1014.38]]\nInput (missing):  [[  19.8   129.7   143.5    25.73  170.3  2009.  ]]\nTarget (missing):  [[  19.8   129.7  1230.     25.73  170.3  2009.  ]]\nOutputs (missing):  [[  21.03  139.76 1345.35   25.84  172.75 2009.72]]\nInput:  [[ 15.    97.45 684.5   16.41 114.2  808.2 ]]\nTarget:  [[ 15.    97.45 684.5   16.41 114.2  808.2 ]]\nOutputs:  [[  15.02   97.77  724.49   17.27  115.6  1010.81]]\nInput (missing):  [[  15.66   43.79  773.5    19.85   50.41 1226.  ]]\nTarget (missing):  [[  15.66  110.2   773.5    19.85  143.7  1226.  ]]\nOutputs (missing):  [[  15.81  104.74  867.52   19.13  123.91 1194.95]]\nInput (missing):  [[ 12.04  76.85 143.5    7.93  87.24 567.6 ]]\nTarget (missing):  [[ 12.04  76.85 449.9   13.6   87.24 567.6 ]]\nOutputs (missing):  [[ 11.7   75.34 418.74  13.07  84.17 513.81]]\nInput (missing):  [[  6.98  78.41 466.1   14.1   89.   610.2 ]]\nTarget (missing):  [[ 12.27  78.41 466.1   14.1   89.   610.2 ]]\nOutputs (missing):  [[ 12.54  80.74 487.57  13.91  92.84 612.44]]\nInput (missing):  [[  14.68   43.79  143.5    19.07   50.41 1138.  ]]\nTarget (missing):  [[  14.68   94.74  684.5    19.07  123.4  1138.  ]]\nOutputs (missing):  [[  15.04   99.82  813.86   18.37  117.03 1099.95]]\nInput (missing):  [[ 12.49  43.79 481.6   13.34  84.48 544.2 ]]\nTarget (missing):  [[ 12.49  79.19 481.6   13.34  84.48 544.2 ]]\nOutputs (missing):  [[ 12.4   80.21 479.21  13.99  90.15 617.79]]\nInput (missing):  [[ 14.74  94.7  668.6   16.51 107.4  185.2 ]]\nTarget (missing):  [[ 14.74  94.7  668.6   16.51 107.4  826.4 ]]\nOutputs (missing):  [[ 14.12  91.62 640.34  16.12 107.17 874.75]]\nInput (missing):  [[ 14.11  90.03 616.5   15.53  98.4  185.2 ]]\nTarget (missing):  [[ 14.11  90.03 616.5   15.53  98.4  749.9 ]]\nOutputs (missing):  [[ 13.53  87.64 583.3   15.35 101.51 782.86]]\nInput (missing):  [[  6.98  82.57 477.1   15.47 103.4  185.2 ]]\nTarget (missing):  [[ 12.45  82.57 477.1   15.47 103.4  741.6 ]]\nOutputs (missing):  [[ 12.71  81.74 498.25  14.1   94.23 639.95]]\nInput:  [[ 10.26  65.85 320.8   10.83  71.08 357.4 ]]\nTarget:  [[ 10.26  65.85 320.8   10.83  71.08 357.4 ]]\nOutputs:  [[ 10.86  69.32 322.1   11.75  76.06 358.22]]\nInput:  [[  19.68  129.9  1194.     22.75  157.6  1540.  ]]\nTarget:  [[  19.68  129.9  1194.     22.75  157.6  1540.  ]]\nOutputs:  [[  19.83  130.57 1186.16   23.65  161.59 1763.11]]\nInput:  [[ 13.86  90.96 578.9   15.75 104.4  750.1 ]]\nTarget:  [[ 13.86  90.96 578.9   15.75 104.4  750.1 ]]\nOutputs:  [[ 14.14  91.71 636.79  16.09 107.26 870.31]]\nInput:  [[ 13.68  87.76 575.5   15.85 101.6  773.4 ]]\nTarget:  [[ 13.68  87.76 575.5   15.85 101.6  773.4 ]]\nOutputs:  [[ 14.    90.76 622.23  15.9  105.85 847.14]]\nInput:  [[ 15.32 103.2  713.3   17.73 119.8  928.8 ]]\nTarget:  [[ 15.32 103.2  713.3   17.73 119.8  928.8 ]]\nOutputs:  [[  15.66  102.09  784.12   18.12  121.84 1109.2 ]]\nInput (missing):  [[ 15.04  43.79 689.4   16.76 109.7  185.2 ]]\nTarget (missing):  [[ 15.04  98.73 689.4   16.76 109.7  856.9 ]]\nOutputs (missing):  [[ 13.29  86.18 563.12  15.13  98.94 753.05]]\nInput (missing):  [[ 12.31  43.79 143.5    7.93  89.71 185.2 ]]\nTarget (missing):  [[ 12.31  79.19 470.9   14.11  89.71 611.1 ]]\nOutputs (missing):  [[ 10.59  67.61 313.88  11.58  74.25 339.7 ]]\nInput:  [[ 15.37 100.2  728.2   16.43 107.5  830.9 ]]\nTarget:  [[ 15.37 100.2  728.2   16.43 107.5  830.9 ]]\nOutputs:  [[  15.19   98.99  740.81   17.55  117.21 1039.65]]\nInput:  [[ 14.64  94.21 666.    16.46 106.   831.  ]]\nTarget:  [[ 14.64  94.21 666.    16.46 106.   831.  ]]\nOutputs:  [[ 14.62  95.04 682.07  16.73 111.85 943.62]]\nInput:  [[ 11.54  74.65 402.9   12.26  78.78 457.8 ]]\nTarget:  [[ 11.54  74.65 402.9   12.26  78.78 457.8 ]]\nOutputs:  [[ 11.81  75.82 411.42  13.    84.99 503.52]]\nInput:  [[ 13.66  88.27 580.6   14.54  97.96 657.  ]]\nTarget:  [[ 13.66  88.27 580.6   14.54  97.96 657.  ]]\nOutputs:  [[ 13.66  88.5  591.35  15.48 102.75 795.23]]\nInput (missing): [[  20.48  132.5   143.5    24.22  161.7  1750.  ]]\nTarget (missing):  [[  20.48  132.5  1306.     24.22  161.7  1750.  ]]\nOutputs (missing):  [[  19.96  132.17 1224.46   24.31  162.13 1827.88]]\nInput:  [[ 14.29  90.3  632.6   14.91  94.44 684.6 ]]\nTarget:  [[ 14.29  90.3  632.6   14.91  94.44 684.6 ]]\nOutputs:  [[ 13.94  90.47 618.73  15.87 105.21 840.27]]\nInput (missing):  [[ 14.78  97.4  143.5   17.31 114.6  185.2 ]]\nTarget (missing):  [[ 14.78  97.4  668.3   17.31 114.6  925.1 ]]\nOutputs (missing):  [[ 13.53  87.66 586.53  15.41 101.54 785.38]]\nInput (missing):  [[  6.98  94.37 143.5   15.74 106.4  762.4 ]]\nTarget (missing):  [[ 14.22  94.37 609.9   15.74 106.4  762.4 ]]\nOutputs (missing):  [[ 13.37  86.5  574.95  15.1  101.13 747.8 ]]\nEpoch 110 of 110, Train Loss: 0.00368, Overall: 0.00201\n"
    }
   ],
   "source": [
    "# TRAIN THE NEURAL NETWORK\n",
    "results = train(net)"
   ]
  },
  {
   "cell_type": "code",
   "execution_count": 52,
   "metadata": {},
   "outputs": [
    {
     "data": {
      "text/plain": "[<matplotlib.lines.Line2D at 0x17e187d4c50>]"
     },
     "execution_count": 52,
     "metadata": {},
     "output_type": "execute_result"
    },
    {
     "data": {
      "image/png": "[encoded data removed]",
      "image/svg+xml": "<?xml version=\"1.0\" encoding=\"utf-8\" standalone=\"no\"?>\r\n<!DOCTYPE svg PUBLIC \"-//W3C//DTD SVG 1.1//EN\"\r\n  \"http://www.w3.org/Graphics/SVG/1.1/DTD/svg11.dtd\">\r\n<!-- Created with matplotlib (https://matplotlib.org/) -->\r\n<svg height=\"248.518125pt\" version=\"1.1\" viewBox=\"0 0 378.465625 248.518125\" width=\"378.465625pt\" xmlns=\"http://www.w3.org/2000/svg\" xmlns:xlink=\"http://www.w3.org/1999/xlink\">\r\n <defs>\r\n  <style type=\"text/css\">\r\n*{stroke-linecap:butt;stroke-linejoin:round;}\r\n  </style>\r\n </defs>\r\n <g id=\"figure_1\">\r\n  <g id=\"patch_1\">\r\n   <path d=\"M 0 248.518125 \r\nL 378.465625 248.518125 \r\nL 378.465625 0 \r\nL 0 0 \r\nz\r\n\" style=\"fill:none;\"/>\r\n  </g>\r\n  <g id=\"axes_1\">\r\n   <g id=\"patch_2\">\r\n    <path d=\"M 36.465625 224.64 \r\nL 371.265625 224.64 \r\nL 371.265625 7.2 \r\nL 36.465625 7.2 \r\nz\r\n\" style=\"fill:#ffffff;\"/>\r\n   </g>\r\n   <g id=\"matplotlib.axis_1\">\r\n    <g id=\"xtick_1\">\r\n     <g id=\"line2d_1\">\r\n      <defs>\r\n       <path d=\"M 0 0 \r\nL 0 3.5 \r\n\" id=\"m17462d2560\" style=\"stroke:#000000;stroke-width:0.8;\"/>\r\n      </defs>\r\n      <g>\r\n       <use style=\"stroke:#000000;stroke-width:0.8;\" x=\"51.683807\" xlink:href=\"#m17462d2560\" y=\"224.64\"/>\r\n      </g>\r\n     </g>\r\n     <g id=\"text_1\">\r\n      <!-- 0 -->\r\n      <defs>\r\n       <path d=\"M 31.78125 66.40625 \r\nQ 24.171875 66.40625 20.328125 58.90625 \r\nQ 16.5 51.421875 16.5 36.375 \r\nQ 16.5 21.390625 20.328125 13.890625 \r\nQ 24.171875 6.390625 31.78125 6.390625 \r\nQ 39.453125 6.390625 43.28125 13.890625 \r\nQ 47.125 21.390625 47.125 36.375 \r\nQ 47.125 51.421875 43.28125 58.90625 \r\nQ 39.453125 66.40625 31.78125 66.40625 \r\nz\r\nM 31.78125 74.21875 \r\nQ 44.046875 74.21875 50.515625 64.515625 \r\nQ 56.984375 54.828125 56.984375 36.375 \r\nQ 56.984375 17.96875 50.515625 8.265625 \r\nQ 44.046875 -1.421875 31.78125 -1.421875 \r\nQ 19.53125 -1.421875 13.0625 8.265625 \r\nQ 6.59375 17.96875 6.59375 36.375 \r\nQ 6.59375 54.828125 13.0625 64.515625 \r\nQ 19.53125 74.21875 31.78125 74.21875 \r\nz\r\n\" id=\"DejaVuSans-48\"/>\r\n      </defs>\r\n      <g transform=\"translate(48.502557 239.238437)scale(0.1 -0.1)\">\r\n       <use xlink:href=\"#DejaVuSans-48\"/>\r\n      </g>\r\n     </g>\r\n    </g>\r\n    <g id=\"xtick_2\">\r\n     <g id=\"line2d_2\">\r\n      <g>\r\n       <use style=\"stroke:#000000;stroke-width:0.8;\" x=\"107.530346\" xlink:href=\"#m17462d2560\" y=\"224.64\"/>\r\n      </g>\r\n     </g>\r\n     <g id=\"text_2\">\r\n      <!-- 20 -->\r\n      <defs>\r\n       <path d=\"M 19.1875 8.296875 \r\nL 53.609375 8.296875 \r\nL 53.609375 0 \r\nL 7.328125 0 \r\nL 7.328125 8.296875 \r\nQ 12.9375 14.109375 22.625 23.890625 \r\nQ 32.328125 33.6875 34.8125 36.53125 \r\nQ 39.546875 41.84375 41.421875 45.53125 \r\nQ 43.3125 49.21875 43.3125 52.78125 \r\nQ 43.3125 58.59375 39.234375 62.25 \r\nQ 35.15625 65.921875 28.609375 65.921875 \r\nQ 23.96875 65.921875 18.8125 64.3125 \r\nQ 13.671875 62.703125 7.8125 59.421875 \r\nL 7.8125 69.390625 \r\nQ 13.765625 71.78125 18.9375 73 \r\nQ 24.125 74.21875 28.421875 74.21875 \r\nQ 39.75 74.21875 46.484375 68.546875 \r\nQ 53.21875 62.890625 53.21875 53.421875 \r\nQ 53.21875 48.921875 51.53125 44.890625 \r\nQ 49.859375 40.875 45.40625 35.40625 \r\nQ 44.1875 33.984375 37.640625 27.21875 \r\nQ 31.109375 20.453125 19.1875 8.296875 \r\nz\r\n\" id=\"DejaVuSans-50\"/>\r\n      </defs>\r\n      <g transform=\"translate(101.167846 239.238437)scale(0.1 -0.1)\">\r\n       <use xlink:href=\"#DejaVuSans-50\"/>\r\n       <use x=\"63.623047\" xlink:href=\"#DejaVuSans-48\"/>\r\n      </g>\r\n     </g>\r\n    </g>\r\n    <g id=\"xtick_3\">\r\n     <g id=\"line2d_3\">\r\n      <g>\r\n       <use style=\"stroke:#000000;stroke-width:0.8;\" x=\"163.376884\" xlink:href=\"#m17462d2560\" y=\"224.64\"/>\r\n      </g>\r\n     </g>\r\n     <g id=\"text_3\">\r\n      <!-- 40 -->\r\n      <defs>\r\n       <path d=\"M 37.796875 64.3125 \r\nL 12.890625 25.390625 \r\nL 37.796875 25.390625 \r\nz\r\nM 35.203125 72.90625 \r\nL 47.609375 72.90625 \r\nL 47.609375 25.390625 \r\nL 58.015625 25.390625 \r\nL 58.015625 17.1875 \r\nL 47.609375 17.1875 \r\nL 47.609375 0 \r\nL 37.796875 0 \r\nL 37.796875 17.1875 \r\nL 4.890625 17.1875 \r\nL 4.890625 26.703125 \r\nz\r\n\" id=\"DejaVuSans-52\"/>\r\n      </defs>\r\n      <g transform=\"translate(157.014384 239.238437)scale(0.1 -0.1)\">\r\n       <use xlink:href=\"#DejaVuSans-52\"/>\r\n       <use x=\"63.623047\" xlink:href=\"#DejaVuSans-48\"/>\r\n      </g>\r\n     </g>\r\n    </g>\r\n    <g id=\"xtick_4\">\r\n     <g id=\"line2d_4\">\r\n      <g>\r\n       <use style=\"stroke:#000000;stroke-width:0.8;\" x=\"219.223423\" xlink:href=\"#m17462d2560\" y=\"224.64\"/>\r\n      </g>\r\n     </g>\r\n     <g id=\"text_4\">\r\n      <!-- 60 -->\r\n      <defs>\r\n       <path d=\"M 33.015625 40.375 \r\nQ 26.375 40.375 22.484375 35.828125 \r\nQ 18.609375 31.296875 18.609375 23.390625 \r\nQ 18.609375 15.53125 22.484375 10.953125 \r\nQ 26.375 6.390625 33.015625 6.390625 \r\nQ 39.65625 6.390625 43.53125 10.953125 \r\nQ 47.40625 15.53125 47.40625 23.390625 \r\nQ 47.40625 31.296875 43.53125 35.828125 \r\nQ 39.65625 40.375 33.015625 40.375 \r\nz\r\nM 52.59375 71.296875 \r\nL 52.59375 62.3125 \r\nQ 48.875 64.0625 45.09375 64.984375 \r\nQ 41.3125 65.921875 37.59375 65.921875 \r\nQ 27.828125 65.921875 22.671875 59.328125 \r\nQ 17.53125 52.734375 16.796875 39.40625 \r\nQ 19.671875 43.65625 24.015625 45.921875 \r\nQ 28.375 48.1875 33.59375 48.1875 \r\nQ 44.578125 48.1875 50.953125 41.515625 \r\nQ 57.328125 34.859375 57.328125 23.390625 \r\nQ 57.328125 12.15625 50.6875 5.359375 \r\nQ 44.046875 -1.421875 33.015625 -1.421875 \r\nQ 20.359375 -1.421875 13.671875 8.265625 \r\nQ 6.984375 17.96875 6.984375 36.375 \r\nQ 6.984375 53.65625 15.1875 63.9375 \r\nQ 23.390625 74.21875 37.203125 74.21875 \r\nQ 40.921875 74.21875 44.703125 73.484375 \r\nQ 48.484375 72.75 52.59375 71.296875 \r\nz\r\n\" id=\"DejaVuSans-54\"/>\r\n      </defs>\r\n      <g transform=\"translate(212.860923 239.238437)scale(0.1 -0.1)\">\r\n       <use xlink:href=\"#DejaVuSans-54\"/>\r\n       <use x=\"63.623047\" xlink:href=\"#DejaVuSans-48\"/>\r\n      </g>\r\n     </g>\r\n    </g>\r\n    <g id=\"xtick_5\">\r\n     <g id=\"line2d_5\">\r\n      <g>\r\n       <use style=\"stroke:#000000;stroke-width:0.8;\" x=\"275.069962\" xlink:href=\"#m17462d2560\" y=\"224.64\"/>\r\n      </g>\r\n     </g>\r\n     <g id=\"text_5\">\r\n      <!-- 80 -->\r\n      <defs>\r\n       <path d=\"M 31.78125 34.625 \r\nQ 24.75 34.625 20.71875 30.859375 \r\nQ 16.703125 27.09375 16.703125 20.515625 \r\nQ 16.703125 13.921875 20.71875 10.15625 \r\nQ 24.75 6.390625 31.78125 6.390625 \r\nQ 38.8125 6.390625 42.859375 10.171875 \r\nQ 46.921875 13.96875 46.921875 20.515625 \r\nQ 46.921875 27.09375 42.890625 30.859375 \r\nQ 38.875 34.625 31.78125 34.625 \r\nz\r\nM 21.921875 38.8125 \r\nQ 15.578125 40.375 12.03125 44.71875 \r\nQ 8.5 49.078125 8.5 55.328125 \r\nQ 8.5 64.0625 14.71875 69.140625 \r\nQ 20.953125 74.21875 31.78125 74.21875 \r\nQ 42.671875 74.21875 48.875 69.140625 \r\nQ 55.078125 64.0625 55.078125 55.328125 \r\nQ 55.078125 49.078125 51.53125 44.71875 \r\nQ 48 40.375 41.703125 38.8125 \r\nQ 48.828125 37.15625 52.796875 32.3125 \r\nQ 56.78125 27.484375 56.78125 20.515625 \r\nQ 56.78125 9.90625 50.3125 4.234375 \r\nQ 43.84375 -1.421875 31.78125 -1.421875 \r\nQ 19.734375 -1.421875 13.25 4.234375 \r\nQ 6.78125 9.90625 6.78125 20.515625 \r\nQ 6.78125 27.484375 10.78125 32.3125 \r\nQ 14.796875 37.15625 21.921875 38.8125 \r\nz\r\nM 18.3125 54.390625 \r\nQ 18.3125 48.734375 21.84375 45.5625 \r\nQ 25.390625 42.390625 31.78125 42.390625 \r\nQ 38.140625 42.390625 41.71875 45.5625 \r\nQ 45.3125 48.734375 45.3125 54.390625 \r\nQ 45.3125 60.0625 41.71875 63.234375 \r\nQ 38.140625 66.40625 31.78125 66.40625 \r\nQ 25.390625 66.40625 21.84375 63.234375 \r\nQ 18.3125 60.0625 18.3125 54.390625 \r\nz\r\n\" id=\"DejaVuSans-56\"/>\r\n      </defs>\r\n      <g transform=\"translate(268.707462 239.238437)scale(0.1 -0.1)\">\r\n       <use xlink:href=\"#DejaVuSans-56\"/>\r\n       <use x=\"63.623047\" xlink:href=\"#DejaVuSans-48\"/>\r\n      </g>\r\n     </g>\r\n    </g>\r\n    <g id=\"xtick_6\">\r\n     <g id=\"line2d_6\">\r\n      <g>\r\n       <use style=\"stroke:#000000;stroke-width:0.8;\" x=\"330.916501\" xlink:href=\"#m17462d2560\" y=\"224.64\"/>\r\n      </g>\r\n     </g>\r\n     <g id=\"text_6\">\r\n      <!-- 100 -->\r\n      <defs>\r\n       <path d=\"M 12.40625 8.296875 \r\nL 28.515625 8.296875 \r\nL 28.515625 63.921875 \r\nL 10.984375 60.40625 \r\nL 10.984375 69.390625 \r\nL 28.421875 72.90625 \r\nL 38.28125 72.90625 \r\nL 38.28125 8.296875 \r\nL 54.390625 8.296875 \r\nL 54.390625 0 \r\nL 12.40625 0 \r\nz\r\n\" id=\"DejaVuSans-49\"/>\r\n      </defs>\r\n      <g transform=\"translate(321.372751 239.238437)scale(0.1 -0.1)\">\r\n       <use xlink:href=\"#DejaVuSans-49\"/>\r\n       <use x=\"63.623047\" xlink:href=\"#DejaVuSans-48\"/>\r\n       <use x=\"127.246094\" xlink:href=\"#DejaVuSans-48\"/>\r\n      </g>\r\n     </g>\r\n    </g>\r\n   </g>\r\n   <g id=\"matplotlib.axis_2\">\r\n    <g id=\"ytick_1\">\r\n     <g id=\"line2d_7\">\r\n      <defs>\r\n       <path d=\"M 0 0 \r\nL -3.5 0 \r\n\" id=\"m77e037a985\" style=\"stroke:#000000;stroke-width:0.8;\"/>\r\n      </defs>\r\n      <g>\r\n       <use style=\"stroke:#000000;stroke-width:0.8;\" x=\"36.465625\" xlink:href=\"#m77e037a985\" y=\"215.887175\"/>\r\n      </g>\r\n     </g>\r\n     <g id=\"text_7\">\r\n      <!-- 0.00 -->\r\n      <defs>\r\n       <path d=\"M 10.6875 12.40625 \r\nL 21 12.40625 \r\nL 21 0 \r\nL 10.6875 0 \r\nz\r\n\" id=\"DejaVuSans-46\"/>\r\n      </defs>\r\n      <g transform=\"translate(7.2 219.686393)scale(0.1 -0.1)\">\r\n       <use xlink:href=\"#DejaVuSans-48\"/>\r\n       <use x=\"63.623047\" xlink:href=\"#DejaVuSans-46\"/>\r\n       <use x=\"95.410156\" xlink:href=\"#DejaVuSans-48\"/>\r\n       <use x=\"159.033203\" xlink:href=\"#DejaVuSans-48\"/>\r\n      </g>\r\n     </g>\r\n    </g>\r\n    <g id=\"ytick_2\">\r\n     <g id=\"line2d_8\">\r\n      <g>\r\n       <use style=\"stroke:#000000;stroke-width:0.8;\" x=\"36.465625\" xlink:href=\"#m77e037a985\" y=\"184.67349\"/>\r\n      </g>\r\n     </g>\r\n     <g id=\"text_8\">\r\n      <!-- 0.01 -->\r\n      <g transform=\"translate(7.2 188.472708)scale(0.1 -0.1)\">\r\n       <use xlink:href=\"#DejaVuSans-48\"/>\r\n       <use x=\"63.623047\" xlink:href=\"#DejaVuSans-46\"/>\r\n       <use x=\"95.410156\" xlink:href=\"#DejaVuSans-48\"/>\r\n       <use x=\"159.033203\" xlink:href=\"#DejaVuSans-49\"/>\r\n      </g>\r\n     </g>\r\n    </g>\r\n    <g id=\"ytick_3\">\r\n     <g id=\"line2d_9\">\r\n      <g>\r\n       <use style=\"stroke:#000000;stroke-width:0.8;\" x=\"36.465625\" xlink:href=\"#m77e037a985\" y=\"153.459804\"/>\r\n      </g>\r\n     </g>\r\n     <g id=\"text_9\">\r\n      <!-- 0.02 -->\r\n      <g transform=\"translate(7.2 157.259023)scale(0.1 -0.1)\">\r\n       <use xlink:href=\"#DejaVuSans-48\"/>\r\n       <use x=\"63.623047\" xlink:href=\"#DejaVuSans-46\"/>\r\n       <use x=\"95.410156\" xlink:href=\"#DejaVuSans-48\"/>\r\n       <use x=\"159.033203\" xlink:href=\"#DejaVuSans-50\"/>\r\n      </g>\r\n     </g>\r\n    </g>\r\n    <g id=\"ytick_4\">\r\n     <g id=\"line2d_10\">\r\n      <g>\r\n       <use style=\"stroke:#000000;stroke-width:0.8;\" x=\"36.465625\" xlink:href=\"#m77e037a985\" y=\"122.246119\"/>\r\n      </g>\r\n     </g>\r\n     <g id=\"text_10\">\r\n      <!-- 0.03 -->\r\n      <defs>\r\n       <path d=\"M 40.578125 39.3125 \r\nQ 47.65625 37.796875 51.625 33 \r\nQ 55.609375 28.21875 55.609375 21.1875 \r\nQ 55.609375 10.40625 48.1875 4.484375 \r\nQ 40.765625 -1.421875 27.09375 -1.421875 \r\nQ 22.515625 -1.421875 17.65625 -0.515625 \r\nQ 12.796875 0.390625 7.625 2.203125 \r\nL 7.625 11.71875 \r\nQ 11.71875 9.328125 16.59375 8.109375 \r\nQ 21.484375 6.890625 26.8125 6.890625 \r\nQ 36.078125 6.890625 40.9375 10.546875 \r\nQ 45.796875 14.203125 45.796875 21.1875 \r\nQ 45.796875 27.640625 41.28125 31.265625 \r\nQ 36.765625 34.90625 28.71875 34.90625 \r\nL 20.21875 34.90625 \r\nL 20.21875 43.015625 \r\nL 29.109375 43.015625 \r\nQ 36.375 43.015625 40.234375 45.921875 \r\nQ 44.09375 48.828125 44.09375 54.296875 \r\nQ 44.09375 59.90625 40.109375 62.90625 \r\nQ 36.140625 65.921875 28.71875 65.921875 \r\nQ 24.65625 65.921875 20.015625 65.03125 \r\nQ 15.375 64.15625 9.8125 62.3125 \r\nL 9.8125 71.09375 \r\nQ 15.4375 72.65625 20.34375 73.4375 \r\nQ 25.25 74.21875 29.59375 74.21875 \r\nQ 40.828125 74.21875 47.359375 69.109375 \r\nQ 53.90625 64.015625 53.90625 55.328125 \r\nQ 53.90625 49.265625 50.4375 45.09375 \r\nQ 46.96875 40.921875 40.578125 39.3125 \r\nz\r\n\" id=\"DejaVuSans-51\"/>\r\n      </defs>\r\n      <g transform=\"translate(7.2 126.045338)scale(0.1 -0.1)\">\r\n       <use xlink:href=\"#DejaVuSans-48\"/>\r\n       <use x=\"63.623047\" xlink:href=\"#DejaVuSans-46\"/>\r\n       <use x=\"95.410156\" xlink:href=\"#DejaVuSans-48\"/>\r\n       <use x=\"159.033203\" xlink:href=\"#DejaVuSans-51\"/>\r\n      </g>\r\n     </g>\r\n    </g>\r\n    <g id=\"ytick_5\">\r\n     <g id=\"line2d_11\">\r\n      <g>\r\n       <use style=\"stroke:#000000;stroke-width:0.8;\" x=\"36.465625\" xlink:href=\"#m77e037a985\" y=\"91.032434\"/>\r\n      </g>\r\n     </g>\r\n     <g id=\"text_11\">\r\n      <!-- 0.04 -->\r\n      <g transform=\"translate(7.2 94.831653)scale(0.1 -0.1)\">\r\n       <use xlink:href=\"#DejaVuSans-48\"/>\r\n       <use x=\"63.623047\" xlink:href=\"#DejaVuSans-46\"/>\r\n       <use x=\"95.410156\" xlink:href=\"#DejaVuSans-48\"/>\r\n       <use x=\"159.033203\" xlink:href=\"#DejaVuSans-52\"/>\r\n      </g>\r\n     </g>\r\n    </g>\r\n    <g id=\"ytick_6\">\r\n     <g id=\"line2d_12\">\r\n      <g>\r\n       <use style=\"stroke:#000000;stroke-width:0.8;\" x=\"36.465625\" xlink:href=\"#m77e037a985\" y=\"59.818749\"/>\r\n      </g>\r\n     </g>\r\n     <g id=\"text_12\">\r\n      <!-- 0.05 -->\r\n      <defs>\r\n       <path d=\"M 10.796875 72.90625 \r\nL 49.515625 72.90625 \r\nL 49.515625 64.59375 \r\nL 19.828125 64.59375 \r\nL 19.828125 46.734375 \r\nQ 21.96875 47.46875 24.109375 47.828125 \r\nQ 26.265625 48.1875 28.421875 48.1875 \r\nQ 40.625 48.1875 47.75 41.5 \r\nQ 54.890625 34.8125 54.890625 23.390625 \r\nQ 54.890625 11.625 47.5625 5.09375 \r\nQ 40.234375 -1.421875 26.90625 -1.421875 \r\nQ 22.3125 -1.421875 17.546875 -0.640625 \r\nQ 12.796875 0.140625 7.71875 1.703125 \r\nL 7.71875 11.625 \r\nQ 12.109375 9.234375 16.796875 8.0625 \r\nQ 21.484375 6.890625 26.703125 6.890625 \r\nQ 35.15625 6.890625 40.078125 11.328125 \r\nQ 45.015625 15.765625 45.015625 23.390625 \r\nQ 45.015625 31 40.078125 35.4375 \r\nQ 35.15625 39.890625 26.703125 39.890625 \r\nQ 22.75 39.890625 18.8125 39.015625 \r\nQ 14.890625 38.140625 10.796875 36.28125 \r\nz\r\n\" id=\"DejaVuSans-53\"/>\r\n      </defs>\r\n      <g transform=\"translate(7.2 63.617968)scale(0.1 -0.1)\">\r\n       <use xlink:href=\"#DejaVuSans-48\"/>\r\n       <use x=\"63.623047\" xlink:href=\"#DejaVuSans-46\"/>\r\n       <use x=\"95.410156\" xlink:href=\"#DejaVuSans-48\"/>\r\n       <use x=\"159.033203\" xlink:href=\"#DejaVuSans-53\"/>\r\n      </g>\r\n     </g>\r\n    </g>\r\n    <g id=\"ytick_7\">\r\n     <g id=\"line2d_13\">\r\n      <g>\r\n       <use style=\"stroke:#000000;stroke-width:0.8;\" x=\"36.465625\" xlink:href=\"#m77e037a985\" y=\"28.605064\"/>\r\n      </g>\r\n     </g>\r\n     <g id=\"text_13\">\r\n      <!-- 0.06 -->\r\n      <g transform=\"translate(7.2 32.404283)scale(0.1 -0.1)\">\r\n       <use xlink:href=\"#DejaVuSans-48\"/>\r\n       <use x=\"63.623047\" xlink:href=\"#DejaVuSans-46\"/>\r\n       <use x=\"95.410156\" xlink:href=\"#DejaVuSans-48\"/>\r\n       <use x=\"159.033203\" xlink:href=\"#DejaVuSans-54\"/>\r\n      </g>\r\n     </g>\r\n    </g>\r\n   </g>\r\n   <g id=\"line2d_14\">\r\n    <path clip-path=\"url(#p3def8450b6)\" d=\"M 51.683807 17.083636 \r\nL 54.476134 171.994736 \r\nL 57.268461 209.676712 \r\nL 60.060788 212.667168 \r\nL 62.853115 212.929479 \r\nL 65.645442 212.654723 \r\nL 68.437768 212.245456 \r\nL 71.230095 211.885913 \r\nL 74.022422 211.412264 \r\nL 76.814749 210.812908 \r\nL 79.607076 210.322715 \r\nL 82.399403 209.948097 \r\nL 85.19173 209.601833 \r\nL 87.984057 208.91423 \r\nL 90.776384 208.592855 \r\nL 93.568711 208.564325 \r\nL 96.361038 208.658655 \r\nL 99.153365 208.850829 \r\nL 101.945692 209.124875 \r\nL 104.738019 209.47032 \r\nL 107.530346 209.760877 \r\nL 110.322673 210.079535 \r\nL 113.114999 210.383904 \r\nL 115.907326 210.68551 \r\nL 118.699653 210.976777 \r\nL 121.49198 211.252651 \r\nL 124.284307 211.252563 \r\nL 127.076634 211.173547 \r\nL 129.868961 211.420071 \r\nL 132.661288 211.634903 \r\nL 135.453615 211.858103 \r\nL 138.245942 212.091288 \r\nL 141.038269 212.303846 \r\nL 143.830596 212.491943 \r\nL 146.622923 212.692681 \r\nL 149.41525 212.864559 \r\nL 152.207577 212.99657 \r\nL 154.999904 213.166729 \r\nL 157.792231 213.304754 \r\nL 160.584557 213.453369 \r\nL 163.376884 213.615141 \r\nL 166.169211 213.7427 \r\nL 168.961538 213.861277 \r\nL 171.753865 213.992382 \r\nL 174.546192 214.099296 \r\nL 177.338519 214.178898 \r\nL 180.130846 214.215559 \r\nL 182.923173 214.24597 \r\nL 185.7155 214.272154 \r\nL 188.507827 214.305582 \r\nL 191.300154 214.346752 \r\nL 194.092481 214.391384 \r\nL 196.884808 214.425855 \r\nL 199.677135 214.458596 \r\nL 202.469462 214.461752 \r\nL 205.261788 214.498662 \r\nL 208.054115 214.530199 \r\nL 210.846442 214.540789 \r\nL 213.638769 214.564887 \r\nL 216.431096 214.592029 \r\nL 219.223423 214.624575 \r\nL 222.01575 214.63828 \r\nL 224.808077 214.656308 \r\nL 227.600404 214.678577 \r\nL 230.392731 214.696669 \r\nL 233.185058 214.70475 \r\nL 235.977385 214.718037 \r\nL 238.769712 214.734863 \r\nL 241.562039 214.743982 \r\nL 244.354366 214.751379 \r\nL 247.146693 214.722819 \r\nL 249.939019 214.720796 \r\nL 252.731346 214.727433 \r\nL 255.523673 214.731966 \r\nL 258.316 214.738003 \r\nL 261.108327 214.740556 \r\nL 263.900654 214.736952 \r\nL 266.692981 214.735839 \r\nL 269.485308 214.744123 \r\nL 272.277635 214.736427 \r\nL 275.069962 214.732059 \r\nL 277.862289 214.728732 \r\nL 280.654616 214.720694 \r\nL 283.446943 214.725589 \r\nL 286.23927 214.725657 \r\nL 289.031597 214.72569 \r\nL 291.823924 214.725452 \r\nL 294.616251 214.717528 \r\nL 297.408577 214.754224 \r\nL 300.200904 214.715824 \r\nL 302.993231 214.749968 \r\nL 305.785558 214.749017 \r\nL 308.577885 214.756364 \r\nL 311.370212 214.751661 \r\nL 314.162539 214.751791 \r\nL 316.954866 214.750866 \r\nL 319.747193 214.743536 \r\nL 322.53952 214.741797 \r\nL 325.331847 214.743046 \r\nL 328.124174 214.746604 \r\nL 330.916501 214.747196 \r\nL 333.708828 214.749049 \r\nL 336.501155 214.743142 \r\nL 339.293482 214.749166 \r\nL 342.085808 214.745652 \r\nL 344.878135 214.743591 \r\nL 347.670462 214.734048 \r\nL 350.462789 214.731554 \r\nL 353.255116 214.730782 \r\nL 356.047443 214.730635 \r\n\" style=\"fill:none;stroke:#1f77b4;stroke-linecap:square;stroke-width:1.5;\"/>\r\n   </g>\r\n   <g id=\"patch_3\">\r\n    <path d=\"M 36.465625 224.64 \r\nL 36.465625 7.2 \r\n\" style=\"fill:none;stroke:#000000;stroke-linecap:square;stroke-linejoin:miter;stroke-width:0.8;\"/>\r\n   </g>\r\n   <g id=\"patch_4\">\r\n    <path d=\"M 371.265625 224.64 \r\nL 371.265625 7.2 \r\n\" style=\"fill:none;stroke:#000000;stroke-linecap:square;stroke-linejoin:miter;stroke-width:0.8;\"/>\r\n   </g>\r\n   <g id=\"patch_5\">\r\n    <path d=\"M 36.465625 224.64 \r\nL 371.265625 224.64 \r\n\" style=\"fill:none;stroke:#000000;stroke-linecap:square;stroke-linejoin:miter;stroke-width:0.8;\"/>\r\n   </g>\r\n   <g id=\"patch_6\">\r\n    <path d=\"M 36.465625 7.2 \r\nL 371.265625 7.2 \r\n\" style=\"fill:none;stroke:#000000;stroke-linecap:square;stroke-linejoin:miter;stroke-width:0.8;\"/>\r\n   </g>\r\n  </g>\r\n </g>\r\n <defs>\r\n  <clipPath id=\"p3def8450b6\">\r\n   <rect height=\"217.44\" width=\"334.8\" x=\"36.465625\" y=\"7.2\"/>\r\n  </clipPath>\r\n </defs>\r\n</svg>\r\n",
      "text/plain": "<Figure size 432x288 with 1 Axes>"
     },
     "metadata": {
      "needs_background": "light"
     },
     "output_type": "display_data"
    }
   ],
   "source": [
    "plt.plot(results)"
   ]
  },
  {
   "cell_type": "code",
   "execution_count": 31,
   "metadata": {},
   "outputs": [
    {
     "name": "stdout",
     "output_type": "stream",
     "text": ".4  671.4   16.08 118.6  784.7 ]]\nTarget:  [[ 14.86 100.4  671.4   16.08 118.6  784.7 ]]\nOutputs:  [[  15.14   98.54  735.57   17.44  116.94 1025.82]]\nInput (missing):  [[  6.98  85.24 143.5   14.2   92.94 621.2 ]]\nTarget (missing):  [[ 13.3   85.24 546.1   14.2   92.94 621.2 ]]\nOutputs (missing):  [[ 12.35  79.53 473.23  13.72  91.15 585.99]]\nInput (missing):  [[ 11.3   73.93 389.4   12.58  50.41 472.9 ]]\nTarget (missing):  [[ 11.3   73.93 389.4   12.58  87.16 472.9 ]]\nOutputs (missing):  [[ 11.64  75.08 413.5   12.96  83.81 486.83]]\nInput (missing):  [[  6.98  81.92 485.8   13.37  89.02 547.4 ]]\nTarget (missing):  [[ 12.56  81.92 485.8   13.37  89.02 547.4 ]]\nOutputs (missing):  [[ 12.51  80.51 482.08  13.86  92.52 604.32]]\nInput (missing):  [[ 14.48  43.79 648.2   16.21 108.4  808.9 ]]\nTarget (missing):  [[ 14.48  94.25 648.2   16.21 108.4  808.9 ]]\nOutputs (missing):  [[ 14.42  94.05 675.96  16.73 109.22 935.53]]\nInput (missing):  [[ 11.32  71.76 395.7    7.93  79.82 452.3 ]]\nTarget (missing):  [[ 11.32  71.76 395.7   12.08  79.82 452.3 ]]\nOutputs (missing):  [[ 11.72  75.41 415.9   13.05  84.28 507.9 ]]\nInput (missing):  [[  6.98 100.   758.6    7.93 115.9  988.6 ]]\nTarget (missing):  [[ 15.61 100.   758.6   17.91 115.9  988.6 ]]\nOutputs (missing):  [[  15.41  100.68  795.91   18.09  121.1  1099.27]]\nInput (missing):  [[   6.98  137.2   143.5    29.17   50.41 2615.  ]]\nTarget (missing):  [[  21.16  137.2  1404.     29.17  188.   2615.  ]]\nOutputs (missing):  [[  19.02  127.03 1249.97   23.5   161.54 1672.58]]\nInput:  [[ 16.17 106.3  788.5   16.97 113.1  861.5 ]]\nTarget:  [[ 16.17 106.3  788.5   16.97 113.1  861.5 ]]\nOutputs:  [[  15.9   103.9   811.31   18.52  123.88 1151.2 ]]\nInput (missing):  [[ 14.05  43.79 600.4   15.3   50.41 185.2 ]]\nTarget (missing):  [[ 14.05  91.38 600.4   15.3  100.2  706.7 ]]\nOutputs (missing):  [[ 11.99  77.6  440.47  13.51  85.77 552.09]]\nInput (missing):  [[  6.98  43.79 506.9    7.93  50.41 605.8 ]]\nTarget (missing):  [[ 12.83  82.89 506.9   14.09  93.22 605.8 ]]\nOutputs (missing):  [[  9.95  63.54 252.69  10.76  67.57 230.36]]\nInput:  [[  8.89  58.79 244.     9.73  62.56 284.4 ]]\nTarget:  [[  8.89  58.79 244.     9.73  62.56 284.4 ]]\nOutputs:  [[ 10.11  64.29 253.24  10.8   68.9  243.61]]\nInput (missing):  [[  9.57  60.21 279.6   10.51  50.41 185.2 ]]\nTarget (missing):  [[  9.57  60.21 279.6   10.51  65.74 335.9 ]]\nOutputs (missing):  [[ 10.03  63.91 250.7   10.76  68.17 234.17]]\nInput:  [[ 12.47  80.45 480.1   14.06  92.82 607.3 ]]\nTarget:  [[ 12.47  80.45 480.1   14.06  92.82 607.3 ]]\nOutputs:  [[ 12.89  83.16 514.25  14.41  95.28 668.19]]\nInput (missing):  [[  6.98  83.51 519.4   14.16  90.82 616.7 ]]\nTarget (missing):  [[ 13.    83.51 519.4   14.16  90.82 616.7 ]]\nOutputs (missing):  [[ 12.79  82.37 508.14  14.2   95.23 644.48]]\nInput:  [[ 14.99  95.54 698.8   14.99  95.54 698.8 ]]\nTarget:  [[ 14.99  95.54 698.8   14.99  95.54 698.8 ]]\nOutputs:  [[ 14.55  94.75 681.63  16.75 110.91 941.74]]\nInput:  [[ 10.65  68.01 347.    12.25  77.98 455.7 ]]\nTarget:  [[ 10.65  68.01 347.    12.25  77.98 455.7 ]]\nOutputs:  [[ 11.43  73.2  373.75  12.48  81.29 440.65]]\nInput (missing):  [[ 14.34  92.51 641.2    7.93  50.41 873.2 ]]\nTarget (missing):  [[ 14.34  92.51 641.2   16.77 110.4  873.2 ]]\nOutputs (missing):  [[ 14.11  92.71 696.52  16.76 108.36 922.53]]\nInput:  [[ 11.14  71.24 384.6   12.12  79.62 453.5 ]]\nTarget:  [[ 11.14  71.24 384.6   12.12  79.62 453.5 ]]\nOutputs:  [[ 11.61  74.48 392.2   12.73  83.13 470.26]]\nInput:  [[  18.08  117.4  1024.     19.76  129.1  1228.  ]]\nTarget:  [[  18.08  117.4  1024.     19.76  129.1  1228.  ]]\nOutputs:  [[  17.8   116.79  990.16   20.99  141.88 1441.78]]\nInput:  [[  21.71  140.9  1546.     30.75  199.5  3143.  ]]\nTarget:  [[  21.71  140.9  1546.     30.75  199.5  3143.  ]]\nOutputs:  [[  25.76  171.45 1770.61   31.69  218.1  2694.55]]\nInput:  [[  8.22  53.27 203.9    9.09  58.08 249.8 ]]\nTarget:  [[  8.22  53.27 203.9    9.09  58.08 249.8 ]]\nOutputs:  [[  9.73  61.83 226.05  10.4   65.55 192.85]]\nInput:  [[  20.26  132.4  1264.     24.22  156.1  1750.  ]]\nTarget:  [[  20.26  132.4  1264.     24.22  156.1  1750.  ]]\nOutputs:  [[  20.43  134.71 1239.37   24.42  166.99 1846.25]]\nInput (missing):  [[  6.98  43.79 438.6   13.67  50.41 583.  ]]\nTarget (missing):  [[ 11.93  76.53 438.6   13.67  87.54 583.  ]]\nOutputs (missing):  [[ 11.    70.93 362.12  12.21  77.95 392.29]]\nInput (missing):  [[   6.98  111.    933.1    19.85   50.41 1218.  ]]\nTarget (missing):  [[  17.35  111.    933.1    19.85  128.2  1218.  ]]\nOutputs (missing):  [[  15.94  105.04  889.05   18.93  129.21 1164.56]]\nInput (missing):  [[  6.98  66.82 340.9   10.94  50.41 185.2 ]]\nTarget (missing):  [[ 10.57  66.82 340.9   10.94  69.35 366.3 ]]\nOutputs (missing):  [[ 10.46  67.14 308.2   11.49  72.82 312.84]]\nInput:  [[ 10.16  64.73 311.7   10.65  67.88 347.3 ]]\nTarget:  [[ 10.16  64.73 311.7   10.65  67.88 347.3 ]]\nOutputs:  [[ 10.69  68.19 304.85  11.51  74.44 327.87]]\nInput (missing):  [[ 15.46 101.7  748.9   19.26 124.9  185.2 ]]\nTarget (missing):  [[  15.46  101.7   748.9    19.26  124.9  1156.  ]]\nOutputs (missing):  [[  15.15   98.54  735.89   17.44  117.09 1025.75]]\nInput (missing):  [[  8.73  55.27 234.3   10.17  64.01 185.2 ]]\nTarget (missing):  [[  8.73  55.27 234.3   10.17  64.01 317.  ]]\nOutputs (missing):  [[ 10.    63.54 243.19  10.66  67.92 227.19]]\nInput (missing):  [[ 11.84  43.79 440.6   16.82 119.4  888.7 ]]\nTarget (missing):  [[ 11.84  77.93 440.6   16.82 119.4  888.7 ]]\nOutputs (missing):  [[ 14.27  92.98 661.47  16.49 108.13 909.83]]\nInput:  [[ 11.46  73.59 403.1   12.68  82.69 489.8 ]]\nTarget:  [[ 11.46  73.59 403.1   12.68  82.69 489.8 ]]\nOutputs:  [[ 11.92  76.58 421.34  13.13  86.07 517.54]]\nInput (missing):  [[ 13.65  87.88 568.9   15.34  50.41 706.2 ]]\nTarget (missing):  [[ 13.65  87.88 568.9   15.34  99.71 706.2 ]]\nOutputs (missing):  [[ 13.57  88.6  617.5   15.7  102.72 801.55]]\nInput (missing):  [[  6.98  78.01 457.9    7.93  91.11 583.1 ]]\nTarget (missing):  [[ 12.2   78.01 457.9   13.75  91.11 583.1 ]]\nOutputs (missing):  [[ 12.37  79.71 479.37  13.85  91.06 604.92]]\nInput (missing):  [[ 14.25  96.42 645.7   17.67 119.1  185.2 ]]\nTarget (missing):  [[ 14.25  96.42 645.7   17.67 119.1  959.5 ]]\nOutputs (missing):  [[ 14.4   93.42 664.07  16.44 110.03 908.75]]\nInput:  [[ 11.71  75.03 420.3   13.06  84.16 516.4 ]]\nTarget:  [[ 11.71  75.03 420.3   13.06  84.16 516.4 ]]\nOutputs:  [[ 12.12  77.94 440.01  13.39  87.96 547.94]]\nInput (missing):  [[ 12.68  82.69 143.5   17.09  50.41 888.3 ]]\nTarget (missing):  [[ 12.68  82.69 499.    17.09 111.8  888.3 ]]\nOutputs (missing):  [[ 13.46  88.12 622.05  15.71 102.13 796.91]]\nInput (missing):  [[ 13.62  43.79 573.2    7.93  97.58 185.2 ]]\nTarget (missing):  [[ 13.62  87.19 573.2   15.35  97.58 729.8 ]]\nOutputs (missing):  [[ 11.16  71.24 359.95  12.17  79.96 409.99]]\nInput (missing):  [[ 11.42  77.58 386.1    7.93  98.87 185.2 ]]\nTarget (missing):  [[ 11.42  77.58 386.1   14.91  98.87 567.7 ]]\nOutputs (missing):  [[ 12.15  78.32 464.75  13.68  88.83 583.96]]\nInput (missing):  [[ 11.93  43.79 442.7    7.93  87.64 589.5 ]]\nTarget (missing):  [[ 11.93  76.14 442.7   13.8   87.64 589.5 ]]\nOutputs (missing):  [[ 11.33  72.61 375.81  12.48  80.75 441.36]]\nInput (missing):  [[  6.98  81.35 507.9   13.87  88.1  594.7 ]]\nTarget (missing):  [[ 12.77  81.35 507.9   13.87  88.1  594.7 ]]\nOutputs (missing):  [[ 12.57  80.86 486.43  13.91  93.07 609.8 ]]\nInput:  [[ 10.49  66.86 334.3   11.06  70.76 375.4 ]]\nTarget:  [[ 10.49  66.86 334.3   11.06  70.76 375.4 ]]\nOutputs:  [[ 10.93  69.86 327.71  11.84  76.68 365.5 ]]\nInput (missing):  [[  24.25   43.79 1761.      7.93  180.9  2073.  ]]\nTarget (missing):  [[  24.25  166.2  1761.     26.02  180.9  2073.  ]]\nOutputs (missing):  [[  18.83  123.88 1107.11   22.55  152.45 1627.44]]\nInput:  [[ 14.95  97.84 689.5   16.25 107.1  809.7 ]]\nTarget:  [[ 14.95  97.84 689.5   16.25 107.1  809.7 ]]\nOutputs:  [[ 14.88  96.83 708.65  17.1  114.21 984.09]]\nInput (missing):  [[ 13.    43.79 519.8   15.49 106.2  739.3 ]]\nTarget (missing):  [[ 13.    87.5  519.8   15.49 106.2  739.3 ]]\nOutputs (missing):  [[ 13.72  89.23 607.43  15.76 102.76 823.07]]\nInput (missing):  [[  17.42  114.5   948.      7.93  120.4  1021.  ]]\nTarget (missing):  [[  17.42  114.5   948.     18.07  120.4  1021.  ]]\nOutputs (missing):  [[  17.47  115.23  999.05   21.12  139.03 1454.82]]\nInput (missing):  [[ 14.2   43.79 618.4    7.93 112.1  185.2 ]]\nTarget (missing):  [[ 14.2   92.41 618.4   16.45 112.1  828.5 ]]\nOutputs (missing):  [[ 11.58  74.   401.32  12.71  84.19 475.06]]\nInput (missing):  [[  6.98  73.7  421.    13.28  83.61 542.5 ]]\nTarget (missing):  [[ 11.66  73.7  421.    13.28  83.61 542.5 ]]\nOutputs (missing):  [[ 11.95  76.73 427.14  13.13  86.98 516.89]]\nInput (missing):  [[  17.47  116.1   984.6     7.93  155.3  1660.  ]]\nTarget (missing):  [[  17.47  116.1   984.6    23.14  155.3  1660.  ]]\nOutputs (missing):  [[  18.6   122.57 1100.16   22.44  150.39 1614.17]]\nInput:  [[  20.94  138.9  1364.     25.58  165.3  2010.  ]]\nTarget:  [[  20.94  138.9  1364.     25.58  165.3  2010.  ]]\nOutputs:  [[  21.56  142.37 1346.64   25.9   177.65 2020.54]]\nInput (missing):  [[  16.13   43.79  798.8     7.93  136.8  1315.  ]]\nTarget (missing):  [[  16.13  108.1   798.8    20.96  136.8  1315.  ]]\nOutputs (missing):  [[ 14.51  94.4  687.76  16.78 111.21 947.13]]\nInput:  [[ 13.7   87.76 571.1   14.96  95.78 686.5 ]]\nTarget:  [[ 13.7   87.76 571.1   14.96  95.78 686.5 ]]\nOutputs:  [[ 13.59  87.98 581.75  15.35 101.91 778.22]]\nInput (missing):  [[ 14.41  96.03 651.    15.77  50.41 767.3 ]]\nTarget (missing):  [[ 14.41  96.03 651.    15.77 101.7  767.3 ]]\nOutputs (missing):  [[ 14.35  94.08 702.94  16.83 110.51 931.2 ]]\nInput (missing):  [[ 15.71  43.79 143.5   17.5  114.3  922.8 ]]\nTarget (missing):  [[ 15.71 102.   761.7   17.5  114.3  922.8 ]]\nOutputs (missing):  [[  15.14   99.55  766.67   18.05  115.7  1086.27]]\nInput (missing):  [[ 16.14 104.3  143.5   17.71 115.9  947.9 ]]\nTarget (missing):  [[ 16.14 104.3  800.    17.71 115.9  947.9 ]]\nOutputs (missing):  [[  15.23   99.51  754.61   17.78  117.27 1060.61]]\nInput:  [[ 10.51  66.85 334.2   10.93  70.1  362.7 ]]\nTarget:  [[ 10.51  66.85 334.2   10.93  70.1  362.7 ]]\nOutputs:  [[ 10.92  69.76 326.77  11.83  76.52 364.03]]\nInput:  [[  19.45  126.5  1169.     25.7   163.1  1972.  ]]\nTarget:  [[  19.45  126.5  1169.     25.7   163.1  1972.  ]]\nOutputs:  [[  20.91  138.07 1287.15   25.09  171.41 1924.8 ]]\nInput (missing):  [[  16.65  110.    904.6    26.46   50.41 2215.  ]]\nTarget (missing):  [[  16.65  110.    904.6    26.46  177.   2215.  ]]\nOutputs (missing):  [[  19.67  131.35 1271.31   24.33  163.63 1784.37]]\nInput:  [[ 13.34  86.49 520.    15.53  96.66 614.9 ]]\nTarget:  [[ 13.34  86.49 520.    15.53  96.66 614.9 ]]\nOutputs:  [[ 13.49  87.28 572.12  15.22 100.91 762.63]]\nInput (missing):  [[ 13.01  82.01 143.5   14.    88.18 608.8 ]]\nTarget (missing):  [[ 13.01  82.01 526.4   14.    88.18 608.8 ]]\nOutputs (missing):  [[ 12.64  81.74 499.32  14.24  92.69 645.92]]\nInput:  [[ 11.8   78.99 432.    13.74  91.93 591.7 ]]\nTarget:  [[ 11.8   78.99 432.    13.74  91.93 591.7 ]]\nOutputs:  [[ 12.66  81.57 492.09  14.1   93.11 631.89]]\nInput (missing):  [[ 12.54  43.79 143.5   13.57  86.67 552.  ]]\nTarget (missing):  [[ 12.54  81.25 476.3   13.57  86.67 552.  ]]\nOutputs (missing):  [[ 12.39  80.31 486.    14.12  89.81 627.66]]\nInput (missing):  [[ 11.22  70.79 386.8   12.36  50.41 470.9 ]]\nTarget (missing):  [[ 11.22  70.79 386.8   12.36  78.44 470.9 ]]\nOutputs (missing):  [[ 11.46  73.82 393.02  12.7   81.96 457.01]]\nInput:  [[ 10.75  68.26 355.3   11.95  77.79 441.2 ]]\nTarget:  [[ 10.75  68.26 355.3   11.95  77.79 441.2 ]]\nOutputs:  [[ 11.38  72.92 370.3   12.43  80.92 434.89]]\nInput (missing):  [[ 12.99  84.08 514.3   13.72  50.41 576.  ]]\nTarget (missing):  [[ 12.99  84.08 514.3   13.72  87.38 576.  ]]\nOutputs (missing):  [[ 12.87  83.73 545.16  14.73  95.85 690.7 ]]\nInput:  [[ 14.69  98.22 656.1   16.46 114.1  809.2 ]]\nTarget:  [[ 14.69  98.22 656.1   16.46 114.1  809.2 ]]\nOutputs:  [[ 14.92  97.01 711.44  17.12 114.72 987.37]]\nInput:  [[ 13.21  84.1  537.9   14.35  91.29 632.9 ]]\nTarget:  [[ 13.21  84.1  537.9   14.35  91.29 632.9 ]]\nOutputs:  [[ 13.14  84.91 538.16  14.75  97.63 707.53]]\nInput (missing):  [[  6.98  70.92 373.2    7.93  79.93 471.4 ]]\nTarget (missing):  [[ 11.04  70.92 373.2   12.41  79.93 471.4 ]]\nOutputs (missing):  [[ 11.42  73.26 384.99  12.58  81.79 454.95]]\nInput (missing):  [[ 16.3   43.79 143.5   17.32 109.8  928.2 ]]\nTarget (missing):  [[ 16.3  104.7  819.8   17.32 109.8  928.2 ]]\nOutputs (missing):  [[  15.17   99.83  771.34   18.14  115.85 1094.89]]\nInput:  [[ 13.64  87.38 575.3   14.85  94.11 683.4 ]]\nTarget:  [[ 13.64  87.38 575.3   14.85  94.11 683.4 ]]\nOutputs:  [[ 13.55  87.72 578.06  15.3  101.51 772.43]]\nInput (missing):  [[  15.75   43.79  761.3    19.56  125.9  1088.  ]]\nTarget (missing):  [[  15.75  102.6   761.3    19.56  125.9  1088.  ]]\nOutputs (missing):  [[  16.33  107.3   865.14   19.37  127.24 1244.32]]\nInput (missing):  [[  18.81  120.9  1102.      7.93   50.41 1236.  ]]\nTarget (missing):  [[  18.81  120.9  1102.     19.96  129.   1236.  ]]\nOutputs (missing):  [[  17.97  119.92 1118.71   22.43  146.37 1574.06]]\nInput (missing):  [[  6.98  43.79 686.9   17.18 112.   185.2 ]]\nTarget (missing):  [[ 14.92  96.45 686.9   17.18 112.   906.6 ]]\nOutputs (missing):  [[ 12.41  79.68 463.41  13.66  91.07 582.87]]\nInput (missing):  [[  20.13  131.2  1261.     23.69   50.41 1731.  ]]\nTarget (missing):  [[  20.13  131.2  1261.     23.69  155.   1731.  ]]\nOutputs (missing):  [[  20.14  134.57 1312.76   24.99  167.52 1867.08]]\nInput:  [[ 13.66  89.46 575.3   15.14 101.4  708.8 ]]\nTarget:  [[ 13.66  89.46 575.3   15.14 101.4  708.8 ]]\nOutputs:  [[ 13.85  89.72 607.26  15.69 104.45 818.93]]\nInput (missing):  [[  6.98  43.79 271.2   10.85  68.73 359.4 ]]\nTarget (missing):  [[  9.4   59.6  271.2   10.85  68.73 359.4 ]]\nOutputs (missing):  [[ 10.15  64.73 262.84  10.93  69.37 255.47]]\nInput (missing):  [[   6.98  127.2  1145.     23.79  152.4  1628.  ]]\nTarget (missing):  [[  19.4   127.2  1145.     23.79  152.4  1628.  ]]\nOutputs (missing):  [[  19.31  126.92 1153.48   22.86  159.21 1658.99]]\nInput (missing):  [[ 12.58  79.83 143.5   13.5   50.41 564.1 ]]\nTarget (missing):  [[ 12.58  79.83 489.    13.5   85.56 564.1 ]]\nOutputs (missing):  [[ 12.05  78.1  464.36  13.66  87.72 565.26]]\nInput (missing):  [[  6.98  90.43 584.1   16.57 110.3  812.4 ]]\nTarget (missing):  [[ 13.8   90.43 584.1   16.57 110.3  812.4 ]]\nOutputs (missing):  [[ 14.2   91.98 645.86  16.08 108.87 865.32]]\nInput (missing):  [[  20.59   43.79 1320.     23.86   50.41 1760.  ]]\nTarget (missing):  [[  20.59  137.8  1320.     23.86  163.2  1760.  ]]\nOutputs (missing):  [[  19.06  127.34 1193.75   23.67  154.73 1713.74]]\nInput (missing):  [[ 11.27  73.38 392.    12.04  50.41 450.  ]]\nTarget (missing):  [[ 11.27  73.38 392.    12.04  79.73 450.  ]]\nOutputs (missing):  [[ 11.55  74.43 404.25  12.84  82.88 473.12]]\nInput (missing):  [[  20.58  134.7   143.5    23.24   50.41 1656.  ]]\nTarget (missing):  [[  20.58  134.7  1290.     23.24  158.3  1656.  ]]\nOutputs (missing):  [[  18.69  125.01 1188.51   23.35  153.35 1670.72]]\nInput:  [[ 11.89  76.39 433.8   13.05  85.09 522.9 ]]\nTarget:  [[ 11.89  76.39 433.8   13.05  85.09 522.9 ]]\nOutputs:  [[ 12.22  78.61 449.58  13.52  88.91 563.35]]\nInput (missing):  [[  6.98  89.59 606.5   14.91  96.53 185.2 ]]\nTarget (missing):  [[ 14.02  89.59 606.5   14.91  96.53 688.9 ]]\nOutputs (missing):  [[ 13.13  84.75 544.51  14.72  98.45 706.96]]\nInput (missing):  [[ 12.25  78.18 143.5   14.17  92.74 622.9 ]]\nTarget (missing):  [[ 12.25  78.18 466.5   14.17  92.74 622.9 ]]\nOutputs (missing):  [[ 12.63  81.59 497.13  14.2   92.64 641.67]]\nInput:  [[ 15.75 107.1  758.6   17.36 119.4  915.3 ]]\nTarget:  [[ 15.75 107.1  758.6   17.36 119.4  915.3 ]]\nOutputs:  [[  15.97  104.27  815.74   18.56  124.66 1157.23]]\nInput (missing):  [[ 16.69 107.1  857.6   19.18 127.3  185.2 ]]\nTarget (missing):  [[  16.69  107.1   857.6    19.18  127.3  1084.  ]]\nOutputs (missing):  [[  15.72  102.51  793.82   18.24  122.54 1119.97]]\nInput:  [[ 12.9   83.74 512.2   14.48  97.17 643.8 ]]\nTarget:  [[ 12.9   83.74 512.2   14.48  97.17 643.8 ]]\nOutputs:  [[ 13.27  85.77 551.48  14.92  98.95 728.4 ]]\nInput (missing):  [[  16.78  109.3   886.3     7.93  130.7  1260.  ]]\nTarget (missing):  [[  16.78  109.3   886.3    20.05  130.7  1260.  ]]\nOutputs (missing):  [[  17.21  113.21  966.09   20.63  136.82 1399.24]]\nInput (missing):  [[  18.45  120.2  1075.      7.93   50.41 1590.  ]]\nTarget (missing):  [[  18.45  120.2  1075.     22.52  145.6  1590.  ]]\nOutputs (missing):  [[  18.13  120.99 1134.21   22.6   148.16 1592.87]]\nInput (missing):  [[  16.5   106.6   143.5    18.13  117.2  1009.  ]]\nTarget (missing):  [[  16.5   106.6   838.1    18.13  117.2  1009.  ]]\nOutputs (missing):  [[  15.55  101.72  786.28   18.22  120.24 1112.45]]\nInput:  [[ 14.06  89.75 609.1   14.92  96.42 684.5 ]]\nTarget:  [[ 14.06  89.75 609.1   14.92  96.42 684.5 ]]\nOutputs:  [[ 13.86  89.84 609.37  15.73 104.42 823.29]]\nInput (missing):  [[ 11.34  43.79 391.2   12.47  50.41 478.6 ]]\nTarget (missing):  [[ 11.34  72.76 391.2   12.47  79.15 478.6 ]]\nOutputs (missing):  [[ 11.41  73.63 391.93  12.74  81.06 461.29]]\nInput (missing):  [[   6.98  182.1  2250.     33.12  220.8  3216.  ]]\nTarget (missing):  [[  27.22  182.1  2250.     33.12  220.8  3216.  ]]\nOutputs (missing):  [[  27.72  184.19 1980.38   33.92  241.72 2957.04]]\nInput:  [[  17.14  116.    912.7    22.25  152.4  1461.  ]]\nTarget:  [[  17.14  116.    912.7    22.25  152.4  1461.  ]]\nOutputs:  [[  18.58  122.01 1063.49   21.97  149.51 1559.16]]\nInput (missing):  [[ 12.    43.79 443.3   13.67  87.78 567.9 ]]\nTarget (missing):  [[ 12.    76.95 443.3   13.67  87.78 567.9 ]]\nOutputs (missing):  [[ 12.44  80.41 480.55  14.01  90.51 617.21]]\nInput:  [[  9.76  61.68 290.9   10.67  68.03 349.9 ]]\nTarget:  [[  9.76  61.68 290.9   10.67  68.03 349.9 ]]\nOutputs:  [[ 10.58  67.4  293.77  11.36  73.38 309.64]]\nInput (missing):  [[ 15.73 102.8  747.2   17.01  50.41 854.3 ]]\nTarget (missing):  [[ 15.73 102.8  747.2   17.01 112.5  854.3 ]]\nOutputs (missing):  [[  15.28  100.62  801.15   18.16  119.58 1083.98]]\nInput (missing):  [[ 11.71  74.68 143.5   13.01  84.42 521.5 ]]\nTarget (missing):  [[ 11.71  74.68 420.3   13.01  84.42 521.5 ]]\nOutputs (missing):  [[ 11.92  76.71 427.02  13.23  85.91 527.73]]\nInput:  [[ 14.58  97.41 644.8   17.62 122.4  896.9 ]]\nTarget:  [[ 14.58  97.41 644.8   17.62 122.4  896.9 ]]\nOutputs:  [[  15.37  100.13  755.66   17.73  119.07 1059.08]]\nInput (missing):  [[  9.29  59.96 257.8   10.57  50.41 326.6 ]]\nTarget (missing):  [[  9.29  59.96 257.8   10.57  67.84 326.6 ]]\nOutputs (missing):  [[ 10.15  64.78 263.19  10.95  69.16 254.13]]\nInput (missing):  [[  6.98 102.7  797.8   19.19 123.8  185.2 ]]\nTarget (missing):  [[  16.02  102.7   797.8    19.19  123.8  1150.  ]]\nOutputs (missing):  [[ 14.83  96.12 699.79  16.85 114.7  962.02]]\nInput (missing):  [[   6.98  143.7  1245.     23.37   50.41 1623.  ]]\nTarget (missing):  [[  20.18  143.7  1245.     23.37  170.3  1623.  ]]\nOutputs (missing):  [[  19.51  130.14 1287.92   24.09  165.84 1752.49]]\nInput (missing):  [[  6.98  43.79 264.     9.85  62.86 185.2 ]]\nTarget (missing):  [[  9.33  59.01 264.     9.85  62.86 295.8 ]]\nOutputs (missing):  [[  9.7   61.71 226.09  10.39  65.41 191.52]]\nInput (missing):  [[   6.98  120.3  1033.     20.6   135.1  1321.  ]]\nTarget (missing):  [[  18.22  120.3  1033.     20.6   135.1  1321.  ]]\nOutputs (missing):  [[  17.72  116.03  997.25   20.76  143.64 1413.02]]\nInput (missing):  [[ 11.61  75.46 143.5   12.64  81.93 475.7 ]]\nTarget (missing):  [[ 11.61  75.46 408.2   12.64  81.93 475.7 ]]\nOutputs (missing):  [[ 11.68  75.05 403.19  12.9   83.67 488.82]]\nTest Loss: 0.00453, Overall: 0.00514\n"
    }
   ],
   "source": [
    "# TEST THE NEURAL NETWORK\n",
    "test_result = test(net)"
   ]
  },
  {
   "cell_type": "code",
   "execution_count": 64,
   "metadata": {},
   "outputs": [],
   "source": [
    "torch.save(net, './model3')"
   ]
  },
  {
   "cell_type": "markdown",
   "metadata": {},
   "source": [
    "# The following section is for reconstructing a brand new dataset from an input dataset that has missing values.\n",
    "# This new dataset can be used in some classifiers to see if the accuracy changes."
   ]
  },
  {
   "cell_type": "code",
   "execution_count": 130,
   "metadata": {},
   "outputs": [
    {
     "data": {
      "text/plain": "Autoencoder(\n  (enc1): Linear(in_features=6, out_features=8, bias=True)\n  (enc2): Linear(in_features=8, out_features=16, bias=True)\n  (dec2): Linear(in_features=16, out_features=8, bias=True)\n  (dec3): Linear(in_features=8, out_features=6, bias=True)\n)"
     },
     "execution_count": 130,
     "metadata": {},
     "output_type": "execute_result"
    }
   ],
   "source": [
    "my_model = torch.load('model3')\n",
    "my_model"
   ]
  },
  {
   "cell_type": "code",
   "execution_count": 131,
   "metadata": {},
   "outputs": [],
   "source": [
    "predicted_set = my_model(x_test.double())\n",
    "predicted_set = scaler.inverse_transform(predicted_set.detach().numpy())\n",
    "\n",
    "x_test_inverse = scaler.inverse_transform(x_test.detach().numpy())\n",
    "y_test_inverse = scaler.inverse_transform(y_test.detach().numpy())"
   ]
  },
  {
   "cell_type": "code",
   "execution_count": 132,
   "metadata": {},
   "outputs": [],
   "source": [
    "real_values = []\n",
    "predicted_values = []\n",
    "x_values = []\n",
    "\n",
    "for missing_data, full_data, predicted in zip(x_test, y_test_inverse, predicted_set):\n",
    "    if NAN in missing_data:\n",
    "        for i in range(len(missing_data)):\n",
    "            if missing_data[i] == NAN:\n",
    "                x_values.append(full_data[0].item())\n",
    "                real_values.append(full_data[i].item())\n",
    "                predicted_values.append(predicted[i].item())"
   ]
  },
  {
   "cell_type": "code",
   "execution_count": 133,
   "metadata": {},
   "outputs": [
    {
     "data": {
      "text/plain": "<matplotlib.collections.PathCollection at 0x20a41cdf4e0>"
     },
     "execution_count": 133,
     "metadata": {},
     "output_type": "execute_result"
    },
    {
     "data": {
      "image/png": "[encoded data removed]",
      "image/svg+xml": "<?xml version=\"1.0\" encoding=\"utf-8\" standalone=\"no\"?>\r\n<!DOCTYPE svg PUBLIC \"-//W3C//DTD SVG 1.1//EN\"\r\n  \"http://www.w3.org/Graphics/SVG/1.1/DTD/svg11.dtd\">\r\n<!-- Created with matplotlib (https://matplotlib.org/) -->\r\n<svg height=\"248.518125pt\" version=\"1.1\" viewBox=\"0 0 381.65 248.518125\" width=\"381.65pt\" xmlns=\"http://www.w3.org/2000/svg\" xmlns:xlink=\"http://www.w3.org/1999/xlink\">\r\n <defs>\r\n  <style type=\"text/css\">\r\n*{stroke-linecap:butt;stroke-linejoin:round;}\r\n  </style>\r\n </defs>\r\n <g id=\"figure_1\">\r\n  <g id=\"patch_1\">\r\n   <path d=\"M -0 248.518125 \r\nL 381.65 248.518125 \r\nL 381.65 0 \r\nL -0 0 \r\nz\r\n\" style=\"fill:none;\"/>\r\n  </g>\r\n  <g id=\"axes_1\">\r\n   <g id=\"patch_2\">\r\n    <path d=\"M 39.65 224.64 \r\nL 374.45 224.64 \r\nL 374.45 7.2 \r\nL 39.65 7.2 \r\nz\r\n\" style=\"fill:#ffffff;\"/>\r\n   </g>\r\n   <g id=\"PathCollection_1\">\r\n    <defs>\r\n     <path d=\"M 0 3 \r\nC 0.795609 3 1.55874 2.683901 2.12132 2.12132 \r\nC 2.683901 1.55874 3 0.795609 3 0 \r\nC 3 -0.795609 2.683901 -1.55874 2.12132 -2.12132 \r\nC 1.55874 -2.683901 0.795609 -3 0 -3 \r\nC -0.795609 -3 -1.55874 -2.683901 -2.12132 -2.12132 \r\nC -2.683901 -1.55874 -3 -0.795609 -3 0 \r\nC -3 0.795609 -2.683901 1.55874 -2.12132 2.12132 \r\nC -1.55874 2.683901 -0.795609 3 0 3 \r\nz\r\n\" id=\"mca35c5a76d\" style=\"stroke:#0000ff;\"/>\r\n    </defs>\r\n    <g clip-path=\"url(#pea0484ea92)\">\r\n     <use style=\"fill:#0000ff;stroke:#0000ff;\" x=\"121.176542\" xlink:href=\"#mca35c5a76d\" y=\"181.637002\"/>\r\n     <use style=\"fill:#0000ff;stroke:#0000ff;\" x=\"55.14455\" xlink:href=\"#mca35c5a76d\" y=\"214.548908\"/>\r\n     <use style=\"fill:#0000ff;stroke:#0000ff;\" x=\"106.509551\" xlink:href=\"#mca35c5a76d\" y=\"187.695504\"/>\r\n     <use style=\"fill:#0000ff;stroke:#0000ff;\" x=\"55.301057\" xlink:href=\"#mca35c5a76d\" y=\"214.365242\"/>\r\n     <use style=\"fill:#0000ff;stroke:#0000ff;\" x=\"64.607082\" xlink:href=\"#mca35c5a76d\" y=\"209.254652\"/>\r\n     <use style=\"fill:#0000ff;stroke:#0000ff;\" x=\"66.355061\" xlink:href=\"#mca35c5a76d\" y=\"207.824771\"/>\r\n     <use style=\"fill:#0000ff;stroke:#0000ff;\" x=\"55.090864\" xlink:href=\"#mca35c5a76d\" y=\"214.543361\"/>\r\n     <use style=\"fill:#0000ff;stroke:#0000ff;\" x=\"118.815457\" xlink:href=\"#mca35c5a76d\" y=\"181.692471\"/>\r\n     <use style=\"fill:#0000ff;stroke:#0000ff;\" x=\"213.56877\" xlink:href=\"#mca35c5a76d\" y=\"127.837746\"/>\r\n     <use style=\"fill:#0000ff;stroke:#0000ff;\" x=\"56.739792\" xlink:href=\"#mca35c5a76d\" y=\"213.292215\"/>\r\n     <use style=\"fill:#0000ff;stroke:#0000ff;\" x=\"66.73494\" xlink:href=\"#mca35c5a76d\" y=\"209.651567\"/>\r\n     <use style=\"fill:#0000ff;stroke:#0000ff;\" x=\"66.47193\" xlink:href=\"#mca35c5a76d\" y=\"209.112896\"/>\r\n     <use style=\"fill:#0000ff;stroke:#0000ff;\" x=\"55.536281\" xlink:href=\"#mca35c5a76d\" y=\"214.390511\"/>\r\n     <use style=\"fill:#0000ff;stroke:#0000ff;\" x=\"55.196587\" xlink:href=\"#mca35c5a76d\" y=\"214.384964\"/>\r\n     <use style=\"fill:#0000ff;stroke:#0000ff;\" x=\"63.881524\" xlink:href=\"#mca35c5a76d\" y=\"209.447562\"/>\r\n     <use style=\"fill:#0000ff;stroke:#0000ff;\" x=\"124.9864\" xlink:href=\"#mca35c5a76d\" y=\"174.080823\"/>\r\n     <use style=\"fill:#0000ff;stroke:#0000ff;\" x=\"65.349826\" xlink:href=\"#mca35c5a76d\" y=\"208.256201\"/>\r\n     <use style=\"fill:#0000ff;stroke:#0000ff;\" x=\"55.832756\" xlink:href=\"#mca35c5a76d\" y=\"214.185891\"/>\r\n     <use style=\"fill:#0000ff;stroke:#0000ff;\" x=\"71.966802\" xlink:href=\"#mca35c5a76d\" y=\"203.917253\"/>\r\n     <use style=\"fill:#0000ff;stroke:#0000ff;\" x=\"55.177877\" xlink:href=\"#mca35c5a76d\" y=\"214.50823\"/>\r\n     <use style=\"fill:#0000ff;stroke:#0000ff;\" x=\"55.380498\" xlink:href=\"#mca35c5a76d\" y=\"214.465087\"/>\r\n     <use style=\"fill:#0000ff;stroke:#0000ff;\" x=\"99.060365\" xlink:href=\"#mca35c5a76d\" y=\"190.425837\"/>\r\n     <use style=\"fill:#0000ff;stroke:#0000ff;\" x=\"107.160818\" xlink:href=\"#mca35c5a76d\" y=\"186.068399\"/>\r\n     <use style=\"fill:#0000ff;stroke:#0000ff;\" x=\"55.134095\" xlink:href=\"#mca35c5a76d\" y=\"214.53843\"/>\r\n     <use style=\"fill:#0000ff;stroke:#0000ff;\" x=\"63.345034\" xlink:href=\"#mca35c5a76d\" y=\"210.529218\"/>\r\n     <use style=\"fill:#0000ff;stroke:#0000ff;\" x=\"92.820407\" xlink:href=\"#mca35c5a76d\" y=\"191.553717\"/>\r\n     <use style=\"fill:#0000ff;stroke:#0000ff;\" x=\"88.991034\" xlink:href=\"#mca35c5a76d\" y=\"195.270173\"/>\r\n     <use style=\"fill:#0000ff;stroke:#0000ff;\" x=\"55.018027\" xlink:href=\"#mca35c5a76d\" y=\"214.601296\"/>\r\n     <use style=\"fill:#0000ff;stroke:#0000ff;\" x=\"55.466049\" xlink:href=\"#mca35c5a76d\" y=\"214.360928\"/>\r\n     <use style=\"fill:#0000ff;stroke:#0000ff;\" x=\"142.953075\" xlink:href=\"#mca35c5a76d\" y=\"172.225676\"/>\r\n     <use style=\"fill:#0000ff;stroke:#0000ff;\" x=\"55.18924\" xlink:href=\"#mca35c5a76d\" y=\"214.457075\"/>\r\n     <use style=\"fill:#0000ff;stroke:#0000ff;\" x=\"134.735786\" xlink:href=\"#mca35c5a76d\" y=\"174.524579\"/>\r\n     <use style=\"fill:#0000ff;stroke:#0000ff;\" x=\"64.265855\" xlink:href=\"#mca35c5a76d\" y=\"210.11258\"/>\r\n     <use style=\"fill:#0000ff;stroke:#0000ff;\" x=\"62.691092\" xlink:href=\"#mca35c5a76d\" y=\"210.939076\"/>\r\n     <use style=\"fill:#0000ff;stroke:#0000ff;\" x=\"102.180062\" xlink:href=\"#mca35c5a76d\" y=\"192.324126\"/>\r\n     <use style=\"fill:#0000ff;stroke:#0000ff;\" x=\"55.327997\" xlink:href=\"#mca35c5a76d\" y=\"214.455842\"/>\r\n     <use style=\"fill:#0000ff;stroke:#0000ff;\" x=\"64.477206\" xlink:href=\"#mca35c5a76d\" y=\"209.919053\"/>\r\n     <use style=\"fill:#0000ff;stroke:#0000ff;\" x=\"109.277064\" xlink:href=\"#mca35c5a76d\" y=\"186.530645\"/>\r\n     <use style=\"fill:#0000ff;stroke:#0000ff;\" x=\"55.786617\" xlink:href=\"#mca35c5a76d\" y=\"214.303609\"/>\r\n     <use style=\"fill:#0000ff;stroke:#0000ff;\" x=\"102.025293\" xlink:href=\"#mca35c5a76d\" y=\"181.637002\"/>\r\n     <use style=\"fill:#0000ff;stroke:#0000ff;\" x=\"63.600434\" xlink:href=\"#mca35c5a76d\" y=\"209.566514\"/>\r\n     <use style=\"fill:#0000ff;stroke:#0000ff;\" x=\"111.089852\" xlink:href=\"#mca35c5a76d\" y=\"177.00838\"/>\r\n     <use style=\"fill:#0000ff;stroke:#0000ff;\" x=\"63.003793\" xlink:href=\"#mca35c5a76d\" y=\"210.738153\"/>\r\n     <use style=\"fill:#0000ff;stroke:#0000ff;\" x=\"62.339131\" xlink:href=\"#mca35c5a76d\" y=\"210.245707\"/>\r\n     <use style=\"fill:#0000ff;stroke:#0000ff;\" x=\"63.085916\" xlink:href=\"#mca35c5a76d\" y=\"209.808114\"/>\r\n     <use style=\"fill:#0000ff;stroke:#0000ff;\" x=\"103.806333\" xlink:href=\"#mca35c5a76d\" y=\"181.556879\"/>\r\n     <use style=\"fill:#0000ff;stroke:#0000ff;\" x=\"66.450429\" xlink:href=\"#mca35c5a76d\" y=\"208.151425\"/>\r\n     <use style=\"fill:#0000ff;stroke:#0000ff;\" x=\"155.609209\" xlink:href=\"#mca35c5a76d\" y=\"154.364496\"/>\r\n     <use style=\"fill:#0000ff;stroke:#0000ff;\" x=\"55.994758\" xlink:href=\"#mca35c5a76d\" y=\"213.990515\"/>\r\n     <use style=\"fill:#0000ff;stroke:#0000ff;\" x=\"258.889671\" xlink:href=\"#mca35c5a76d\" y=\"54.124939\"/>\r\n     <use style=\"fill:#0000ff;stroke:#0000ff;\" x=\"121.332902\" xlink:href=\"#mca35c5a76d\" y=\"178.290342\"/>\r\n     <use style=\"fill:#0000ff;stroke:#0000ff;\" x=\"65.350913\" xlink:href=\"#mca35c5a76d\" y=\"209.11906\"/>\r\n     <use style=\"fill:#0000ff;stroke:#0000ff;\" x=\"63.948716\" xlink:href=\"#mca35c5a76d\" y=\"210.185923\"/>\r\n     <use style=\"fill:#0000ff;stroke:#0000ff;\" x=\"61.833506\" xlink:href=\"#mca35c5a76d\" y=\"211.438917\"/>\r\n     <use style=\"fill:#0000ff;stroke:#0000ff;\" x=\"61.657813\" xlink:href=\"#mca35c5a76d\" y=\"211.583755\"/>\r\n     <use style=\"fill:#0000ff;stroke:#0000ff;\" x=\"55.452792\" xlink:href=\"#mca35c5a76d\" y=\"214.421944\"/>\r\n     <use style=\"fill:#0000ff;stroke:#0000ff;\" x=\"64.776298\" xlink:href=\"#mca35c5a76d\" y=\"209.406268\"/>\r\n     <use style=\"fill:#0000ff;stroke:#0000ff;\" x=\"132.383738\" xlink:href=\"#mca35c5a76d\" y=\"172.225676\"/>\r\n     <use style=\"fill:#0000ff;stroke:#0000ff;\" x=\"66.91916\" xlink:href=\"#mca35c5a76d\" y=\"208.490405\"/>\r\n     <use style=\"fill:#0000ff;stroke:#0000ff;\" x=\"63.468745\" xlink:href=\"#mca35c5a76d\" y=\"210.387462\"/>\r\n     <use style=\"fill:#0000ff;stroke:#0000ff;\" x=\"292.420886\" xlink:href=\"#mca35c5a76d\" y=\"21.582829\"/>\r\n     <use style=\"fill:#0000ff;stroke:#0000ff;\" x=\"54.868182\" xlink:href=\"#mca35c5a76d\" y=\"214.734299\"/>\r\n     <use style=\"fill:#0000ff;stroke:#0000ff;\" x=\"56.625816\" xlink:href=\"#mca35c5a76d\" y=\"213.801918\"/>\r\n     <use style=\"fill:#0000ff;stroke:#0000ff;\" x=\"110.799581\" xlink:href=\"#mca35c5a76d\" y=\"188.262526\"/>\r\n     <use style=\"fill:#0000ff;stroke:#0000ff;\" x=\"54.949687\" xlink:href=\"#mca35c5a76d\" y=\"214.643206\"/>\r\n     <use style=\"fill:#0000ff;stroke:#0000ff;\" x=\"62.897125\" xlink:href=\"#mca35c5a76d\" y=\"211.020431\"/>\r\n     <use style=\"fill:#0000ff;stroke:#0000ff;\" x=\"89.635288\" xlink:href=\"#mca35c5a76d\" y=\"196.083726\"/>\r\n     <use style=\"fill:#0000ff;stroke:#0000ff;\" x=\"55.839087\" xlink:href=\"#mca35c5a76d\" y=\"214.107617\"/>\r\n     <use style=\"fill:#0000ff;stroke:#0000ff;\" x=\"67.951547\" xlink:href=\"#mca35c5a76d\" y=\"207.59673\"/>\r\n     <use style=\"fill:#0000ff;stroke:#0000ff;\" x=\"54.876387\" xlink:href=\"#mca35c5a76d\" y=\"214.756364\"/>\r\n     <use style=\"fill:#0000ff;stroke:#0000ff;\" x=\"63.01141\" xlink:href=\"#mca35c5a76d\" y=\"210.759108\"/>\r\n     <use style=\"fill:#0000ff;stroke:#0000ff;\" x=\"64.6524\" xlink:href=\"#mca35c5a76d\" y=\"209.878375\"/>\r\n     <use style=\"fill:#0000ff;stroke:#0000ff;\" x=\"64.539968\" xlink:href=\"#mca35c5a76d\" y=\"209.679302\"/>\r\n     <use style=\"fill:#0000ff;stroke:#0000ff;\" x=\"55.372377\" xlink:href=\"#mca35c5a76d\" y=\"214.513161\"/>\r\n     <use style=\"fill:#0000ff;stroke:#0000ff;\" x=\"125.499707\" xlink:href=\"#mca35c5a76d\" y=\"179.966754\"/>\r\n     <use style=\"fill:#0000ff;stroke:#0000ff;\" x=\"55.271992\" xlink:href=\"#mca35c5a76d\" y=\"214.37572\"/>\r\n     <use style=\"fill:#0000ff;stroke:#0000ff;\" x=\"120.648001\" xlink:href=\"#mca35c5a76d\" y=\"180.305734\"/>\r\n     <use style=\"fill:#0000ff;stroke:#0000ff;\" x=\"104.444741\" xlink:href=\"#mca35c5a76d\" y=\"188.009832\"/>\r\n     <use style=\"fill:#0000ff;stroke:#0000ff;\" x=\"115.914274\" xlink:href=\"#mca35c5a76d\" y=\"178.962139\"/>\r\n     <use style=\"fill:#0000ff;stroke:#0000ff;\" x=\"63.786822\" xlink:href=\"#mca35c5a76d\" y=\"210.280838\"/>\r\n     <use style=\"fill:#0000ff;stroke:#0000ff;\" x=\"54.949423\" xlink:href=\"#mca35c5a76d\" y=\"214.648136\"/>\r\n     <use style=\"fill:#0000ff;stroke:#0000ff;\" x=\"62.893776\" xlink:href=\"#mca35c5a76d\" y=\"210.933529\"/>\r\n     <use style=\"fill:#0000ff;stroke:#0000ff;\" x=\"78.058577\" xlink:href=\"#mca35c5a76d\" y=\"204.145294\"/>\r\n     <use style=\"fill:#0000ff;stroke:#0000ff;\" x=\"55.35001\" xlink:href=\"#mca35c5a76d\" y=\"214.373254\"/>\r\n     <use style=\"fill:#0000ff;stroke:#0000ff;\" x=\"67.047142\" xlink:href=\"#mca35c5a76d\" y=\"208.693793\"/>\r\n     <use style=\"fill:#0000ff;stroke:#0000ff;\" x=\"55.269009\" xlink:href=\"#mca35c5a76d\" y=\"214.419479\"/>\r\n     <use style=\"fill:#0000ff;stroke:#0000ff;\" x=\"146.347236\" xlink:href=\"#mca35c5a76d\" y=\"164.231904\"/>\r\n     <use style=\"fill:#0000ff;stroke:#0000ff;\" x=\"55.221136\" xlink:href=\"#mca35c5a76d\" y=\"214.476181\"/>\r\n     <use style=\"fill:#0000ff;stroke:#0000ff;\" x=\"114.521791\" xlink:href=\"#mca35c5a76d\" y=\"181.85888\"/>\r\n     <use style=\"fill:#0000ff;stroke:#0000ff;\" x=\"192.805451\" xlink:href=\"#mca35c5a76d\" y=\"154.611027\"/>\r\n     <use style=\"fill:#0000ff;stroke:#0000ff;\" x=\"71.523297\" xlink:href=\"#mca35c5a76d\" y=\"206.733871\"/>\r\n     <use style=\"fill:#0000ff;stroke:#0000ff;\" x=\"64.48262\" xlink:href=\"#mca35c5a76d\" y=\"209.885771\"/>\r\n     <use style=\"fill:#0000ff;stroke:#0000ff;\" x=\"64.057855\" xlink:href=\"#mca35c5a76d\" y=\"209.376068\"/>\r\n     <use style=\"fill:#0000ff;stroke:#0000ff;\" x=\"143.362062\" xlink:href=\"#mca35c5a76d\" y=\"168.00383\"/>\r\n     <use style=\"fill:#0000ff;stroke:#0000ff;\" x=\"66.118842\" xlink:href=\"#mca35c5a76d\" y=\"209.008121\"/>\r\n     <use style=\"fill:#0000ff;stroke:#0000ff;\" x=\"62.842628\" xlink:href=\"#mca35c5a76d\" y=\"210.974206\"/>\r\n     <use style=\"fill:#0000ff;stroke:#0000ff;\" x=\"173.118627\" xlink:href=\"#mca35c5a76d\" y=\"143.245942\"/>\r\n     <use style=\"fill:#0000ff;stroke:#0000ff;\" x=\"226.931756\" xlink:href=\"#mca35c5a76d\" y=\"93.754818\"/>\r\n     <use style=\"fill:#0000ff;stroke:#0000ff;\" x=\"237.017982\" xlink:href=\"#mca35c5a76d\" y=\"78.778051\"/>\r\n     <use style=\"fill:#0000ff;stroke:#0000ff;\" x=\"65.513484\" xlink:href=\"#mca35c5a76d\" y=\"209.33724\"/>\r\n     <use style=\"fill:#0000ff;stroke:#0000ff;\" x=\"115.132071\" xlink:href=\"#mca35c5a76d\" y=\"182.851168\"/>\r\n     <use style=\"fill:#0000ff;stroke:#0000ff;\" x=\"62.415994\" xlink:href=\"#mca35c5a76d\" y=\"210.426291\"/>\r\n     <use style=\"fill:#0000ff;stroke:#0000ff;\" x=\"55.146058\" xlink:href=\"#mca35c5a76d\" y=\"214.44783\"/>\r\n     <use style=\"fill:#0000ff;stroke:#0000ff;\" x=\"55.014872\" xlink:href=\"#mca35c5a76d\" y=\"214.521789\"/>\r\n     <use style=\"fill:#0000ff;stroke:#0000ff;\" x=\"62.392453\" xlink:href=\"#mca35c5a76d\" y=\"210.287001\"/>\r\n     <use style=\"fill:#0000ff;stroke:#0000ff;\" x=\"104.864069\" xlink:href=\"#mca35c5a76d\" y=\"181.273369\"/>\r\n     <use style=\"fill:#0000ff;stroke:#0000ff;\" x=\"55.125295\" xlink:href=\"#mca35c5a76d\" y=\"214.558153\"/>\r\n     <use style=\"fill:#0000ff;stroke:#0000ff;\" x=\"63.123577\" xlink:href=\"#mca35c5a76d\" y=\"210.50025\"/>\r\n     <use style=\"fill:#0000ff;stroke:#0000ff;\" x=\"65.503992\" xlink:href=\"#mca35c5a76d\" y=\"209.241092\"/>\r\n     <use style=\"fill:#0000ff;stroke:#0000ff;\" x=\"64.544826\" xlink:href=\"#mca35c5a76d\" y=\"209.668208\"/>\r\n     <use style=\"fill:#0000ff;stroke:#0000ff;\" x=\"125.101089\" xlink:href=\"#mca35c5a76d\" y=\"176.287276\"/>\r\n     <use style=\"fill:#0000ff;stroke:#0000ff;\" x=\"62.371629\" xlink:href=\"#mca35c5a76d\" y=\"210.923667\"/>\r\n     <use style=\"fill:#0000ff;stroke:#0000ff;\" x=\"63.204487\" xlink:href=\"#mca35c5a76d\" y=\"210.368356\"/>\r\n     <use style=\"fill:#0000ff;stroke:#0000ff;\" x=\"68.361685\" xlink:href=\"#mca35c5a76d\" y=\"208.527385\"/>\r\n     <use style=\"fill:#0000ff;stroke:#0000ff;\" x=\"137.504138\" xlink:href=\"#mca35c5a76d\" y=\"173.174821\"/>\r\n     <use style=\"fill:#0000ff;stroke:#0000ff;\" x=\"55.915532\" xlink:href=\"#mca35c5a76d\" y=\"214.089127\"/>\r\n     <use style=\"fill:#0000ff;stroke:#0000ff;\" x=\"156.477915\" xlink:href=\"#mca35c5a76d\" y=\"147.375338\"/>\r\n     <use style=\"fill:#0000ff;stroke:#0000ff;\" x=\"55.963541\" xlink:href=\"#mca35c5a76d\" y=\"214.064474\"/>\r\n     <use style=\"fill:#0000ff;stroke:#0000ff;\" x=\"55.430689\" xlink:href=\"#mca35c5a76d\" y=\"214.375103\"/>\r\n     <use style=\"fill:#0000ff;stroke:#0000ff;\" x=\"119.481661\" xlink:href=\"#mca35c5a76d\" y=\"179.837325\"/>\r\n     <use style=\"fill:#0000ff;stroke:#0000ff;\" x=\"65.185064\" xlink:href=\"#mca35c5a76d\" y=\"209.0451\"/>\r\n     <use style=\"fill:#0000ff;stroke:#0000ff;\" x=\"228.913616\" xlink:href=\"#mca35c5a76d\" y=\"114.956495\"/>\r\n     <use style=\"fill:#0000ff;stroke:#0000ff;\" x=\"122.130694\" xlink:href=\"#mca35c5a76d\" y=\"180.527612\"/>\r\n     <use style=\"fill:#0000ff;stroke:#0000ff;\" x=\"121.694838\" xlink:href=\"#mca35c5a76d\" y=\"179.294956\"/>\r\n     <use style=\"fill:#0000ff;stroke:#0000ff;\" x=\"55.470522\" xlink:href=\"#mca35c5a76d\" y=\"214.273409\"/>\r\n     <use style=\"fill:#0000ff;stroke:#0000ff;\" x=\"249.841974\" xlink:href=\"#mca35c5a76d\" y=\"106.820967\"/>\r\n     <use style=\"fill:#0000ff;stroke:#0000ff;\" x=\"63.653869\" xlink:href=\"#mca35c5a76d\" y=\"210.380683\"/>\r\n     <use style=\"fill:#0000ff;stroke:#0000ff;\" x=\"63.631687\" xlink:href=\"#mca35c5a76d\" y=\"210.050331\"/>\r\n     <use style=\"fill:#0000ff;stroke:#0000ff;\" x=\"110.563884\" xlink:href=\"#mca35c5a76d\" y=\"183.066882\"/>\r\n     <use style=\"fill:#0000ff;stroke:#0000ff;\" x=\"145.236474\" xlink:href=\"#mca35c5a76d\" y=\"168.540036\"/>\r\n     <use style=\"fill:#0000ff;stroke:#0000ff;\" x=\"69.149866\" xlink:href=\"#mca35c5a76d\" y=\"207.448811\"/>\r\n     <use style=\"fill:#0000ff;stroke:#0000ff;\" x=\"68.116661\" xlink:href=\"#mca35c5a76d\" y=\"207.886404\"/>\r\n     <use style=\"fill:#0000ff;stroke:#0000ff;\" x=\"70.929912\" xlink:href=\"#mca35c5a76d\" y=\"206.320931\"/>\r\n     <use style=\"fill:#0000ff;stroke:#0000ff;\" x=\"55.851408\" xlink:href=\"#mca35c5a76d\" y=\"214.177262\"/>\r\n     <use style=\"fill:#0000ff;stroke:#0000ff;\" x=\"187.60754\" xlink:href=\"#mca35c5a76d\" y=\"153.107187\"/>\r\n     <use style=\"fill:#0000ff;stroke:#0000ff;\" x=\"55.58701\" xlink:href=\"#mca35c5a76d\" y=\"214.375103\"/>\r\n     <use style=\"fill:#0000ff;stroke:#0000ff;\" x=\"359.231818\" xlink:href=\"#mca35c5a76d\" y=\"17.083636\"/>\r\n     <use style=\"fill:#0000ff;stroke:#0000ff;\" x=\"55.649016\" xlink:href=\"#mca35c5a76d\" y=\"214.238278\"/>\r\n     <use style=\"fill:#0000ff;stroke:#0000ff;\" x=\"70.104329\" xlink:href=\"#mca35c5a76d\" y=\"205.901828\"/>\r\n     <use style=\"fill:#0000ff;stroke:#0000ff;\" x=\"55.144738\" xlink:href=\"#mca35c5a76d\" y=\"214.555071\"/>\r\n     <use style=\"fill:#0000ff;stroke:#0000ff;\" x=\"55.367059\" xlink:href=\"#mca35c5a76d\" y=\"214.325181\"/>\r\n     <use style=\"fill:#0000ff;stroke:#0000ff;\" x=\"55.650966\" xlink:href=\"#mca35c5a76d\" y=\"214.246291\"/>\r\n     <use style=\"fill:#0000ff;stroke:#0000ff;\" x=\"163.889936\" xlink:href=\"#mca35c5a76d\" y=\"162.641778\"/>\r\n     <use style=\"fill:#0000ff;stroke:#0000ff;\" x=\"114.581383\" xlink:href=\"#mca35c5a76d\" y=\"183.153168\"/>\r\n     <use style=\"fill:#0000ff;stroke:#0000ff;\" x=\"67.368412\" xlink:href=\"#mca35c5a76d\" y=\"207.750812\"/>\r\n     <use style=\"fill:#0000ff;stroke:#0000ff;\" x=\"54.982801\" xlink:href=\"#mca35c5a76d\" y=\"214.643206\"/>\r\n     <use style=\"fill:#0000ff;stroke:#0000ff;\" x=\"55.486953\" xlink:href=\"#mca35c5a76d\" y=\"214.307307\"/>\r\n     <use style=\"fill:#0000ff;stroke:#0000ff;\" x=\"65.659922\" xlink:href=\"#mca35c5a76d\" y=\"208.964978\"/>\r\n     <use style=\"fill:#0000ff;stroke:#0000ff;\" x=\"55.818336\" xlink:href=\"#mca35c5a76d\" y=\"214.050915\"/>\r\n     <use style=\"fill:#0000ff;stroke:#0000ff;\" x=\"67.929186\" xlink:href=\"#mca35c5a76d\" y=\"206.438034\"/>\r\n     <use style=\"fill:#0000ff;stroke:#0000ff;\" x=\"177.757002\" xlink:href=\"#mca35c5a76d\" y=\"138.56185\"/>\r\n     <use style=\"fill:#0000ff;stroke:#0000ff;\" x=\"82.914424\" xlink:href=\"#mca35c5a76d\" y=\"197.063687\"/>\r\n     <use style=\"fill:#0000ff;stroke:#0000ff;\" x=\"55.269811\" xlink:href=\"#mca35c5a76d\" y=\"214.515626\"/>\r\n    </g>\r\n   </g>\r\n   <g id=\"matplotlib.axis_1\">\r\n    <g id=\"xtick_1\">\r\n     <g id=\"line2d_1\">\r\n      <defs>\r\n       <path d=\"M 0 0 \r\nL 0 3.5 \r\n\" id=\"mba636fb921\" style=\"stroke:#000000;stroke-width:0.8;\"/>\r\n      </defs>\r\n      <g>\r\n       <use style=\"stroke:#000000;stroke-width:0.8;\" x=\"53.648377\" xlink:href=\"#mba636fb921\" y=\"224.64\"/>\r\n      </g>\r\n     </g>\r\n     <g id=\"text_1\">\r\n      <!-- 0 -->\r\n      <defs>\r\n       <path d=\"M 31.78125 66.40625 \r\nQ 24.171875 66.40625 20.328125 58.90625 \r\nQ 16.5 51.421875 16.5 36.375 \r\nQ 16.5 21.390625 20.328125 13.890625 \r\nQ 24.171875 6.390625 31.78125 6.390625 \r\nQ 39.453125 6.390625 43.28125 13.890625 \r\nQ 47.125 21.390625 47.125 36.375 \r\nQ 47.125 51.421875 43.28125 58.90625 \r\nQ 39.453125 66.40625 31.78125 66.40625 \r\nz\r\nM 31.78125 74.21875 \r\nQ 44.046875 74.21875 50.515625 64.515625 \r\nQ 56.984375 54.828125 56.984375 36.375 \r\nQ 56.984375 17.96875 50.515625 8.265625 \r\nQ 44.046875 -1.421875 31.78125 -1.421875 \r\nQ 19.53125 -1.421875 13.0625 8.265625 \r\nQ 6.59375 17.96875 6.59375 36.375 \r\nQ 6.59375 54.828125 13.0625 64.515625 \r\nQ 19.53125 74.21875 31.78125 74.21875 \r\nz\r\n\" id=\"DejaVuSans-48\"/>\r\n      </defs>\r\n      <g transform=\"translate(50.467127 239.238437)scale(0.1 -0.1)\">\r\n       <use xlink:href=\"#DejaVuSans-48\"/>\r\n      </g>\r\n     </g>\r\n    </g>\r\n    <g id=\"xtick_2\">\r\n     <g id=\"line2d_2\">\r\n      <g>\r\n       <use style=\"stroke:#000000;stroke-width:0.8;\" x=\"114.45536\" xlink:href=\"#mba636fb921\" y=\"224.64\"/>\r\n      </g>\r\n     </g>\r\n     <g id=\"text_2\">\r\n      <!-- 500 -->\r\n      <defs>\r\n       <path d=\"M 10.796875 72.90625 \r\nL 49.515625 72.90625 \r\nL 49.515625 64.59375 \r\nL 19.828125 64.59375 \r\nL 19.828125 46.734375 \r\nQ 21.96875 47.46875 24.109375 47.828125 \r\nQ 26.265625 48.1875 28.421875 48.1875 \r\nQ 40.625 48.1875 47.75 41.5 \r\nQ 54.890625 34.8125 54.890625 23.390625 \r\nQ 54.890625 11.625 47.5625 5.09375 \r\nQ 40.234375 -1.421875 26.90625 -1.421875 \r\nQ 22.3125 -1.421875 17.546875 -0.640625 \r\nQ 12.796875 0.140625 7.71875 1.703125 \r\nL 7.71875 11.625 \r\nQ 12.109375 9.234375 16.796875 8.0625 \r\nQ 21.484375 6.890625 26.703125 6.890625 \r\nQ 35.15625 6.890625 40.078125 11.328125 \r\nQ 45.015625 15.765625 45.015625 23.390625 \r\nQ 45.015625 31 40.078125 35.4375 \r\nQ 35.15625 39.890625 26.703125 39.890625 \r\nQ 22.75 39.890625 18.8125 39.015625 \r\nQ 14.890625 38.140625 10.796875 36.28125 \r\nz\r\n\" id=\"DejaVuSans-53\"/>\r\n      </defs>\r\n      <g transform=\"translate(104.91161 239.238437)scale(0.1 -0.1)\">\r\n       <use xlink:href=\"#DejaVuSans-53\"/>\r\n       <use x=\"63.623047\" xlink:href=\"#DejaVuSans-48\"/>\r\n       <use x=\"127.246094\" xlink:href=\"#DejaVuSans-48\"/>\r\n      </g>\r\n     </g>\r\n    </g>\r\n    <g id=\"xtick_3\">\r\n     <g id=\"line2d_3\">\r\n      <g>\r\n       <use style=\"stroke:#000000;stroke-width:0.8;\" x=\"175.262342\" xlink:href=\"#mba636fb921\" y=\"224.64\"/>\r\n      </g>\r\n     </g>\r\n     <g id=\"text_3\">\r\n      <!-- 1000 -->\r\n      <defs>\r\n       <path d=\"M 12.40625 8.296875 \r\nL 28.515625 8.296875 \r\nL 28.515625 63.921875 \r\nL 10.984375 60.40625 \r\nL 10.984375 69.390625 \r\nL 28.421875 72.90625 \r\nL 38.28125 72.90625 \r\nL 38.28125 8.296875 \r\nL 54.390625 8.296875 \r\nL 54.390625 0 \r\nL 12.40625 0 \r\nz\r\n\" id=\"DejaVuSans-49\"/>\r\n      </defs>\r\n      <g transform=\"translate(162.537342 239.238437)scale(0.1 -0.1)\">\r\n       <use xlink:href=\"#DejaVuSans-49\"/>\r\n       <use x=\"63.623047\" xlink:href=\"#DejaVuSans-48\"/>\r\n       <use x=\"127.246094\" xlink:href=\"#DejaVuSans-48\"/>\r\n       <use x=\"190.869141\" xlink:href=\"#DejaVuSans-48\"/>\r\n      </g>\r\n     </g>\r\n    </g>\r\n    <g id=\"xtick_4\">\r\n     <g id=\"line2d_4\">\r\n      <g>\r\n       <use style=\"stroke:#000000;stroke-width:0.8;\" x=\"236.069325\" xlink:href=\"#mba636fb921\" y=\"224.64\"/>\r\n      </g>\r\n     </g>\r\n     <g id=\"text_4\">\r\n      <!-- 1500 -->\r\n      <g transform=\"translate(223.344325 239.238437)scale(0.1 -0.1)\">\r\n       <use xlink:href=\"#DejaVuSans-49\"/>\r\n       <use x=\"63.623047\" xlink:href=\"#DejaVuSans-53\"/>\r\n       <use x=\"127.246094\" xlink:href=\"#DejaVuSans-48\"/>\r\n       <use x=\"190.869141\" xlink:href=\"#DejaVuSans-48\"/>\r\n      </g>\r\n     </g>\r\n    </g>\r\n    <g id=\"xtick_5\">\r\n     <g id=\"line2d_5\">\r\n      <g>\r\n       <use style=\"stroke:#000000;stroke-width:0.8;\" x=\"296.876307\" xlink:href=\"#mba636fb921\" y=\"224.64\"/>\r\n      </g>\r\n     </g>\r\n     <g id=\"text_5\">\r\n      <!-- 2000 -->\r\n      <defs>\r\n       <path d=\"M 19.1875 8.296875 \r\nL 53.609375 8.296875 \r\nL 53.609375 0 \r\nL 7.328125 0 \r\nL 7.328125 8.296875 \r\nQ 12.9375 14.109375 22.625 23.890625 \r\nQ 32.328125 33.6875 34.8125 36.53125 \r\nQ 39.546875 41.84375 41.421875 45.53125 \r\nQ 43.3125 49.21875 43.3125 52.78125 \r\nQ 43.3125 58.59375 39.234375 62.25 \r\nQ 35.15625 65.921875 28.609375 65.921875 \r\nQ 23.96875 65.921875 18.8125 64.3125 \r\nQ 13.671875 62.703125 7.8125 59.421875 \r\nL 7.8125 69.390625 \r\nQ 13.765625 71.78125 18.9375 73 \r\nQ 24.125 74.21875 28.421875 74.21875 \r\nQ 39.75 74.21875 46.484375 68.546875 \r\nQ 53.21875 62.890625 53.21875 53.421875 \r\nQ 53.21875 48.921875 51.53125 44.890625 \r\nQ 49.859375 40.875 45.40625 35.40625 \r\nQ 44.1875 33.984375 37.640625 27.21875 \r\nQ 31.109375 20.453125 19.1875 8.296875 \r\nz\r\n\" id=\"DejaVuSans-50\"/>\r\n      </defs>\r\n      <g transform=\"translate(284.151307 239.238437)scale(0.1 -0.1)\">\r\n       <use xlink:href=\"#DejaVuSans-50\"/>\r\n       <use x=\"63.623047\" xlink:href=\"#DejaVuSans-48\"/>\r\n       <use x=\"127.246094\" xlink:href=\"#DejaVuSans-48\"/>\r\n       <use x=\"190.869141\" xlink:href=\"#DejaVuSans-48\"/>\r\n      </g>\r\n     </g>\r\n    </g>\r\n    <g id=\"xtick_6\">\r\n     <g id=\"line2d_6\">\r\n      <g>\r\n       <use style=\"stroke:#000000;stroke-width:0.8;\" x=\"357.68329\" xlink:href=\"#mba636fb921\" y=\"224.64\"/>\r\n      </g>\r\n     </g>\r\n     <g id=\"text_6\">\r\n      <!-- 2500 -->\r\n      <g transform=\"translate(344.95829 239.238437)scale(0.1 -0.1)\">\r\n       <use xlink:href=\"#DejaVuSans-50\"/>\r\n       <use x=\"63.623047\" xlink:href=\"#DejaVuSans-53\"/>\r\n       <use x=\"127.246094\" xlink:href=\"#DejaVuSans-48\"/>\r\n       <use x=\"190.869141\" xlink:href=\"#DejaVuSans-48\"/>\r\n      </g>\r\n     </g>\r\n    </g>\r\n   </g>\r\n   <g id=\"matplotlib.axis_2\">\r\n    <g id=\"ytick_1\">\r\n     <g id=\"line2d_7\">\r\n      <defs>\r\n       <path d=\"M 0 0 \r\nL -3.5 0 \r\n\" id=\"m5fa1b5dee6\" style=\"stroke:#000000;stroke-width:0.8;\"/>\r\n      </defs>\r\n      <g>\r\n       <use style=\"stroke:#000000;stroke-width:0.8;\" x=\"39.65\" xlink:href=\"#m5fa1b5dee6\" y=\"215.294664\"/>\r\n      </g>\r\n     </g>\r\n     <g id=\"text_7\">\r\n      <!-- 0 -->\r\n      <g transform=\"translate(26.2875 219.093883)scale(0.1 -0.1)\">\r\n       <use xlink:href=\"#DejaVuSans-48\"/>\r\n      </g>\r\n     </g>\r\n    </g>\r\n    <g id=\"ytick_2\">\r\n     <g id=\"line2d_8\">\r\n      <g>\r\n       <use style=\"stroke:#000000;stroke-width:0.8;\" x=\"39.65\" xlink:href=\"#m5fa1b5dee6\" y=\"184.478273\"/>\r\n      </g>\r\n     </g>\r\n     <g id=\"text_8\">\r\n      <!-- 500 -->\r\n      <g transform=\"translate(13.5625 188.277492)scale(0.1 -0.1)\">\r\n       <use xlink:href=\"#DejaVuSans-53\"/>\r\n       <use x=\"63.623047\" xlink:href=\"#DejaVuSans-48\"/>\r\n       <use x=\"127.246094\" xlink:href=\"#DejaVuSans-48\"/>\r\n      </g>\r\n     </g>\r\n    </g>\r\n    <g id=\"ytick_3\">\r\n     <g id=\"line2d_9\">\r\n      <g>\r\n       <use style=\"stroke:#000000;stroke-width:0.8;\" x=\"39.65\" xlink:href=\"#m5fa1b5dee6\" y=\"153.661882\"/>\r\n      </g>\r\n     </g>\r\n     <g id=\"text_9\">\r\n      <!-- 1000 -->\r\n      <g transform=\"translate(7.2 157.461101)scale(0.1 -0.1)\">\r\n       <use xlink:href=\"#DejaVuSans-49\"/>\r\n       <use x=\"63.623047\" xlink:href=\"#DejaVuSans-48\"/>\r\n       <use x=\"127.246094\" xlink:href=\"#DejaVuSans-48\"/>\r\n       <use x=\"190.869141\" xlink:href=\"#DejaVuSans-48\"/>\r\n      </g>\r\n     </g>\r\n    </g>\r\n    <g id=\"ytick_4\">\r\n     <g id=\"line2d_10\">\r\n      <g>\r\n       <use style=\"stroke:#000000;stroke-width:0.8;\" x=\"39.65\" xlink:href=\"#m5fa1b5dee6\" y=\"122.845491\"/>\r\n      </g>\r\n     </g>\r\n     <g id=\"text_10\">\r\n      <!-- 1500 -->\r\n      <g transform=\"translate(7.2 126.64471)scale(0.1 -0.1)\">\r\n       <use xlink:href=\"#DejaVuSans-49\"/>\r\n       <use x=\"63.623047\" xlink:href=\"#DejaVuSans-53\"/>\r\n       <use x=\"127.246094\" xlink:href=\"#DejaVuSans-48\"/>\r\n       <use x=\"190.869141\" xlink:href=\"#DejaVuSans-48\"/>\r\n      </g>\r\n     </g>\r\n    </g>\r\n    <g id=\"ytick_5\">\r\n     <g id=\"line2d_11\">\r\n      <g>\r\n       <use style=\"stroke:#000000;stroke-width:0.8;\" x=\"39.65\" xlink:href=\"#m5fa1b5dee6\" y=\"92.0291\"/>\r\n      </g>\r\n     </g>\r\n     <g id=\"text_11\">\r\n      <!-- 2000 -->\r\n      <g transform=\"translate(7.2 95.828318)scale(0.1 -0.1)\">\r\n       <use xlink:href=\"#DejaVuSans-50\"/>\r\n       <use x=\"63.623047\" xlink:href=\"#DejaVuSans-48\"/>\r\n       <use x=\"127.246094\" xlink:href=\"#DejaVuSans-48\"/>\r\n       <use x=\"190.869141\" xlink:href=\"#DejaVuSans-48\"/>\r\n      </g>\r\n     </g>\r\n    </g>\r\n    <g id=\"ytick_6\">\r\n     <g id=\"line2d_12\">\r\n      <g>\r\n       <use style=\"stroke:#000000;stroke-width:0.8;\" x=\"39.65\" xlink:href=\"#m5fa1b5dee6\" y=\"61.212709\"/>\r\n      </g>\r\n     </g>\r\n     <g id=\"text_12\">\r\n      <!-- 2500 -->\r\n      <g transform=\"translate(7.2 65.011927)scale(0.1 -0.1)\">\r\n       <use xlink:href=\"#DejaVuSans-50\"/>\r\n       <use x=\"63.623047\" xlink:href=\"#DejaVuSans-53\"/>\r\n       <use x=\"127.246094\" xlink:href=\"#DejaVuSans-48\"/>\r\n       <use x=\"190.869141\" xlink:href=\"#DejaVuSans-48\"/>\r\n      </g>\r\n     </g>\r\n    </g>\r\n    <g id=\"ytick_7\">\r\n     <g id=\"line2d_13\">\r\n      <g>\r\n       <use style=\"stroke:#000000;stroke-width:0.8;\" x=\"39.65\" xlink:href=\"#m5fa1b5dee6\" y=\"30.396317\"/>\r\n      </g>\r\n     </g>\r\n     <g id=\"text_13\">\r\n      <!-- 3000 -->\r\n      <defs>\r\n       <path d=\"M 40.578125 39.3125 \r\nQ 47.65625 37.796875 51.625 33 \r\nQ 55.609375 28.21875 55.609375 21.1875 \r\nQ 55.609375 10.40625 48.1875 4.484375 \r\nQ 40.765625 -1.421875 27.09375 -1.421875 \r\nQ 22.515625 -1.421875 17.65625 -0.515625 \r\nQ 12.796875 0.390625 7.625 2.203125 \r\nL 7.625 11.71875 \r\nQ 11.71875 9.328125 16.59375 8.109375 \r\nQ 21.484375 6.890625 26.8125 6.890625 \r\nQ 36.078125 6.890625 40.9375 10.546875 \r\nQ 45.796875 14.203125 45.796875 21.1875 \r\nQ 45.796875 27.640625 41.28125 31.265625 \r\nQ 36.765625 34.90625 28.71875 34.90625 \r\nL 20.21875 34.90625 \r\nL 20.21875 43.015625 \r\nL 29.109375 43.015625 \r\nQ 36.375 43.015625 40.234375 45.921875 \r\nQ 44.09375 48.828125 44.09375 54.296875 \r\nQ 44.09375 59.90625 40.109375 62.90625 \r\nQ 36.140625 65.921875 28.71875 65.921875 \r\nQ 24.65625 65.921875 20.015625 65.03125 \r\nQ 15.375 64.15625 9.8125 62.3125 \r\nL 9.8125 71.09375 \r\nQ 15.4375 72.65625 20.34375 73.4375 \r\nQ 25.25 74.21875 29.59375 74.21875 \r\nQ 40.828125 74.21875 47.359375 69.109375 \r\nQ 53.90625 64.015625 53.90625 55.328125 \r\nQ 53.90625 49.265625 50.4375 45.09375 \r\nQ 46.96875 40.921875 40.578125 39.3125 \r\nz\r\n\" id=\"DejaVuSans-51\"/>\r\n      </defs>\r\n      <g transform=\"translate(7.2 34.195536)scale(0.1 -0.1)\">\r\n       <use xlink:href=\"#DejaVuSans-51\"/>\r\n       <use x=\"63.623047\" xlink:href=\"#DejaVuSans-48\"/>\r\n       <use x=\"127.246094\" xlink:href=\"#DejaVuSans-48\"/>\r\n       <use x=\"190.869141\" xlink:href=\"#DejaVuSans-48\"/>\r\n      </g>\r\n     </g>\r\n    </g>\r\n   </g>\r\n   <g id=\"patch_3\">\r\n    <path d=\"M 39.65 224.64 \r\nL 39.65 7.2 \r\n\" style=\"fill:none;stroke:#000000;stroke-linecap:square;stroke-linejoin:miter;stroke-width:0.8;\"/>\r\n   </g>\r\n   <g id=\"patch_4\">\r\n    <path d=\"M 374.45 224.64 \r\nL 374.45 7.2 \r\n\" style=\"fill:none;stroke:#000000;stroke-linecap:square;stroke-linejoin:miter;stroke-width:0.8;\"/>\r\n   </g>\r\n   <g id=\"patch_5\">\r\n    <path d=\"M 39.65 224.64 \r\nL 374.45 224.64 \r\n\" style=\"fill:none;stroke:#000000;stroke-linecap:square;stroke-linejoin:miter;stroke-width:0.8;\"/>\r\n   </g>\r\n   <g id=\"patch_6\">\r\n    <path d=\"M 39.65 7.2 \r\nL 374.45 7.2 \r\n\" style=\"fill:none;stroke:#000000;stroke-linecap:square;stroke-linejoin:miter;stroke-width:0.8;\"/>\r\n   </g>\r\n  </g>\r\n </g>\r\n <defs>\r\n  <clipPath id=\"pea0484ea92\">\r\n   <rect height=\"217.44\" width=\"334.8\" x=\"39.65\" y=\"7.2\"/>\r\n  </clipPath>\r\n </defs>\r\n</svg>\r\n",
      "text/plain": "<Figure size 432x288 with 1 Axes>"
     },
     "metadata": {
      "needs_background": "light"
     },
     "output_type": "display_data"
    }
   ],
   "source": [
    "plt.scatter(predicted_values, real_values, color='blue')"
   ]
  },
  {
   "cell_type": "code",
   "execution_count": 137,
   "metadata": {},
   "outputs": [
    {
     "name": "stdout",
     "output_type": "stream",
     "text": "P-value for significance:  0.9416302983771845\nTTEST:  0.0732857759935708\nConclusion: Accept Null Hypothesis\nP-value for significance:  0.9380321614211329\nTTEST:  0.0778122919170565\nConclusion: Accept Null Hypothesis\nP-value for significance:  0.9432189263724857\nTTEST:  0.0712877405702907\nConclusion: Accept Null Hypothesis\nP-value for significance:  0.838255704446101\nTTEST:  0.2043124171263797\nConclusion: Accept Null Hypothesis\nP-value for significance:  0.9748071938113151\nTTEST:  0.031607587392206274\nConclusion: Accept Null Hypothesis\nP-value for significance:  0.8521326439350456\nTTEST:  0.1865678905356745\nConclusion: Accept Null Hypothesis\nMean P-Value:  0.9146794880605441\nMean T-Value:  0.10747895058919642\n"
    }
   ],
   "source": [
    "from scipy import stats\n",
    "from statsmodels.stats import weightstats as stets\n",
    "\n",
    "p_values = []\n",
    "t_values = []\n",
    "\n",
    "for i in range(6):\n",
    "    ttest, pval = stats.ttest_ind(real_set[:, i], predicted_set[:, i])\n",
    "    print(\"P-value for significance: \", pval)\n",
    "    print(\"TTEST: \", ttest)\n",
    "    p_values.append(pval)\n",
    "    t_values.append(ttest)\n",
    "\n",
    "    if pval<0.05:\n",
    "        print(\"Conclusion: Reject Null Hypothesis\")\n",
    "    else:\n",
    "        print(\"Conclusion: Accept Null Hypothesis\")\n",
    "\n",
    "print(\"Mean P-Value: \", np.mean(p_values))\n",
    "print(\"Mean T-Value: \", np.mean(t_values))"
   ]
  },
  {
   "cell_type": "code",
   "execution_count": null,
   "metadata": {},
   "outputs": [],
   "source": [
    "dataset = pd.read_csv('breast/breast.csv')\n",
    "array = np.array(['radius_mean', 'perimeter_mean', 'area_mean', 'radius_worst', 'perimeter_worst', 'area_worst'])\n",
    "filtered_data = dataset[array]\n",
    "filtered_data"
   ]
  },
  {
   "cell_type": "code",
   "execution_count": null,
   "metadata": {},
   "outputs": [],
   "source": [
    "np.set_printoptions(precision=4, suppress=True)\n",
    "scaled_set = scaler.fit_transform(filtered_data.to_numpy())\n",
    "scaled_set"
   ]
  },
  {
   "cell_type": "code",
   "execution_count": null,
   "metadata": {},
   "outputs": [],
   "source": [
    "missing_data = fill_nan(scaled_set, scaled_set.size*0.2)\n",
    "\n",
    "input_tensor = torch.from_numpy(missing_data)\n",
    "input_tensor = input_tensor.view(input_tensor.shape[0], NUM_FEATURES)"
   ]
  },
  {
   "cell_type": "code",
   "execution_count": 39,
   "metadata": {},
   "outputs": [
    {
     "data": {
      "text/plain": "tensor([[ 0.6767,  0.6652,  0.4957,  0.6209,  0.6213,  0.4340],\n        [ 0.6617,  0.6589,  0.4991,  0.6331,  0.5989,  0.4400],\n        [ 0.3974,  0.3961,  0.2622,  0.3637,  0.3270,  0.2225],\n        ...,\n        [ 0.4296,  0.4286,  0.3109,  0.4001,  0.3859,  0.2512],\n        [ 0.5644,  0.5569,  0.4080,  0.5235,  0.5057,  0.3541],\n        [ 0.1237,  0.1187,  0.0298,  0.0821,  0.0679, -0.0010]],\n       dtype=torch.float64, grad_fn=<AddmmBackward>)"
     },
     "execution_count": 39,
     "metadata": {},
     "output_type": "execute_result"
    }
   ],
   "source": [
    "new_dataset = my_model(input_tensor.double())\n",
    "torch.set_printoptions(precision=4, sci_mode=False)\n",
    "new_dataset = scaler.inverse_transform(new_dataset.detach().numpy())\n",
    "new_dataset"
   ]
  },
  {
   "cell_type": "code",
   "execution_count": 55,
   "metadata": {},
   "outputs": [],
   "source": [
    "real_dataset = filtered_data.to_numpy()"
   ]
  },
  {
   "cell_type": "code",
   "execution_count": 62,
   "metadata": {},
   "outputs": [
    {
     "name": "stdout",
     "output_type": "stream",
     "text": "(0.9978552814938108, 0.0)\n(0.9453786462552797, 3.343434346388964e-278)\n"
    }
   ],
   "source": [
    "print(scipy.stats.pearsonr(real_dataset[:, 0], real_dataset[:, 1]))\n",
    "print(scipy.stats.pearsonr(real_dataset[:, 0], new_dataset[:, 1]))"
   ]
  },
  {
   "cell_type": "code",
   "execution_count": 63,
   "metadata": {},
   "outputs": [
    {
     "name": "stdout",
     "output_type": "stream",
     "text": "(0.9873571700566124, 0.0)\n(0.9483294771934577, 7.439654388571332e-285)\n"
    }
   ],
   "source": [
    "print(scipy.stats.pearsonr(real_dataset[:, 0], real_dataset[:, 2]))\n",
    "print(scipy.stats.pearsonr(real_dataset[:, 0], new_dataset[:, 2]))"
   ]
  },
  {
   "cell_type": "code",
   "execution_count": 64,
   "metadata": {},
   "outputs": [
    {
     "name": "stdout",
     "output_type": "stream",
     "text": "(0.9695389726112063, 0.0)\n(0.9484417182646606, 4.081794241280509e-285)\n"
    }
   ],
   "source": [
    "print(scipy.stats.pearsonr(real_dataset[:, 0], real_dataset[:, 3]))\n",
    "print(scipy.stats.pearsonr(real_dataset[:, 0], new_dataset[:, 3]))"
   ]
  },
  {
   "cell_type": "code",
   "execution_count": 65,
   "metadata": {},
   "outputs": [
    {
     "name": "stdout",
     "output_type": "stream",
     "text": "(0.9651365139559875, 0.0)\n(0.9448805305620419, 4.079523599935882e-277)\n"
    }
   ],
   "source": [
    "print(scipy.stats.pearsonr(real_dataset[:, 0], real_dataset[:, 4]))\n",
    "print(scipy.stats.pearsonr(real_dataset[:, 0], new_dataset[:, 4]))"
   ]
  },
  {
   "cell_type": "code",
   "execution_count": 66,
   "metadata": {},
   "outputs": [
    {
     "name": "stdout",
     "output_type": "stream",
     "text": "(0.9410824595860467, 3.767446784305406e-269)\n(0.9483678761118814, 6.059396608737617e-285)\n"
    }
   ],
   "source": [
    "print(scipy.stats.pearsonr(real_dataset[:, 0], real_dataset[:, 5]))\n",
    "print(scipy.stats.pearsonr(real_dataset[:, 0], new_dataset[:, 5]))"
   ]
  },
  {
   "cell_type": "code",
   "execution_count": 234,
   "metadata": {},
   "outputs": [],
   "source": [
    "#np.savetxt('new_breast.csv', new_dataset)"
   ]
  },
  {
   "cell_type": "code",
   "execution_count": null,
   "metadata": {},
   "outputs": [],
   "source": []
  }
 ]
}