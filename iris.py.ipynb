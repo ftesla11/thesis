{
 "cells": [
  {
   "cell_type": "code",
   "execution_count": 1,
   "metadata": {},
   "outputs": [
    {
     "data": {
      "text/plain": "(38, 4)"
     },
     "execution_count": 1,
     "metadata": {},
     "output_type": "execute_result"
    }
   ],
   "source": [
    "# Simple classifier of flowers\n",
    "\n",
    "import sklearn\n",
    "import numpy as np\n",
    "import matplotlib.pyplot as plt\n",
    "from sklearn.datasets import load_iris\n",
    "from sklearn.model_selection import train_test_split\n",
    " \n",
    "iris = load_iris() #load the iris data set\n",
    "iris_keys = iris.keys() #get keys of the dataset\n",
    "\n",
    "#x_train and x_test contain 75% data and 25% respectively, y contains the labels\n",
    "x_train, x_test, y_train, y_test = train_test_split(iris['data'], iris['target'], random_state=0)\n",
    "\n",
    "\n",
    "x_train.shape #prints (a,b) with a being number of samples and b the number of features\n",
    "x_test.shape\n",
    "\n",
    "#print(iris['data'][:5])"
   ]
  },
  {
   "cell_type": "code",
   "execution_count": 2,
   "metadata": {},
   "outputs": [],
   "source": [
    "# fig, ax = plt.subplots(3, 3, figsize=(15, 15))\n",
    "# plt.suptitle(\"iris_pairplot\")\n",
    "# for i in range(3):\n",
    "#     for j in range(3):\n",
    "#         ax[i, j].scatter(x_train[:, j], x_train[:, i + 1], c=y_train, s=60)\n",
    "#         ax[i, j].set_xticks(())\n",
    "#         ax[i, j].set_yticks(())\n",
    "#     if i == 2:\n",
    "#         ax[i, j].set_xlabel(iris['feature_names'][j])\n",
    "#     if j == 0:\n",
    "#         ax[i, j].set_ylabel(iris['feature_names'][i + 1])\n",
    "#     if j > i:\n",
    "#         ax[i, j].set_visible(False)\n"
   ]
  },
  {
   "cell_type": "code",
   "execution_count": 3,
   "metadata": {},
   "outputs": [
    {
     "data": {
      "text/plain": "KNeighborsClassifier(algorithm='auto', leaf_size=30, metric='minkowski',\n                     metric_params=None, n_jobs=None, n_neighbors=1, p=2,\n                     weights='uniform')"
     },
     "execution_count": 3,
     "metadata": {},
     "output_type": "execute_result"
    }
   ],
   "source": [
    "from sklearn.neighbors import KNeighborsClassifier\n",
    "from sklearn.linear_model import LogisticRegression\n",
    "\n",
    "lr = LogisticRegression()\n",
    "lr.fit(x_train, y_train)\n",
    "\n",
    "knn = KNeighborsClassifier(n_neighbors=1) #set 1 neighbor for the classifier model\n",
    "knn.fit(x_train, y_train) #set the data and labels for training into the algorithm"
   ]
  },
  {
   "cell_type": "code",
   "execution_count": 4,
   "metadata": {},
   "outputs": [
    {
     "data": {
      "text/plain": "0.9736842105263158"
     },
     "execution_count": 4,
     "metadata": {},
     "output_type": "execute_result"
    }
   ],
   "source": [
    "pred = knn.predict(x_test) #manually calculating the score\n",
    "np.mean(pred == y_test)\n",
    "\n"
   ]
  },
  {
   "cell_type": "code",
   "execution_count": 5,
   "metadata": {},
   "outputs": [
    {
     "data": {
      "text/plain": "0.9736842105263158"
     },
     "execution_count": 5,
     "metadata": {},
     "output_type": "execute_result"
    }
   ],
   "source": [
    "knn.score(x_test,y_test) #get the accuracy of the score using object of knn"
   ]
  },
  {
   "cell_type": "code",
   "execution_count": 6,
   "metadata": {},
   "outputs": [
    {
     "data": {
      "text/plain": "array([[5.1       , 3.5       , 1.4       , 0.21944007],\n       [4.9       , 3.        , 1.4       , 0.18821708],\n       [4.7       , 3.2       , 1.3       , 0.17604579],\n       [4.6       , 3.1       , 1.5       , 0.26263878],\n       [5.        , 3.6       , 1.4       , 0.235511  ],\n       [5.4       , 3.9       , 1.7       , 0.36753158],\n       [4.6       , 3.4       , 1.4       , 0.24548199],\n       [5.        , 3.4       , 1.5       , 0.26171991],\n       [4.4       , 2.9       , 1.4       , 0.214259  ],\n       [4.9       , 3.1       , 1.5       , 0.24158235],\n       [5.4       , 3.7       , 1.5       , 0.26080103],\n       [4.8       , 3.4       , 1.6       , 0.32007068],\n       [4.8       , 3.        , 1.4       , 0.19523589],\n       [4.3       , 3.        , 1.1       , 0.09739048],\n       [5.8       , 4.        , 1.2       , 0.12694271],\n       [5.7       , 4.4       , 1.5       , 0.30310945],\n       [5.4       , 3.9       , 1.3       , 0.19027897],\n       [5.1       , 3.5       , 1.4       , 0.21944007],\n       [5.7       , 3.8       , 1.7       , 0.33742303],\n       [5.1       , 3.8       , 1.5       , 0.29090958],\n       [5.4       , 3.4       , 1.7       , 0.32227097],\n       [5.1       , 3.7       , 1.5       , 0.28185746],\n       [4.6       , 3.6       , 1.        , 0.08633362],\n       [5.1       , 3.3       , 1.7       , 0.33427528],\n       [4.8       , 3.4       , 1.9       , 0.45301013],\n       [5.        , 3.        , 1.6       , 0.26982457],\n       [5.        , 3.4       , 1.6       , 0.30603306],\n       [5.2       , 3.5       , 1.5       , 0.25673441],\n       [5.2       , 3.4       , 1.4       , 0.20336914],\n       [4.7       , 3.2       , 1.6       , 0.30898524],\n       [4.8       , 3.1       , 1.6       , 0.29291431],\n       [5.4       , 3.4       , 1.5       , 0.23364467],\n       [5.2       , 4.1       , 1.5       , 0.31104713],\n       [5.5       , 4.2       , 1.4       , 0.25472968],\n       [4.9       , 3.1       , 1.5       , 0.24158235],\n       [5.        , 3.2       , 1.2       , 0.11067621],\n       [5.5       , 3.5       , 1.3       , 0.14705168],\n       [4.9       , 3.6       , 1.4       , 0.2425298 ],\n       [4.4       , 3.        , 1.3       , 0.17899797],\n       [5.1       , 3.4       , 1.5       , 0.2547011 ],\n       [5.        , 3.5       , 1.3       , 0.18214572],\n       [4.5       , 2.3       , 1.3       , 0.10861432],\n       [4.4       , 3.2       , 1.3       , 0.19710221],\n       [5.        , 3.5       , 1.6       , 0.31508518],\n       [5.1       , 3.8       , 1.9       , 0.46816219],\n       [4.8       , 3.        , 1.4       , 0.19523589],\n       [5.1       , 3.8       , 1.6       , 0.33522273],\n       [4.6       , 3.2       , 1.4       , 0.22737775],\n       [5.3       , 3.7       , 1.5       , 0.26781984],\n       [5.        , 3.3       , 1.4       , 0.20835463],\n       [7.        , 3.2       , 4.7       , 1.52126034],\n       [6.4       , 3.2       , 4.5       , 1.47474689],\n       [6.9       , 3.1       , 4.9       , 1.60785334],\n       [5.5       , 2.3       , 4.        , 1.23488132],\n       [6.5       , 2.8       , 4.6       , 1.47583275],\n       [5.7       , 2.8       , 4.5       , 1.48767007],\n       [6.3       , 3.3       , 4.7       , 1.57944413],\n       [4.9       , 2.4       , 3.3       , 0.97585424],\n       [6.6       , 2.9       , 4.6       , 1.47786606],\n       [5.2       , 2.7       , 3.9       , 1.24783308],\n       [5.        , 2.        , 3.5       , 1.02125325],\n       [5.9       , 3.        , 4.2       , 1.35879724],\n       [6.        , 2.2       , 4.        , 1.19073516],\n       [6.1       , 2.9       , 4.7       , 1.55727326],\n       [5.6       , 2.9       , 3.6       , 1.10492263],\n       [6.7       , 3.1       , 4.4       , 1.40032519],\n       [5.6       , 3.        , 4.5       , 1.51279312],\n       [5.8       , 2.7       , 4.1       , 1.29434653],\n       [6.2       , 2.2       , 4.5       , 1.3982633 ],\n       [5.6       , 2.5       , 3.9       , 1.20165361],\n       [5.9       , 3.2       , 4.8       , 1.64278039],\n       [6.1       , 2.8       , 4.        , 1.23802908],\n       [6.3       , 2.5       , 4.9       , 1.59565346],\n       [6.1       , 2.8       , 4.7       , 1.54822114],\n       [6.4       , 2.9       , 4.3       , 1.35896423],\n       [6.6       , 3.        , 4.4       , 1.39829188],\n       [6.8       , 2.8       , 4.8       , 1.54340263],\n       [6.7       , 3.        , 5.        , 1.65715198],\n       [6.        , 2.9       , 4.5       , 1.47566577],\n       [5.7       , 2.6       , 3.5       , 1.02643431],\n       [5.5       , 2.4       , 3.8       , 1.15530714],\n       [5.5       , 2.4       , 3.7       , 1.11099399],\n       [5.8       , 2.7       , 3.9       , 1.20572023],\n       [6.        , 2.7       , 5.1       , 1.72344043],\n       [5.4       , 3.        , 4.5       , 1.52683074],\n       [6.        , 3.4       , 4.5       , 1.52092637],\n       [6.7       , 3.1       , 4.7       , 1.53326465],\n       [6.3       , 2.3       , 4.4       , 1.35598346],\n       [5.6       , 3.        , 4.1       , 1.33554051],\n       [5.5       , 2.5       , 4.        , 1.25298557],\n       [5.5       , 2.6       , 4.4       , 1.43929029],\n       [6.1       , 3.        , 4.6       , 1.52201223],\n       [5.8       , 2.6       , 4.        , 1.24098126],\n       [5.        , 2.3       , 3.3       , 0.95978331],\n       [5.6       , 2.7       , 4.2       , 1.3526973 ],\n       [5.7       , 3.        , 4.2       , 1.37283486],\n       [5.7       , 2.9       , 4.2       , 1.36378274],\n       [6.2       , 2.9       , 4.3       , 1.37300184],\n       [5.1       , 2.5       , 3.        , 0.83792928],\n       [5.7       , 2.8       , 4.1       , 1.31041746],\n       [6.3       , 3.3       , 6.        , 2.1555151 ],\n       [5.8       , 2.7       , 5.1       , 1.73747805],\n       [7.1       , 3.        , 5.9       , 2.02789511],\n       [6.3       , 2.9       , 5.6       , 1.94205401],\n       [6.5       , 3.        , 5.8       , 2.02569481],\n       [7.6       , 3.        , 6.6       , 2.30299313],\n       [4.9       , 2.5       , 4.5       , 1.51666418],\n       [7.3       , 2.9       , 6.3       , 2.18205798],\n       [6.7       , 2.5       , 5.8       , 1.96639659],\n       [7.2       , 3.6       , 6.1       , 2.16381533],\n       [6.5       , 3.2       , 5.1       , 1.73360699],\n       [6.4       , 2.7       , 5.3       , 1.7839915 ],\n       [6.8       , 3.        , 5.5       , 1.87169893],\n       [5.7       , 2.5       , 5.        , 1.68207947],\n       [5.8       , 2.8       , 5.1       , 1.74653017],\n       [6.4       , 3.2       , 5.3       , 1.82925211],\n       [6.5       , 3.        , 5.5       , 1.89275536],\n       [7.7       , 3.8       , 6.7       , 2.41270444],\n       [7.7       , 2.6       , 6.9       , 2.3927053 ],\n       [6.        , 2.2       , 5.        , 1.63386668],\n       [6.9       , 3.2       , 5.7       , 1.97141067],\n       [5.6       , 2.8       , 4.9       , 1.67194149],\n       [7.7       , 2.8       , 6.7       , 2.32218323],\n       [6.3       , 2.7       , 4.9       , 1.6137577 ],\n       [6.7       , 3.3       , 5.7       , 1.99450041],\n       [7.2       , 3.2       , 6.        , 2.0832937 ],\n       [6.2       , 2.8       , 4.8       , 1.58551548],\n       [6.1       , 3.        , 4.9       , 1.65495168],\n       [6.4       , 2.8       , 5.6       , 1.92598308],\n       [7.2       , 3.        , 5.8       , 1.97656315],\n       [7.4       , 2.8       , 6.1       , 2.07736075],\n       [7.9       , 3.8       , 6.4       , 2.26572737],\n       [6.4       , 2.8       , 5.6       , 1.92598308],\n       [6.3       , 2.8       , 5.1       , 1.71143613],\n       [6.1       , 2.6       , 5.6       , 1.92893526],\n       [7.7       , 3.        , 6.1       , 2.07440857],\n       [6.3       , 3.4       , 5.6       , 1.98731461],\n       [6.4       , 3.1       , 5.5       , 1.90882629],\n       [6.        , 3.        , 4.8       , 1.61765734],\n       [6.9       , 3.1       , 5.4       , 1.82941909],\n       [6.7       , 3.1       , 5.6       , 1.93208301],\n       [6.9       , 3.1       , 5.1       , 1.69647964],\n       [5.8       , 2.7       , 5.1       , 1.73747805],\n       [6.8       , 3.2       , 5.9       , 2.06705578],\n       [6.7       , 3.3       , 5.7       , 1.99450041],\n       [6.7       , 3.        , 5.2       , 1.74577829],\n       [6.3       , 2.5       , 5.        , 1.63996661],\n       [6.5       , 3.        , 5.2       , 1.7598159 ],\n       [6.2       , 3.4       , 5.4       , 1.90570712],\n       [5.9       , 3.        , 5.1       , 1.7576156 ]])"
     },
     "execution_count": 6,
     "metadata": {},
     "output_type": "execute_result"
    }
   ],
   "source": [
    "new_dataset = np.loadtxt(\"first_iris.csv\")\n",
    "new_dataset"
   ]
  },
  {
   "cell_type": "code",
   "execution_count": 7,
   "metadata": {},
   "outputs": [],
   "source": [
    "test_classifier = KNeighborsClassifier(n_neighbors=1)\n",
    "\n",
    "x_train, x_test, y_train, y_test = train_test_split(new_dataset, iris['target'], random_state=0)"
   ]
  },
  {
   "cell_type": "code",
   "execution_count": 8,
   "metadata": {},
   "outputs": [
    {
     "data": {
      "text/plain": "0.9736842105263158"
     },
     "execution_count": 8,
     "metadata": {},
     "output_type": "execute_result"
    }
   ],
   "source": [
    "test_classifier.fit(x_train, y_train)\n",
    "\n",
    "test_classifier.score(x_test, y_test)"
   ]
  },
  {
   "cell_type": "code",
   "execution_count": null,
   "metadata": {},
   "outputs": [],
   "source": []
  }
 ],
 "metadata": {
  "kernelspec": {
   "display_name": "Python 3.7.3 64-bit ('base': conda)",
   "language": "python",
   "name": "python37364bitbasecondad424485431ff4a8aa076a99cfa3fb48c"
  },
  "language_info": {
   "codemirror_mode": {
    "name": "ipython",
    "version": 3
   },
   "file_extension": ".py",
   "mimetype": "text/x-python",
   "name": "python",
   "nbconvert_exporter": "python",
   "pygments_lexer": "ipython3",
   "version": "3.7.3-final"
  }
 },
 "nbformat": 4,
 "nbformat_minor": 2
}